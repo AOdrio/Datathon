{
  "nbformat": 4,
  "nbformat_minor": 0,
  "metadata": {
    "colab": {
      "name": "Untitled2.ipynb",
      "provenance": [],
      "mount_file_id": "https://github.com/AOdrio/Datathon/blob/main/Prueba%20github.ipynb",
      "authorship_tag": "ABX9TyNZZQEOn5CsVsKBjQbxCbDv",
      "include_colab_link": true
    },
    "kernelspec": {
      "name": "python3",
      "display_name": "Python 3"
    },
    "language_info": {
      "name": "python"
    }
  },
  "cells": [
    {
      "cell_type": "markdown",
      "metadata": {
        "id": "view-in-github",
        "colab_type": "text"
      },
      "source": [
        "<a href=\"https://colab.research.google.com/github/AOdrio/Datathon/blob/main/bolaso%20en%20dos%20partes.ipynb\" target=\"_parent\"><img src=\"https://colab.research.google.com/assets/colab-badge.svg\" alt=\"Open In Colab\"/></a>"
      ]
    },
    {
      "cell_type": "code",
      "source": [
        "import pandas as pd\n",
        "import numpy as np\n",
        "\n",
        "import xgboost as xgb\n",
        "from matplotlib import pyplot as plt\n",
        "#import seaborn as sns \n",
        "\n",
        "from sklearn.model_selection import train_test_split\n",
        "from sklearn.metrics import mean_absolute_error\n",
        "from sklearn.metrics import mean_absolute_percentage_error as MAPE\n",
        "from sklearn.metrics import accuracy_score as ACC\n",
        "#from sklearn.pipeline import Pipeline\n",
        "#from sklearn.preprocessing import StandardScaler\n",
        "#from sklearn.ensemble import RandomForestRegressor\n",
        "#from sklearn.linear_model import LinearRegression as LR\n",
        "#from sklearn.neighbors import KNeighborsRegressor as KNN\n",
        "\n",
        "SEED = 42"
      ],
      "metadata": {
        "id": "qilgKjKQHzSm"
      },
      "execution_count": 149,
      "outputs": []
    },
    {
      "cell_type": "markdown",
      "source": [
        ""
      ],
      "metadata": {
        "id": "N97V-xl6gCF7"
      }
    },
    {
      "cell_type": "code",
      "execution_count": 158,
      "metadata": {
        "id": "rvJX5DZi17KG"
      },
      "outputs": [],
      "source": [
        "url='https://drive.google.com/file/d/1KH1fB83JDAWcMRCHKFf9SmcGH7MQkupE/view?usp=sharing'\n",
        "url='https://drive.google.com/uc?id=' + url.split('/')[-2]\n",
        "df_original = pd.read_csv(url)"
      ]
    },
    {
      "cell_type": "code",
      "source": [
        "df_original.describe()"
      ],
      "metadata": {
        "id": "UaNH7Q_EgEpm"
      },
      "execution_count": null,
      "outputs": []
    },
    {
      "cell_type": "code",
      "source": [
        "y = df_original.pop(\"ingreso\")\n",
        "X = df_original.copy()\n",
        "\n",
        "X_train, X_val, y_train, y_val = train_test_split(X, y, test_size=0.2, random_state=SEED)"
      ],
      "metadata": {
        "id": "khk4o5HHHjJC"
      },
      "execution_count": 160,
      "outputs": []
    },
    {
      "cell_type": "code",
      "source": [
        "print('Todo: ',df_original.shape)\n",
        "print('Train:',X_train.shape)\n",
        "print('Test: ',X_val.shape)"
      ],
      "metadata": {
        "id": "JdClAMOQtgwf",
        "outputId": "ff1f8214-8336-48dd-f75e-6634e4baf619",
        "colab": {
          "base_uri": "https://localhost:8080/"
        }
      },
      "execution_count": 161,
      "outputs": [
        {
          "output_type": "stream",
          "name": "stdout",
          "text": [
            "Todo:  (40000, 24)\n",
            "Train: (32000, 24)\n",
            "Test:  (8000, 24)\n"
          ]
        }
      ]
    },
    {
      "cell_type": "code",
      "source": [
        "limite_ingreso = 100000\n",
        "\n",
        "df_y_train_class = pd.DataFrame(y_train, columns =['ingreso'])\n",
        "df_y_train_class ['class_ingreso'] = np.where(df_y_train_class.ingreso < limite_ingreso, 1, 0)"
      ],
      "metadata": {
        "id": "h7R858WGrFni"
      },
      "execution_count": 162,
      "outputs": []
    },
    {
      "cell_type": "code",
      "source": [
        "y_class = df_y_train_class.pop(\"class_ingreso\")\n",
        "X_class = X_train.copy()\n",
        "#X_class = X_class.drop(\"ingreso\",axis=1)\n",
        "\n",
        "X_class_train, X_class_test, y_class_train, y_class_test = train_test_split(X_class, y_class, test_size=0.2, random_state=SEED)"
      ],
      "metadata": {
        "id": "eXLVS8yAt_i9"
      },
      "execution_count": 163,
      "outputs": []
    },
    {
      "cell_type": "code",
      "source": [
        "def transfromar_DataFrame (df,edad_media, columns):\n",
        "  df = df.copy()\n",
        "  df = df.drop(df.columns[0],axis=1)\n",
        "  #Remplazar nulls de la edad con la media de la columna\n",
        "  df['edad'] = df['edad'].fillna(edad_media, inplace=False)\n",
        "\n",
        "  #Transformar categóricas en numéricas\n",
        "  df['peorcalificacionBCU'] = (df['peorcalificacionBCU'].\n",
        "                              str.replace('5','6').\n",
        "                              str.replace('4','5').\n",
        "                              str.replace('3','4').\n",
        "                              str.replace('2B','3').\n",
        "                              str.replace('2A','2').\n",
        "                              str.replace('1C','1').\n",
        "                              str.replace('1A','0'))\n",
        "  df['peorcalificacionBCU'] = pd.to_numeric(df['peorcalificacionBCU'], downcast='integer')\n",
        "  for column in columns:\n",
        "    df[column] = np.cbrt(df[column])\n",
        "    \n",
        "  return df"
      ],
      "metadata": {
        "id": "pEc-WwfqvN0k"
      },
      "execution_count": 164,
      "outputs": []
    },
    {
      "cell_type": "code",
      "source": [
        "edad_media = X_train['edad'].mean()\n",
        "columns =['vigente', 'vigenteAvg3M', 'vencido','vencidoAvg3M','avgcontingenciaU1M','avgcontingenciaU3M','sumcontingenciaU1M','sumcontingenciaU3M','maxcontingenciaU1M','maxcontingenciaU3M','garantiacomputable'] "
      ],
      "metadata": {
        "id": "WreD8SS_vNt0"
      },
      "execution_count": 165,
      "outputs": []
    },
    {
      "cell_type": "code",
      "source": [
        "X_class_train = transfromar_DataFrame(X_class_train,edad_media,columns)\n",
        "X_class_test = transfromar_DataFrame(X_class_test,edad_media,columns)"
      ],
      "metadata": {
        "id": "qTWnsuV8vTpp"
      },
      "execution_count": 166,
      "outputs": []
    },
    {
      "cell_type": "code",
      "source": [
        "xgb_classifier = xgb.XGBClassifier(\n",
        "            objective = \"binary:logistic\",\n",
        "            eval_metric = \"error\",\n",
        "            #tree_method = \"gpu_hist\",\n",
        "            booster = \"gbtree\",\n",
        "            random_state = SEED,\n",
        "            n_estimators = 1000,\n",
        "            learning_rate = 0.005,\n",
        "            max_depth = 11,\n",
        "            min_child_weight = 7,\n",
        "            subsample = 0.9,\n",
        "            colsample_bytree = 1,\n",
        "            colsample_bynode = 0.7,\n",
        "            colsample_bylevel = 0.8,\n",
        "            verbosity = 0,\n",
        "            n_jobs = -1,\n",
        "            )\n",
        "xgb_classifier.fit(X_class_train,y_class_train)\n",
        "preds_class = xgb_classifier.predict(X_class_test)\n",
        "ACC(y_class_test, preds_class)"
      ],
      "metadata": {
        "id": "Gjfw6fvdvTcM",
        "outputId": "05ead107-c787-45f9-f641-e83741002cd3",
        "colab": {
          "base_uri": "https://localhost:8080/"
        }
      },
      "execution_count": 167,
      "outputs": [
        {
          "output_type": "execute_result",
          "data": {
            "text/plain": [
              "0.93609375"
            ]
          },
          "metadata": {},
          "execution_count": 167
        }
      ]
    },
    {
      "cell_type": "code",
      "source": [
        "mask = y_train<limite_ingreso\n",
        "\n",
        "X_menor = X_train[mask]\n",
        "y_menor = y_train[mask]\n",
        "\n",
        "X_mayor = X_train[~mask]\n",
        "y_mayor = y_train[~mask]\n"
      ],
      "metadata": {
        "id": "1Y2kKqeHybAw"
      },
      "execution_count": 168,
      "outputs": []
    },
    {
      "cell_type": "code",
      "source": [
        "#y_menor = df_menor.pop(\"ingreso\")\n",
        "#X_menor = df_menor.copy()\n",
        "X_train_menor, X_test_menor, y_train_menor, y_test_menor = train_test_split(X_menor, y_menor, test_size=0.2, random_state=SEED)\n",
        "\n",
        "#edad_media_menor = X_train_menor['edad'].mean()\n",
        "#columns =['vigente', 'vigenteAvg3M', 'vencido','vencidoAvg3M','avgcontingenciaU1M','avgcontingenciaU3M','sumcontingenciaU1M','sumcontingenciaU3M','maxcontingenciaU1M','maxcontingenciaU3M','garantiacomputable'] \n",
        "\n",
        "X_train_menor = transfromar_DataFrame(X_train_menor,edad_media,columns)\n",
        "X_test_menor = transfromar_DataFrame(X_test_menor,edad_media,columns)\n",
        "y_train_menor = np.log(y_train_menor)"
      ],
      "metadata": {
        "id": "nuKpsmivv4CX"
      },
      "execution_count": 169,
      "outputs": []
    },
    {
      "cell_type": "code",
      "source": [
        "menor_xgb = xgb.XGBRegressor(\n",
        "            objective = \"reg:squarederror\",\n",
        "            eval_metric = \"mae\",\n",
        "            #tree_method = \"gpu_hist\",\n",
        "            booster = \"gbtree\",\n",
        "            random_state = SEED,\n",
        "            n_estimators = 1000,\n",
        "            learning_rate = 0.01,\n",
        "            max_depth = 11,\n",
        "            min_child_weight = 7,\n",
        "            subsample = 0.9,\n",
        "            colsample_bytree = 1,\n",
        "            colsample_bynode = 0.7,\n",
        "            colsample_bylevel = 0.8,\n",
        "            verbosity = 0,\n",
        "            n_jobs = -1,\n",
        "            )"
      ],
      "metadata": {
        "id": "CiRuSWWKv3_b"
      },
      "execution_count": 170,
      "outputs": []
    },
    {
      "cell_type": "code",
      "source": [
        "menor_xgb.fit(X_train_menor,y_train_menor)\n",
        "preds_xgb_menor = menor_xgb.predict(X_test_menor)\n",
        "preds_xgb_menor = np.exp(preds_xgb_menor)\n",
        "MAPE_xgb = MAPE(y_test_menor, preds_xgb_menor)\n",
        "print('MAPE_xgb:', round(100*MAPE_xgb, 2))"
      ],
      "metadata": {
        "id": "mBcCP7-C0YAo",
        "outputId": "e1f1c96d-1b26-4285-f036-c96bb8be712c",
        "colab": {
          "base_uri": "https://localhost:8080/"
        }
      },
      "execution_count": 171,
      "outputs": [
        {
          "output_type": "stream",
          "name": "stdout",
          "text": [
            "MAPE_xgb: 10.6\n"
          ]
        }
      ]
    },
    {
      "cell_type": "code",
      "source": [
        "#y_mayor = df_mayor.pop(\"ingreso\")\n",
        "#X_mayor = df_mayor.copy()\n",
        "X_train_mayor, X_test_mayor, y_train_mayor, y_test_mayor = train_test_split(X_mayor, y_mayor, test_size=0.2, random_state=SEED)\n",
        "\n",
        "#edad_media_mayor = X_train_mayor['edad'].mean()\n",
        "#columns =['vigente', 'vigenteAvg3M', 'vencido','vencidoAvg3M','avgcontingenciaU1M','avgcontingenciaU3M','sumcontingenciaU1M','sumcontingenciaU3M','maxcontingenciaU1M','maxcontingenciaU3M','garantiacomputable'] \n",
        "\n",
        "X_train_mayor = transfromar_DataFrame(X_train_mayor,edad_media,columns)\n",
        "X_test_mayor = transfromar_DataFrame(X_test_mayor,edad_media,columns)\n",
        "y_train_mayor = np.log(y_train_mayor)"
      ],
      "metadata": {
        "id": "b68SMhBK0X57"
      },
      "execution_count": 172,
      "outputs": []
    },
    {
      "cell_type": "code",
      "source": [
        "mayor_xgb = xgb.XGBRegressor(\n",
        "            objective = \"reg:squarederror\",\n",
        "            eval_metric = \"mae\",\n",
        "            #tree_method = \"gpu_hist\",\n",
        "            booster = \"gbtree\",\n",
        "            random_state = SEED,\n",
        "            n_estimators = 500,\n",
        "            learning_rate = 0.1,\n",
        "            max_depth = 9,\n",
        "            min_child_weight = 7,\n",
        "            subsample = 0.9,\n",
        "            colsample_bytree = 1,\n",
        "            colsample_bynode = 0.7,\n",
        "            colsample_bylevel = 0.8,\n",
        "            verbosity = 0,\n",
        "            n_jobs = -1,\n",
        "            )\n",
        "mayor_xgb.fit(X_train_mayor,y_train_mayor)\n",
        "preds_xgb_mayor = mayor_xgb.predict(X_test_mayor)\n",
        "preds_xgb_mayor = np.exp(preds_xgb_mayor)\n",
        "MAPE_xgb_mayor = MAPE(y_test_mayor, preds_xgb_mayor)\n",
        "print('MAPE_xgb_mayor:', round(100*MAPE_xgb, 2))"
      ],
      "metadata": {
        "id": "BXAqXbtN7j7g",
        "outputId": "f30605f0-563b-4c70-84c8-5cebc28ae1a2",
        "colab": {
          "base_uri": "https://localhost:8080/"
        }
      },
      "execution_count": 177,
      "outputs": [
        {
          "output_type": "stream",
          "name": "stdout",
          "text": [
            "MAPE_xgb_mayor: 10.6\n"
          ]
        }
      ]
    },
    {
      "cell_type": "code",
      "source": [
        "X_val = transfromar_DataFrame(X_val,edad_media,columns)"
      ],
      "metadata": {
        "id": "cEwiPVHGMrOl"
      },
      "execution_count": 178,
      "outputs": []
    },
    {
      "cell_type": "code",
      "source": [
        "def predecir_ingreso(df):\n",
        "  df=df.copy()\n",
        "  pred_class = xgb_classifier.predict(df)\n",
        "  if pred_class == 1: #menor\n",
        "    pred_ingreso = menor_xgb.predict(df)\n",
        "  else: #mayor\n",
        "    pred_ingreso = mayor_xgb.predict(df)\n",
        "\n",
        "  pred_ingreso = np.exp(pred_ingreso)  \n",
        "  return pred_ingreso"
      ],
      "metadata": {
        "id": "5IT4fp8m_DWO"
      },
      "execution_count": 180,
      "outputs": []
    },
    {
      "cell_type": "code",
      "source": [
        "pd.DataFrame(predecir_ingreso(X_val.iloc[[0]]))"
      ],
      "metadata": {
        "id": "fyxZLDhjNnPM",
        "outputId": "a523ee34-9d11-4eed-942d-cbcce2b1ac3d",
        "colab": {
          "base_uri": "https://localhost:8080/",
          "height": 81
        }
      },
      "execution_count": 189,
      "outputs": [
        {
          "output_type": "execute_result",
          "data": {
            "text/plain": [
              "              0\n",
              "0  53804.488281"
            ],
            "text/html": [
              "\n",
              "  <div id=\"df-38a2061b-e9b6-4ecf-9fb3-5f54635a85a0\">\n",
              "    <div class=\"colab-df-container\">\n",
              "      <div>\n",
              "<style scoped>\n",
              "    .dataframe tbody tr th:only-of-type {\n",
              "        vertical-align: middle;\n",
              "    }\n",
              "\n",
              "    .dataframe tbody tr th {\n",
              "        vertical-align: top;\n",
              "    }\n",
              "\n",
              "    .dataframe thead th {\n",
              "        text-align: right;\n",
              "    }\n",
              "</style>\n",
              "<table border=\"1\" class=\"dataframe\">\n",
              "  <thead>\n",
              "    <tr style=\"text-align: right;\">\n",
              "      <th></th>\n",
              "      <th>0</th>\n",
              "    </tr>\n",
              "  </thead>\n",
              "  <tbody>\n",
              "    <tr>\n",
              "      <th>0</th>\n",
              "      <td>53804.488281</td>\n",
              "    </tr>\n",
              "  </tbody>\n",
              "</table>\n",
              "</div>\n",
              "      <button class=\"colab-df-convert\" onclick=\"convertToInteractive('df-38a2061b-e9b6-4ecf-9fb3-5f54635a85a0')\"\n",
              "              title=\"Convert this dataframe to an interactive table.\"\n",
              "              style=\"display:none;\">\n",
              "        \n",
              "  <svg xmlns=\"http://www.w3.org/2000/svg\" height=\"24px\"viewBox=\"0 0 24 24\"\n",
              "       width=\"24px\">\n",
              "    <path d=\"M0 0h24v24H0V0z\" fill=\"none\"/>\n",
              "    <path d=\"M18.56 5.44l.94 2.06.94-2.06 2.06-.94-2.06-.94-.94-2.06-.94 2.06-2.06.94zm-11 1L8.5 8.5l.94-2.06 2.06-.94-2.06-.94L8.5 2.5l-.94 2.06-2.06.94zm10 10l.94 2.06.94-2.06 2.06-.94-2.06-.94-.94-2.06-.94 2.06-2.06.94z\"/><path d=\"M17.41 7.96l-1.37-1.37c-.4-.4-.92-.59-1.43-.59-.52 0-1.04.2-1.43.59L10.3 9.45l-7.72 7.72c-.78.78-.78 2.05 0 2.83L4 21.41c.39.39.9.59 1.41.59.51 0 1.02-.2 1.41-.59l7.78-7.78 2.81-2.81c.8-.78.8-2.07 0-2.86zM5.41 20L4 18.59l7.72-7.72 1.47 1.35L5.41 20z\"/>\n",
              "  </svg>\n",
              "      </button>\n",
              "      \n",
              "  <style>\n",
              "    .colab-df-container {\n",
              "      display:flex;\n",
              "      flex-wrap:wrap;\n",
              "      gap: 12px;\n",
              "    }\n",
              "\n",
              "    .colab-df-convert {\n",
              "      background-color: #E8F0FE;\n",
              "      border: none;\n",
              "      border-radius: 50%;\n",
              "      cursor: pointer;\n",
              "      display: none;\n",
              "      fill: #1967D2;\n",
              "      height: 32px;\n",
              "      padding: 0 0 0 0;\n",
              "      width: 32px;\n",
              "    }\n",
              "\n",
              "    .colab-df-convert:hover {\n",
              "      background-color: #E2EBFA;\n",
              "      box-shadow: 0px 1px 2px rgba(60, 64, 67, 0.3), 0px 1px 3px 1px rgba(60, 64, 67, 0.15);\n",
              "      fill: #174EA6;\n",
              "    }\n",
              "\n",
              "    [theme=dark] .colab-df-convert {\n",
              "      background-color: #3B4455;\n",
              "      fill: #D2E3FC;\n",
              "    }\n",
              "\n",
              "    [theme=dark] .colab-df-convert:hover {\n",
              "      background-color: #434B5C;\n",
              "      box-shadow: 0px 1px 3px 1px rgba(0, 0, 0, 0.15);\n",
              "      filter: drop-shadow(0px 1px 2px rgba(0, 0, 0, 0.3));\n",
              "      fill: #FFFFFF;\n",
              "    }\n",
              "  </style>\n",
              "\n",
              "      <script>\n",
              "        const buttonEl =\n",
              "          document.querySelector('#df-38a2061b-e9b6-4ecf-9fb3-5f54635a85a0 button.colab-df-convert');\n",
              "        buttonEl.style.display =\n",
              "          google.colab.kernel.accessAllowed ? 'block' : 'none';\n",
              "\n",
              "        async function convertToInteractive(key) {\n",
              "          const element = document.querySelector('#df-38a2061b-e9b6-4ecf-9fb3-5f54635a85a0');\n",
              "          const dataTable =\n",
              "            await google.colab.kernel.invokeFunction('convertToInteractive',\n",
              "                                                     [key], {});\n",
              "          if (!dataTable) return;\n",
              "\n",
              "          const docLinkHtml = 'Like what you see? Visit the ' +\n",
              "            '<a target=\"_blank\" href=https://colab.research.google.com/notebooks/data_table.ipynb>data table notebook</a>'\n",
              "            + ' to learn more about interactive tables.';\n",
              "          element.innerHTML = '';\n",
              "          dataTable['output_type'] = 'display_data';\n",
              "          await google.colab.output.renderOutput(dataTable, element);\n",
              "          const docLink = document.createElement('div');\n",
              "          docLink.innerHTML = docLinkHtml;\n",
              "          element.appendChild(docLink);\n",
              "        }\n",
              "      </script>\n",
              "    </div>\n",
              "  </div>\n",
              "  "
            ]
          },
          "metadata": {},
          "execution_count": 189
        }
      ]
    },
    {
      "cell_type": "code",
      "source": [
        "df_preds = pd.DataFrame()\n",
        "for x in range(X_val.shape[0]):\n",
        "  a = pd.DataFrame(predecir_ingreso(X_val.iloc[[x]]))\n",
        "  df_preds = df_preds.append(a, ignore_index=True)\n",
        "df_preds.head()"
      ],
      "metadata": {
        "id": "1Vqoo_Il7j4r",
        "outputId": "6cd4df7a-e30c-4700-8ec8-d05816b098f9",
        "colab": {
          "base_uri": "https://localhost:8080/",
          "height": 206
        }
      },
      "execution_count": 193,
      "outputs": [
        {
          "output_type": "execute_result",
          "data": {
            "text/plain": [
              "              0\n",
              "0  53804.488281\n",
              "1  46623.625000\n",
              "2  42854.523438\n",
              "3  42116.277344\n",
              "4  39420.292969"
            ],
            "text/html": [
              "\n",
              "  <div id=\"df-168750ba-4ab2-41a5-be57-7578e77e7aed\">\n",
              "    <div class=\"colab-df-container\">\n",
              "      <div>\n",
              "<style scoped>\n",
              "    .dataframe tbody tr th:only-of-type {\n",
              "        vertical-align: middle;\n",
              "    }\n",
              "\n",
              "    .dataframe tbody tr th {\n",
              "        vertical-align: top;\n",
              "    }\n",
              "\n",
              "    .dataframe thead th {\n",
              "        text-align: right;\n",
              "    }\n",
              "</style>\n",
              "<table border=\"1\" class=\"dataframe\">\n",
              "  <thead>\n",
              "    <tr style=\"text-align: right;\">\n",
              "      <th></th>\n",
              "      <th>0</th>\n",
              "    </tr>\n",
              "  </thead>\n",
              "  <tbody>\n",
              "    <tr>\n",
              "      <th>0</th>\n",
              "      <td>53804.488281</td>\n",
              "    </tr>\n",
              "    <tr>\n",
              "      <th>1</th>\n",
              "      <td>46623.625000</td>\n",
              "    </tr>\n",
              "    <tr>\n",
              "      <th>2</th>\n",
              "      <td>42854.523438</td>\n",
              "    </tr>\n",
              "    <tr>\n",
              "      <th>3</th>\n",
              "      <td>42116.277344</td>\n",
              "    </tr>\n",
              "    <tr>\n",
              "      <th>4</th>\n",
              "      <td>39420.292969</td>\n",
              "    </tr>\n",
              "  </tbody>\n",
              "</table>\n",
              "</div>\n",
              "      <button class=\"colab-df-convert\" onclick=\"convertToInteractive('df-168750ba-4ab2-41a5-be57-7578e77e7aed')\"\n",
              "              title=\"Convert this dataframe to an interactive table.\"\n",
              "              style=\"display:none;\">\n",
              "        \n",
              "  <svg xmlns=\"http://www.w3.org/2000/svg\" height=\"24px\"viewBox=\"0 0 24 24\"\n",
              "       width=\"24px\">\n",
              "    <path d=\"M0 0h24v24H0V0z\" fill=\"none\"/>\n",
              "    <path d=\"M18.56 5.44l.94 2.06.94-2.06 2.06-.94-2.06-.94-.94-2.06-.94 2.06-2.06.94zm-11 1L8.5 8.5l.94-2.06 2.06-.94-2.06-.94L8.5 2.5l-.94 2.06-2.06.94zm10 10l.94 2.06.94-2.06 2.06-.94-2.06-.94-.94-2.06-.94 2.06-2.06.94z\"/><path d=\"M17.41 7.96l-1.37-1.37c-.4-.4-.92-.59-1.43-.59-.52 0-1.04.2-1.43.59L10.3 9.45l-7.72 7.72c-.78.78-.78 2.05 0 2.83L4 21.41c.39.39.9.59 1.41.59.51 0 1.02-.2 1.41-.59l7.78-7.78 2.81-2.81c.8-.78.8-2.07 0-2.86zM5.41 20L4 18.59l7.72-7.72 1.47 1.35L5.41 20z\"/>\n",
              "  </svg>\n",
              "      </button>\n",
              "      \n",
              "  <style>\n",
              "    .colab-df-container {\n",
              "      display:flex;\n",
              "      flex-wrap:wrap;\n",
              "      gap: 12px;\n",
              "    }\n",
              "\n",
              "    .colab-df-convert {\n",
              "      background-color: #E8F0FE;\n",
              "      border: none;\n",
              "      border-radius: 50%;\n",
              "      cursor: pointer;\n",
              "      display: none;\n",
              "      fill: #1967D2;\n",
              "      height: 32px;\n",
              "      padding: 0 0 0 0;\n",
              "      width: 32px;\n",
              "    }\n",
              "\n",
              "    .colab-df-convert:hover {\n",
              "      background-color: #E2EBFA;\n",
              "      box-shadow: 0px 1px 2px rgba(60, 64, 67, 0.3), 0px 1px 3px 1px rgba(60, 64, 67, 0.15);\n",
              "      fill: #174EA6;\n",
              "    }\n",
              "\n",
              "    [theme=dark] .colab-df-convert {\n",
              "      background-color: #3B4455;\n",
              "      fill: #D2E3FC;\n",
              "    }\n",
              "\n",
              "    [theme=dark] .colab-df-convert:hover {\n",
              "      background-color: #434B5C;\n",
              "      box-shadow: 0px 1px 3px 1px rgba(0, 0, 0, 0.15);\n",
              "      filter: drop-shadow(0px 1px 2px rgba(0, 0, 0, 0.3));\n",
              "      fill: #FFFFFF;\n",
              "    }\n",
              "  </style>\n",
              "\n",
              "      <script>\n",
              "        const buttonEl =\n",
              "          document.querySelector('#df-168750ba-4ab2-41a5-be57-7578e77e7aed button.colab-df-convert');\n",
              "        buttonEl.style.display =\n",
              "          google.colab.kernel.accessAllowed ? 'block' : 'none';\n",
              "\n",
              "        async function convertToInteractive(key) {\n",
              "          const element = document.querySelector('#df-168750ba-4ab2-41a5-be57-7578e77e7aed');\n",
              "          const dataTable =\n",
              "            await google.colab.kernel.invokeFunction('convertToInteractive',\n",
              "                                                     [key], {});\n",
              "          if (!dataTable) return;\n",
              "\n",
              "          const docLinkHtml = 'Like what you see? Visit the ' +\n",
              "            '<a target=\"_blank\" href=https://colab.research.google.com/notebooks/data_table.ipynb>data table notebook</a>'\n",
              "            + ' to learn more about interactive tables.';\n",
              "          element.innerHTML = '';\n",
              "          dataTable['output_type'] = 'display_data';\n",
              "          await google.colab.output.renderOutput(dataTable, element);\n",
              "          const docLink = document.createElement('div');\n",
              "          docLink.innerHTML = docLinkHtml;\n",
              "          element.appendChild(docLink);\n",
              "        }\n",
              "      </script>\n",
              "    </div>\n",
              "  </div>\n",
              "  "
            ]
          },
          "metadata": {},
          "execution_count": 193
        }
      ]
    },
    {
      "cell_type": "code",
      "source": [
        "MAPE_xgb = MAPE(y_val, df_preds[0])\n",
        "print('MAPE_xgb:', round(100*MAPE_xgb, 2))"
      ],
      "metadata": {
        "id": "55FBN1inMrId",
        "outputId": "564ddb4a-625b-4a3a-8f54-d976b10e5e5f",
        "colab": {
          "base_uri": "https://localhost:8080/"
        }
      },
      "execution_count": 195,
      "outputs": [
        {
          "output_type": "stream",
          "name": "stdout",
          "text": [
            "MAPE_xgb: 12.74\n"
          ]
        }
      ]
    },
    {
      "cell_type": "code",
      "source": [
        ""
      ],
      "metadata": {
        "id": "Ai15uTnXMrCG"
      },
      "execution_count": null,
      "outputs": []
    },
    {
      "cell_type": "code",
      "source": [
        "#data de test\n",
        "url='https://drive.google.com/file/d/1sMkorQLOmf2cNGRwXkQLKeciGSUpL_ez/view?usp=sharing'\n",
        "url='https://drive.google.com/uc?id=' + url.split('/')[-2]\n",
        "df_test_original = pd.read_csv(url)"
      ],
      "metadata": {
        "id": "0tR04mQx_DcI"
      },
      "execution_count": null,
      "outputs": []
    },
    {
      "cell_type": "code",
      "source": [
        "df_test = transfromar_DataFrame(df_test_original,edad_media,columns)"
      ],
      "metadata": {
        "id": "8XhpAnTf_DZB"
      },
      "execution_count": null,
      "outputs": []
    },
    {
      "cell_type": "code",
      "source": [
        ""
      ],
      "metadata": {
        "id": "kwb89zj30X3K"
      },
      "execution_count": null,
      "outputs": []
    },
    {
      "cell_type": "code",
      "source": [
        ""
      ],
      "metadata": {
        "id": "Kd4vgkP80X0l"
      },
      "execution_count": null,
      "outputs": []
    },
    {
      "cell_type": "code",
      "source": [
        "ax = X_train.hist(bins=20, figsize=(15, 10))"
      ],
      "metadata": {
        "id": "OUxC-3LKg-Ho"
      },
      "execution_count": null,
      "outputs": []
    },
    {
      "cell_type": "code",
      "source": [
        "def transfromar_DataFrame (df,edad_media, columns):\n",
        "  df = df.copy()\n",
        "  df = df.drop(df.columns[0],axis=1)\n",
        "  #Remplazar nulls de la edad con la media de la columna\n",
        "  df['edad'] = df['edad'].fillna(edad_media, inplace=False)\n",
        "\n",
        "  #Transformar categóricas en numéricas\n",
        "  df['peorcalificacionBCU'] = (df['peorcalificacionBCU'].\n",
        "                              str.replace('5','6').\n",
        "                              str.replace('4','5').\n",
        "                              str.replace('3','4').\n",
        "                              str.replace('2B','3').\n",
        "                              str.replace('2A','2').\n",
        "                              str.replace('1C','1').\n",
        "                              str.replace('1A','0'))\n",
        "  df['peorcalificacionBCU'] = pd.to_numeric(df['peorcalificacionBCU'], downcast='integer')\n",
        "  for column in columns:\n",
        "    df[column] = np.cbrt(df[column])\n",
        "    \n",
        "  return df"
      ],
      "metadata": {
        "id": "CalPIb9cSmqE"
      },
      "execution_count": null,
      "outputs": []
    },
    {
      "cell_type": "code",
      "source": [
        "edad_media = X_train['edad'].mean()\n",
        "columns =['vigente', 'vigenteAvg3M', 'vencido','vencidoAvg3M','avgcontingenciaU1M','avgcontingenciaU3M','sumcontingenciaU1M','sumcontingenciaU3M','maxcontingenciaU1M','maxcontingenciaU3M','garantiacomputable'] "
      ],
      "metadata": {
        "id": "-MtP2H4LjNTK"
      },
      "execution_count": null,
      "outputs": []
    },
    {
      "cell_type": "code",
      "source": [
        "X_train = transfromar_DataFrame(X_train,edad_media,columns)\n",
        "X_test = transfromar_DataFrame(X_test,edad_media,columns)"
      ],
      "metadata": {
        "id": "eDjtKf9jFloF"
      },
      "execution_count": null,
      "outputs": []
    },
    {
      "cell_type": "code",
      "source": [
        "y_train = np.log(y_train)\n",
        "#y_test = np.cbrt(y_test)"
      ],
      "metadata": {
        "id": "jVB7PJMer09q"
      },
      "execution_count": null,
      "outputs": []
    },
    {
      "cell_type": "code",
      "source": [
        "ax = X_train .hist(bins=20, figsize=(15, 10))"
      ],
      "metadata": {
        "id": "Mk2U4MbIje0p"
      },
      "execution_count": null,
      "outputs": []
    },
    {
      "cell_type": "code",
      "source": [
        "# La linea base es el mediana de los ingresos\n",
        "baseline_preds = pd.DataFrame(y_train.copy())\n",
        "mediana = y_train.median()\n",
        "baseline_preds['mediana'] = mediana\n",
        "\n",
        "baseline_MAPE = MAPE(y_train,baseline_preds['mediana'])\n",
        "print('MAPE linea base: ', round(baseline_MAPE *100, 2))\n",
        "print('Mediana de ingreso: ', round(mediana))"
      ],
      "metadata": {
        "id": "cMTuEvhtAeId"
      },
      "execution_count": null,
      "outputs": []
    },
    {
      "cell_type": "code",
      "source": [
        "model_xgb = xgb.XGBRegressor(\n",
        "            objective = \"reg:squarederror\",\n",
        "            eval_metric = \"mae\",\n",
        "            #tree_method = \"gpu_hist\",\n",
        "            booster = \"gbtree\",\n",
        "            random_state = SEED,\n",
        "            n_estimators = 1000,\n",
        "            learning_rate = 0.01,\n",
        "            max_depth = 11,\n",
        "            min_child_weight = 7,\n",
        "            subsample = 0.9,\n",
        "            colsample_bytree = 1,\n",
        "            colsample_bynode = 0.7,\n",
        "            colsample_bylevel = 0.8,\n",
        "            verbosity = 0,\n",
        "            n_jobs = -1,\n",
        "            )"
      ],
      "metadata": {
        "id": "qCj3__Mo69_y"
      },
      "execution_count": null,
      "outputs": []
    },
    {
      "cell_type": "code",
      "source": [
        "model_xgb.fit(X_train,y_train)\n",
        "preds_xgb = model_xgb.predict(X_test)"
      ],
      "metadata": {
        "id": "027uCELBtLJi"
      },
      "execution_count": null,
      "outputs": []
    },
    {
      "cell_type": "code",
      "source": [
        "preds_xgb = np.exp(preds_xgb)\n",
        "MAPE_xgb = MAPE(y_test, preds_xgb)\n",
        "print('MAPE_xgb:', round(100*MAPE_xgb, 2))"
      ],
      "metadata": {
        "id": "vDBVl2b0vCjX",
        "outputId": "12127c0d-4219-4f62-a663-b7e6cb85dabf",
        "colab": {
          "base_uri": "https://localhost:8080/"
        }
      },
      "execution_count": null,
      "outputs": [
        {
          "output_type": "stream",
          "name": "stdout",
          "text": [
            "MAPE_xgb: 12.07\n"
          ]
        }
      ]
    },
    {
      "cell_type": "code",
      "source": [
        "sorted_idx = model_xgb.feature_importances_.argsort()\n",
        "plt.barh(list(X_train.columns[sorted_idx]), model_xgb.feature_importances_[sorted_idx])\n",
        "plt.xlabel(\"Xgboost Feature Importance\")"
      ],
      "metadata": {
        "id": "-RMC4rn-L1Hh",
        "outputId": "5e745e6e-ba85-4db9-c303-9650a699dff5",
        "colab": {
          "base_uri": "https://localhost:8080/",
          "height": 296
        }
      },
      "execution_count": null,
      "outputs": [
        {
          "output_type": "execute_result",
          "data": {
            "text/plain": [
              "Text(0.5, 0, 'Xgboost Feature Importance')"
            ]
          },
          "metadata": {},
          "execution_count": 120
        },
        {
          "output_type": "display_data",
          "data": {
            "text/plain": [
              "<Figure size 432x288 with 1 Axes>"
            ],
            "image/png": "[encoded data removed]"
          },
          "metadata": {
            "needs_background": "light"
          }
        }
      ]
    },
    {
      "cell_type": "code",
      "source": [
        "#data de test\n",
        "url='https://drive.google.com/file/d/1sMkorQLOmf2cNGRwXkQLKeciGSUpL_ez/view?usp=sharing'\n",
        "url='https://drive.google.com/uc?id=' + url.split('/')[-2]\n",
        "df_test_original = pd.read_csv(url)"
      ],
      "metadata": {
        "id": "h6m7XceWQITM"
      },
      "execution_count": null,
      "outputs": []
    },
    {
      "cell_type": "code",
      "source": [
        "df_test = transfromar_DataFrame(df_test_original,edad_media,columns)\n"
      ],
      "metadata": {
        "id": "m1DZoRB8VmAO"
      },
      "execution_count": null,
      "outputs": []
    },
    {
      "cell_type": "code",
      "source": [
        "preds_datathon = model_xgb.predict(df_test)"
      ],
      "metadata": {
        "id": "a4amkxAAWYOQ"
      },
      "execution_count": null,
      "outputs": []
    },
    {
      "cell_type": "code",
      "source": [
        "pd.DataFrame(preds_datathon).to_csv('predicciones4.csv') "
      ],
      "metadata": {
        "id": "l_y5kAzbWeTO"
      },
      "execution_count": null,
      "outputs": []
    }
  ]
}