{
  "nbformat": 4,
  "nbformat_minor": 0,
  "metadata": {
    "colab": {
      "name": "Untitled2.ipynb",
      "provenance": [],
      "mount_file_id": "https://github.com/AOdrio/Datathon/blob/main/Prueba%20github.ipynb",
      "authorship_tag": "ABX9TyN4ThyDTHxucmILkHux/vlv",
      "include_colab_link": true
    },
    "kernelspec": {
      "name": "python3",
      "display_name": "Python 3"
    },
    "language_info": {
      "name": "python"
    }
  },
  "cells": [
    {
      "cell_type": "markdown",
      "metadata": {
        "id": "view-in-github",
        "colab_type": "text"
      },
      "source": [
        "<a href=\"https://colab.research.google.com/github/AOdrio/Datathon/blob/main/Prueba%20github.ipynb\" target=\"_parent\"><img src=\"https://colab.research.google.com/assets/colab-badge.svg\" alt=\"Open In Colab\"/></a>"
      ]
    },
    {
      "cell_type": "code",
      "source": [
        "import pandas as pd\n",
        "import xgboost as xgb\n",
        "from sklearn.model_selection import train_test_split\n",
        "from sklearn.metrics import mean_absolute_error\n",
        "from sklearn.pipeline import Pipeline\n",
        "from sklearn.preprocessing import StandardScaler\n",
        "from sklearn.metrics import mean_absolute_error\n",
        "\n",
        "SEED = 17"
      ],
      "metadata": {
        "id": "qilgKjKQHzSm"
      },
      "execution_count": 19,
      "outputs": []
    },
    {
      "cell_type": "code",
      "execution_count": 11,
      "metadata": {
        "id": "rvJX5DZi17KG"
      },
      "outputs": [],
      "source": [
        "url='https://drive.google.com/file/d/1KH1fB83JDAWcMRCHKFf9SmcGH7MQkupE/view?usp=sharing'\n",
        "url='https://drive.google.com/uc?id=' + url.split('/')[-2]\n",
        "df_original = pd.read_csv(url)"
      ]
    },
    {
      "cell_type": "code",
      "source": [
        "df_original.head()"
      ],
      "metadata": {
        "id": "c7On5-UL28mJ",
        "outputId": "1894d6da-9e13-4dd9-823e-c1f1791dc2d0",
        "colab": {
          "base_uri": "https://localhost:8080/",
          "height": 317
        }
      },
      "execution_count": 12,
      "outputs": [
        {
          "output_type": "execute_result",
          "data": {
            "text/plain": [
              "   Unnamed: 0        vigente   vigenteAvg3M       vencido  vencidoAvg3M  \\\n",
              "0           1    4282.155183    4679.335952      0.000000      0.000000   \n",
              "1           2    9793.122650    9450.927278  83970.243387  91126.581200   \n",
              "2           3  531419.701556  512057.084981      0.000000      0.000000   \n",
              "3           4       0.000000       0.000000   2266.728708   2633.111538   \n",
              "4           5  112394.057367  110856.020945      0.000000      0.000000   \n",
              "\n",
              "   avgcontingenciaU1M  avgcontingenciaU3M  sumcontingenciaU1M  \\\n",
              "0         4923.124484         3918.527125        19692.497937   \n",
              "1        20809.053382        19126.815664        41618.106764   \n",
              "2        36813.149453        46144.419161        36813.149453   \n",
              "3        11533.815438        10488.338604        23067.630876   \n",
              "4        41131.333850        42820.024254        82262.667700   \n",
              "\n",
              "   sumcontingenciaU3M  maxcontingenciaU1M  ...  numerobancosprivados  \\\n",
              "0        18439.941778         6653.069810  ...                     1   \n",
              "1        49280.496926        30881.253937  ...                     0   \n",
              "2        36789.292777        36813.149453  ...                     2   \n",
              "3        24025.952782        19044.717097  ...                     4   \n",
              "4        77614.227322        43944.580379  ...                     4   \n",
              "\n",
              "   numerobancospublicos  numerofinancieras numerobancos  numerode5ult18meses  \\\n",
              "0                     0                  3            1                    0   \n",
              "1                     1                  1            1                    4   \n",
              "2                     1                  0            3                    0   \n",
              "3                     0                  0            4                    4   \n",
              "4                     0                  0            4                    0   \n",
              "\n",
              "   numerode2Bult18meses  numerode3ult18meses  edad  numeromesesreportados  \\\n",
              "0                     0                    0  63.0                     24   \n",
              "1                     0                    2  67.0                     24   \n",
              "2                     0                    0   NaN                     24   \n",
              "3                     2                    3   NaN                     24   \n",
              "4                     0                    0  65.0                     14   \n",
              "\n",
              "         ingreso  \n",
              "0   31888.466530  \n",
              "1   62341.141710  \n",
              "2  100599.764680  \n",
              "3   46102.904895  \n",
              "4  109419.216020  \n",
              "\n",
              "[5 rows x 25 columns]"
            ],
            "text/html": [
              "\n",
              "  <div id=\"df-635b2943-9846-4375-9ebc-59cc36bbadbd\">\n",
              "    <div class=\"colab-df-container\">\n",
              "      <div>\n",
              "<style scoped>\n",
              "    .dataframe tbody tr th:only-of-type {\n",
              "        vertical-align: middle;\n",
              "    }\n",
              "\n",
              "    .dataframe tbody tr th {\n",
              "        vertical-align: top;\n",
              "    }\n",
              "\n",
              "    .dataframe thead th {\n",
              "        text-align: right;\n",
              "    }\n",
              "</style>\n",
              "<table border=\"1\" class=\"dataframe\">\n",
              "  <thead>\n",
              "    <tr style=\"text-align: right;\">\n",
              "      <th></th>\n",
              "      <th>Unnamed: 0</th>\n",
              "      <th>vigente</th>\n",
              "      <th>vigenteAvg3M</th>\n",
              "      <th>vencido</th>\n",
              "      <th>vencidoAvg3M</th>\n",
              "      <th>avgcontingenciaU1M</th>\n",
              "      <th>avgcontingenciaU3M</th>\n",
              "      <th>sumcontingenciaU1M</th>\n",
              "      <th>sumcontingenciaU3M</th>\n",
              "      <th>maxcontingenciaU1M</th>\n",
              "      <th>...</th>\n",
              "      <th>numerobancosprivados</th>\n",
              "      <th>numerobancospublicos</th>\n",
              "      <th>numerofinancieras</th>\n",
              "      <th>numerobancos</th>\n",
              "      <th>numerode5ult18meses</th>\n",
              "      <th>numerode2Bult18meses</th>\n",
              "      <th>numerode3ult18meses</th>\n",
              "      <th>edad</th>\n",
              "      <th>numeromesesreportados</th>\n",
              "      <th>ingreso</th>\n",
              "    </tr>\n",
              "  </thead>\n",
              "  <tbody>\n",
              "    <tr>\n",
              "      <th>0</th>\n",
              "      <td>1</td>\n",
              "      <td>4282.155183</td>\n",
              "      <td>4679.335952</td>\n",
              "      <td>0.000000</td>\n",
              "      <td>0.000000</td>\n",
              "      <td>4923.124484</td>\n",
              "      <td>3918.527125</td>\n",
              "      <td>19692.497937</td>\n",
              "      <td>18439.941778</td>\n",
              "      <td>6653.069810</td>\n",
              "      <td>...</td>\n",
              "      <td>1</td>\n",
              "      <td>0</td>\n",
              "      <td>3</td>\n",
              "      <td>1</td>\n",
              "      <td>0</td>\n",
              "      <td>0</td>\n",
              "      <td>0</td>\n",
              "      <td>63.0</td>\n",
              "      <td>24</td>\n",
              "      <td>31888.466530</td>\n",
              "    </tr>\n",
              "    <tr>\n",
              "      <th>1</th>\n",
              "      <td>2</td>\n",
              "      <td>9793.122650</td>\n",
              "      <td>9450.927278</td>\n",
              "      <td>83970.243387</td>\n",
              "      <td>91126.581200</td>\n",
              "      <td>20809.053382</td>\n",
              "      <td>19126.815664</td>\n",
              "      <td>41618.106764</td>\n",
              "      <td>49280.496926</td>\n",
              "      <td>30881.253937</td>\n",
              "      <td>...</td>\n",
              "      <td>0</td>\n",
              "      <td>1</td>\n",
              "      <td>1</td>\n",
              "      <td>1</td>\n",
              "      <td>4</td>\n",
              "      <td>0</td>\n",
              "      <td>2</td>\n",
              "      <td>67.0</td>\n",
              "      <td>24</td>\n",
              "      <td>62341.141710</td>\n",
              "    </tr>\n",
              "    <tr>\n",
              "      <th>2</th>\n",
              "      <td>3</td>\n",
              "      <td>531419.701556</td>\n",
              "      <td>512057.084981</td>\n",
              "      <td>0.000000</td>\n",
              "      <td>0.000000</td>\n",
              "      <td>36813.149453</td>\n",
              "      <td>46144.419161</td>\n",
              "      <td>36813.149453</td>\n",
              "      <td>36789.292777</td>\n",
              "      <td>36813.149453</td>\n",
              "      <td>...</td>\n",
              "      <td>2</td>\n",
              "      <td>1</td>\n",
              "      <td>0</td>\n",
              "      <td>3</td>\n",
              "      <td>0</td>\n",
              "      <td>0</td>\n",
              "      <td>0</td>\n",
              "      <td>NaN</td>\n",
              "      <td>24</td>\n",
              "      <td>100599.764680</td>\n",
              "    </tr>\n",
              "    <tr>\n",
              "      <th>3</th>\n",
              "      <td>4</td>\n",
              "      <td>0.000000</td>\n",
              "      <td>0.000000</td>\n",
              "      <td>2266.728708</td>\n",
              "      <td>2633.111538</td>\n",
              "      <td>11533.815438</td>\n",
              "      <td>10488.338604</td>\n",
              "      <td>23067.630876</td>\n",
              "      <td>24025.952782</td>\n",
              "      <td>19044.717097</td>\n",
              "      <td>...</td>\n",
              "      <td>4</td>\n",
              "      <td>0</td>\n",
              "      <td>0</td>\n",
              "      <td>4</td>\n",
              "      <td>4</td>\n",
              "      <td>2</td>\n",
              "      <td>3</td>\n",
              "      <td>NaN</td>\n",
              "      <td>24</td>\n",
              "      <td>46102.904895</td>\n",
              "    </tr>\n",
              "    <tr>\n",
              "      <th>4</th>\n",
              "      <td>5</td>\n",
              "      <td>112394.057367</td>\n",
              "      <td>110856.020945</td>\n",
              "      <td>0.000000</td>\n",
              "      <td>0.000000</td>\n",
              "      <td>41131.333850</td>\n",
              "      <td>42820.024254</td>\n",
              "      <td>82262.667700</td>\n",
              "      <td>77614.227322</td>\n",
              "      <td>43944.580379</td>\n",
              "      <td>...</td>\n",
              "      <td>4</td>\n",
              "      <td>0</td>\n",
              "      <td>0</td>\n",
              "      <td>4</td>\n",
              "      <td>0</td>\n",
              "      <td>0</td>\n",
              "      <td>0</td>\n",
              "      <td>65.0</td>\n",
              "      <td>14</td>\n",
              "      <td>109419.216020</td>\n",
              "    </tr>\n",
              "  </tbody>\n",
              "</table>\n",
              "<p>5 rows × 25 columns</p>\n",
              "</div>\n",
              "      <button class=\"colab-df-convert\" onclick=\"convertToInteractive('df-635b2943-9846-4375-9ebc-59cc36bbadbd')\"\n",
              "              title=\"Convert this dataframe to an interactive table.\"\n",
              "              style=\"display:none;\">\n",
              "        \n",
              "  <svg xmlns=\"http://www.w3.org/2000/svg\" height=\"24px\"viewBox=\"0 0 24 24\"\n",
              "       width=\"24px\">\n",
              "    <path d=\"M0 0h24v24H0V0z\" fill=\"none\"/>\n",
              "    <path d=\"M18.56 5.44l.94 2.06.94-2.06 2.06-.94-2.06-.94-.94-2.06-.94 2.06-2.06.94zm-11 1L8.5 8.5l.94-2.06 2.06-.94-2.06-.94L8.5 2.5l-.94 2.06-2.06.94zm10 10l.94 2.06.94-2.06 2.06-.94-2.06-.94-.94-2.06-.94 2.06-2.06.94z\"/><path d=\"M17.41 7.96l-1.37-1.37c-.4-.4-.92-.59-1.43-.59-.52 0-1.04.2-1.43.59L10.3 9.45l-7.72 7.72c-.78.78-.78 2.05 0 2.83L4 21.41c.39.39.9.59 1.41.59.51 0 1.02-.2 1.41-.59l7.78-7.78 2.81-2.81c.8-.78.8-2.07 0-2.86zM5.41 20L4 18.59l7.72-7.72 1.47 1.35L5.41 20z\"/>\n",
              "  </svg>\n",
              "      </button>\n",
              "      \n",
              "  <style>\n",
              "    .colab-df-container {\n",
              "      display:flex;\n",
              "      flex-wrap:wrap;\n",
              "      gap: 12px;\n",
              "    }\n",
              "\n",
              "    .colab-df-convert {\n",
              "      background-color: #E8F0FE;\n",
              "      border: none;\n",
              "      border-radius: 50%;\n",
              "      cursor: pointer;\n",
              "      display: none;\n",
              "      fill: #1967D2;\n",
              "      height: 32px;\n",
              "      padding: 0 0 0 0;\n",
              "      width: 32px;\n",
              "    }\n",
              "\n",
              "    .colab-df-convert:hover {\n",
              "      background-color: #E2EBFA;\n",
              "      box-shadow: 0px 1px 2px rgba(60, 64, 67, 0.3), 0px 1px 3px 1px rgba(60, 64, 67, 0.15);\n",
              "      fill: #174EA6;\n",
              "    }\n",
              "\n",
              "    [theme=dark] .colab-df-convert {\n",
              "      background-color: #3B4455;\n",
              "      fill: #D2E3FC;\n",
              "    }\n",
              "\n",
              "    [theme=dark] .colab-df-convert:hover {\n",
              "      background-color: #434B5C;\n",
              "      box-shadow: 0px 1px 3px 1px rgba(0, 0, 0, 0.15);\n",
              "      filter: drop-shadow(0px 1px 2px rgba(0, 0, 0, 0.3));\n",
              "      fill: #FFFFFF;\n",
              "    }\n",
              "  </style>\n",
              "\n",
              "      <script>\n",
              "        const buttonEl =\n",
              "          document.querySelector('#df-635b2943-9846-4375-9ebc-59cc36bbadbd button.colab-df-convert');\n",
              "        buttonEl.style.display =\n",
              "          google.colab.kernel.accessAllowed ? 'block' : 'none';\n",
              "\n",
              "        async function convertToInteractive(key) {\n",
              "          const element = document.querySelector('#df-635b2943-9846-4375-9ebc-59cc36bbadbd');\n",
              "          const dataTable =\n",
              "            await google.colab.kernel.invokeFunction('convertToInteractive',\n",
              "                                                     [key], {});\n",
              "          if (!dataTable) return;\n",
              "\n",
              "          const docLinkHtml = 'Like what you see? Visit the ' +\n",
              "            '<a target=\"_blank\" href=https://colab.research.google.com/notebooks/data_table.ipynb>data table notebook</a>'\n",
              "            + ' to learn more about interactive tables.';\n",
              "          element.innerHTML = '';\n",
              "          dataTable['output_type'] = 'display_data';\n",
              "          await google.colab.output.renderOutput(dataTable, element);\n",
              "          const docLink = document.createElement('div');\n",
              "          docLink.innerHTML = docLinkHtml;\n",
              "          element.appendChild(docLink);\n",
              "        }\n",
              "      </script>\n",
              "    </div>\n",
              "  </div>\n",
              "  "
            ]
          },
          "metadata": {},
          "execution_count": 12
        }
      ]
    },
    {
      "cell_type": "code",
      "source": [
        "count_nan_in_df = df_original.isnull().sum()\n",
        "print (count_nan_in_df)"
      ],
      "metadata": {
        "id": "CpMg5671-9-c",
        "outputId": "35382d81-1435-42d9-b1af-5cbe835dbffc",
        "colab": {
          "base_uri": "https://localhost:8080/"
        }
      },
      "execution_count": 5,
      "outputs": [
        {
          "output_type": "stream",
          "name": "stdout",
          "text": [
            "Unnamed: 0                   0\n",
            "vigente                      0\n",
            "vigenteAvg3M                 0\n",
            "vencido                      0\n",
            "vencidoAvg3M                 0\n",
            "avgcontingenciaU1M           0\n",
            "avgcontingenciaU3M           0\n",
            "sumcontingenciaU1M           0\n",
            "sumcontingenciaU3M           0\n",
            "maxcontingenciaU1M           0\n",
            "maxcontingenciaU3M           0\n",
            "numcontingenciaU1M           0\n",
            "garantiacomputable           0\n",
            "peorcalificacionBCU          0\n",
            "numeroinstituciones          0\n",
            "numerobancosprivados         0\n",
            "numerobancospublicos         0\n",
            "numerofinancieras            0\n",
            "numerobancos                 0\n",
            "numerode5ult18meses          0\n",
            "numerode2Bult18meses         0\n",
            "numerode3ult18meses          0\n",
            "edad                     11429\n",
            "numeromesesreportados        0\n",
            "ingreso                      0\n",
            "dtype: int64\n"
          ]
        }
      ]
    },
    {
      "cell_type": "code",
      "source": [
        "df = df_original.fillna(df_original.mean(), inplace=False)"
      ],
      "metadata": {
        "id": "eDjtKf9jFloF",
        "outputId": "35b81ece-3f90-4d1b-cfad-746620de613a",
        "colab": {
          "base_uri": "https://localhost:8080/"
        }
      },
      "execution_count": 13,
      "outputs": [
        {
          "output_type": "stream",
          "name": "stderr",
          "text": [
            "/usr/local/lib/python3.7/dist-packages/ipykernel_launcher.py:1: FutureWarning: Dropping of nuisance columns in DataFrame reductions (with 'numeric_only=None') is deprecated; in a future version this will raise TypeError.  Select only valid columns before calling the reduction.\n",
            "  \"\"\"Entry point for launching an IPython kernel.\n"
          ]
        }
      ]
    },
    {
      "cell_type": "code",
      "source": [
        "df['peorcalificacionBCU'].unique()"
      ],
      "metadata": {
        "id": "YGIAWqmSFt3i",
        "outputId": "1d38cca0-1173-4594-8939-6a31d5b13796",
        "colab": {
          "base_uri": "https://localhost:8080/"
        }
      },
      "execution_count": 22,
      "outputs": [
        {
          "output_type": "execute_result",
          "data": {
            "text/plain": [
              "array(['1C', '3', '5', '2B', '4', '2A'], dtype=object)"
            ]
          },
          "metadata": {},
          "execution_count": 22
        }
      ]
    },
    {
      "cell_type": "code",
      "source": [
        "#FAlta transformar categóricas en numéricas"
      ],
      "metadata": {
        "id": "CalPIb9cSmqE"
      },
      "execution_count": null,
      "outputs": []
    },
    {
      "cell_type": "code",
      "source": [
        "y = df.pop(\"ingreso\")\n",
        "X = df.copy()\n",
        "\n",
        "X_train, X_test, y_train, y_test = train_test_split(X, y, test_size=0.2, random_state=SEED)\n"
      ],
      "metadata": {
        "id": "4qqM2frRHcZL"
      },
      "execution_count": null,
      "outputs": []
    },
    {
      "cell_type": "code",
      "source": [
        "url='https://drive.google.com/file/d/1sMkorQLOmf2cNGRwXkQLKeciGSUpL_ez/view?usp=sharing'\n",
        "url='https://drive.google.com/uc?id=' + url.split('/')[-2]\n",
        "df_test = pd.read_csv(url)\n",
        "#count_nan_in_df = df_test.isnull().sum()\n",
        "print (df_test.isnull().sum())"
      ],
      "metadata": {
        "id": "h6m7XceWQITM",
        "outputId": "a59d59f3-cea1-4c32-de8a-cfda90783b55",
        "colab": {
          "base_uri": "https://localhost:8080/"
        }
      },
      "execution_count": 23,
      "outputs": [
        {
          "output_type": "stream",
          "name": "stdout",
          "text": [
            "Unnamed: 0                  0\n",
            "vigente                     0\n",
            "vigenteAvg3M                0\n",
            "vencido                     0\n",
            "vencidoAvg3M                0\n",
            "avgcontingenciaU1M          0\n",
            "avgcontingenciaU3M          0\n",
            "sumcontingenciaU1M          0\n",
            "sumcontingenciaU3M          0\n",
            "maxcontingenciaU1M          0\n",
            "maxcontingenciaU3M          0\n",
            "numcontingenciaU1M          0\n",
            "garantiacomputable          0\n",
            "peorcalificacionBCU         0\n",
            "numeroinstituciones         0\n",
            "numerobancosprivados        0\n",
            "numerobancospublicos        0\n",
            "numerofinancieras           0\n",
            "numerobancos                0\n",
            "numerode5ult18meses         0\n",
            "numerode2Bult18meses        0\n",
            "numerode3ult18meses         0\n",
            "edad                     2802\n",
            "numeromesesreportados       0\n",
            "dtype: int64\n"
          ]
        }
      ]
    }
  ]
}