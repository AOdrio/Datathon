{
  "nbformat": 4,
  "nbformat_minor": 0,
  "metadata": {
    "colab": {
      "name": "Untitled2.ipynb",
      "provenance": [],
      "mount_file_id": "https://github.com/AOdrio/Datathon/blob/main/Prueba%20github.ipynb",
      "authorship_tag": "ABX9TyNjQFbEY0PfNOlqajcdVRpe",
      "include_colab_link": true
    },
    "kernelspec": {
      "name": "python3",
      "display_name": "Python 3"
    },
    "language_info": {
      "name": "python"
    },
    "accelerator": "GPU"
  },
  "cells": [
    {
      "cell_type": "markdown",
      "metadata": {
        "id": "view-in-github",
        "colab_type": "text"
      },
      "source": [
        "<a href=\"https://colab.research.google.com/github/AOdrio/Datathon/blob/main/bolaso2.ipynb\" target=\"_parent\"><img src=\"https://colab.research.google.com/assets/colab-badge.svg\" alt=\"Open In Colab\"/></a>"
      ]
    },
    {
      "cell_type": "code",
      "source": [
        "import pandas as pd\n",
        "import numpy as np\n",
        "\n",
        "import xgboost as xgb\n",
        "from matplotlib import pyplot as plt\n",
        "import seaborn as sns \n",
        "\n",
        "from sklearn.model_selection import train_test_split\n",
        "from sklearn.metrics import mean_absolute_error\n",
        "from sklearn.pipeline import Pipeline\n",
        "from sklearn.preprocessing import StandardScaler\n",
        "from sklearn.metrics import mean_absolute_percentage_error as MAPE\n",
        "from sklearn.ensemble import RandomForestRegressor\n",
        "from sklearn.linear_model import LinearRegression as LR\n",
        "from sklearn.neighbors import KNeighborsRegressor as KNN\n",
        "\n",
        "SEED = 42"
      ],
      "metadata": {
        "id": "qilgKjKQHzSm"
      },
      "execution_count": 48,
      "outputs": []
    },
    {
      "cell_type": "markdown",
      "source": [
        ""
      ],
      "metadata": {
        "id": "N97V-xl6gCF7"
      }
    },
    {
      "cell_type": "code",
      "execution_count": 2,
      "metadata": {
        "id": "rvJX5DZi17KG"
      },
      "outputs": [],
      "source": [
        "url='https://drive.google.com/file/d/1KH1fB83JDAWcMRCHKFf9SmcGH7MQkupE/view?usp=sharing'\n",
        "url='https://drive.google.com/uc?id=' + url.split('/')[-2]\n",
        "df_original = pd.read_csv(url)"
      ]
    },
    {
      "cell_type": "code",
      "source": [
        "df_original.describe()"
      ],
      "metadata": {
        "id": "c7On5-UL28mJ"
      },
      "execution_count": null,
      "outputs": []
    },
    {
      "cell_type": "code",
      "source": [
        "ax = df_original.hist(bins=20, figsize=(15, 10))"
      ],
      "metadata": {
        "id": "_DfhI7PVgrKv"
      },
      "execution_count": null,
      "outputs": []
    },
    {
      "cell_type": "code",
      "source": [
        "def train_val_test_split(df, train_percent, validate_percent, seed):\n",
        "    np.random.seed(seed)\n",
        "    perm = np.random.permutation(df.index)\n",
        "    m = len(df.index)\n",
        "    train_end = int(train_percent * m)\n",
        "    validate_end = int(validate_percent * m) + train_end\n",
        "    train = df.iloc[perm[:train_end]]\n",
        "    validate = df.iloc[perm[train_end:validate_end]]\n",
        "    test = df.iloc[perm[validate_end:]]\n",
        "    return train, validate, test"
      ],
      "metadata": {
        "id": "540lJqpasvBy"
      },
      "execution_count": 3,
      "outputs": []
    },
    {
      "cell_type": "code",
      "source": [
        "#train_percent = 0.7\n",
        "#val_percent = 0.15\n",
        "\n",
        "#df_train, df_val, df_test = train_val_test_split(df_original,train_percent, val_percent, SEED)"
      ],
      "metadata": {
        "id": "HdrSCdHRtCuF"
      },
      "execution_count": 4,
      "outputs": []
    },
    {
      "cell_type": "code",
      "source": [
        "y = df_original.pop(\"ingreso\")\n",
        "X = df_original.copy()\n",
        "\n",
        "X_train, X_test, y_train, y_test = train_test_split(X, y, test_size=0.2, random_state=SEED)"
      ],
      "metadata": {
        "id": "khk4o5HHHjJC"
      },
      "execution_count": 29,
      "outputs": []
    },
    {
      "cell_type": "code",
      "source": [
        "print('Todo: ',df_original.shape)\n",
        "print('Train:',df_train.shape)\n",
        "print('Val:  ',df_val.shape)\n",
        "print('Test: ',df_test.shape)"
      ],
      "metadata": {
        "id": "JdClAMOQtgwf",
        "outputId": "46f40b5a-f15f-4b0f-c25e-c37dd06d0435",
        "colab": {
          "base_uri": "https://localhost:8080/"
        }
      },
      "execution_count": 98,
      "outputs": [
        {
          "output_type": "stream",
          "name": "stdout",
          "text": [
            "Todo:  (40000, 25)\n",
            "Train: (28000, 25)\n",
            "Val:   (6000, 25)\n",
            "Test:  (6000, 25)\n"
          ]
        }
      ]
    },
    {
      "cell_type": "markdown",
      "source": [
        "se remplazan los null por la media de la columna"
      ],
      "metadata": {
        "id": "ldT9CaJNvWYF"
      }
    },
    {
      "cell_type": "code",
      "source": [
        "edad_media = X_test['edad'].mean()"
      ],
      "metadata": {
        "id": "fUaiCz0FvlN8"
      },
      "execution_count": 30,
      "outputs": []
    },
    {
      "cell_type": "code",
      "source": [
        "def transfromar_DataFrame (df,edad_media):\n",
        "  df = df.copy()\n",
        "  df = df.drop(df.columns[0],axis=1)\n",
        "  #Remplazar nulls de la edad con la media de la columna\n",
        "  df['edad'] = df['edad'].fillna(edad_media, inplace=False)\n",
        "\n",
        "  #Transformar categóricas en numéricas\n",
        "  df['peorcalificacionBCU'] = (df['peorcalificacionBCU'].\n",
        "                              str.replace('5','6').\n",
        "                              str.replace('4','5').\n",
        "                              str.replace('3','4').\n",
        "                              str.replace('2B','3').\n",
        "                              str.replace('2A','2').\n",
        "                              str.replace('1C','1').\n",
        "                              str.replace('1A','0'))\n",
        "  df['peorcalificacionBCU'] = pd.to_numeric(df['peorcalificacionBCU'], downcast='integer')\n",
        "  return df"
      ],
      "metadata": {
        "id": "CalPIb9cSmqE"
      },
      "execution_count": 6,
      "outputs": []
    },
    {
      "cell_type": "code",
      "source": [
        "X_train = transfromar_DataFrame(X_train,edad_media)\n",
        "X_test = transfromar_DataFrame(X_test,edad_media)\n",
        "#df_val = transfromar_DataFrame(df_val,edad_media)"
      ],
      "metadata": {
        "id": "eDjtKf9jFloF"
      },
      "execution_count": 31,
      "outputs": []
    },
    {
      "cell_type": "code",
      "source": [
        "#y_train = df_train.pop(\"ingreso\")\n",
        "#X_train = df_train.copy()\n",
        "#y_test = df_test.pop(\"ingreso\")\n",
        "#X_test = df_test.copy()\n",
        "#y_val = df_val.pop(\"ingreso\")\n",
        "#X_val = df_val.copy()"
      ],
      "metadata": {
        "id": "4qqM2frRHcZL"
      },
      "execution_count": 8,
      "outputs": []
    },
    {
      "cell_type": "code",
      "source": [
        "# La linea base es el mediana de los ingresos\n",
        "baseline_preds = pd.DataFrame(y_train.copy())\n",
        "mediana = y_train.median()\n",
        "baseline_preds['mediana'] = mediana\n",
        "\n",
        "baseline_MAPE = MAPE(y_train,baseline_preds['mediana'])\n",
        "print('MAPE linea base: ', round(baseline_MAPE *100, 2))\n",
        "print('Mediana de ingreso: ', round(mediana))"
      ],
      "metadata": {
        "id": "cMTuEvhtAeId",
        "outputId": "cce7c857-3e02-4b4d-b247-1c76d5bb74a4",
        "colab": {
          "base_uri": "https://localhost:8080/"
        }
      },
      "execution_count": 32,
      "outputs": [
        {
          "output_type": "stream",
          "name": "stdout",
          "text": [
            "MAPE linea base:  42.18\n",
            "Mediana de ingreso:  53665\n"
          ]
        }
      ]
    },
    {
      "cell_type": "code",
      "source": [
        "model_1_xgb = xgb.XGBRegressor(\n",
        "            objective = \"reg:squarederror\",\n",
        "            eval_metric = \"mae\",\n",
        "            #tree_method = \"gpu_hist\",\n",
        "            booster = \"gbtree\",\n",
        "            random_state = SEED,\n",
        "            n_estimators = 500,\n",
        "            learning_rate = 0.01,\n",
        "            max_depth = 10,\n",
        "            min_child_weight = 7,\n",
        "            subsample = 0.9,\n",
        "            colsample_bytree = 1,\n",
        "            colsample_bynode = 0.8,\n",
        "            colsample_bylevel = 0.8,\n",
        "            verbosity = 0,\n",
        "            n_jobs = -1,\n",
        "            )"
      ],
      "metadata": {
        "id": "qCj3__Mo69_y"
      },
      "execution_count": 33,
      "outputs": []
    },
    {
      "cell_type": "code",
      "source": [
        "model_1_xgb.fit(X_train,y_train)\n",
        "preds_xgb = model_1_xgb.predict(X_test)\n",
        "MAPE_xgb = MAPE(y_test, preds_xgb)\n",
        "print('MAPE_xgb:', round(100*MAPE_xgb, 2))"
      ],
      "metadata": {
        "id": "dpxNTgWX-qPF",
        "outputId": "2749c50a-da51-4cc1-af64-7b528c90281a",
        "colab": {
          "base_uri": "https://localhost:8080/"
        }
      },
      "execution_count": 34,
      "outputs": [
        {
          "output_type": "stream",
          "name": "stdout",
          "text": [
            "MAPE_xgb: 12.63\n"
          ]
        }
      ]
    },
    {
      "cell_type": "code",
      "source": [
        "sorted_idx = model_1_xgb.feature_importances_.argsort()\n",
        "plt.barh(list(X_train.columns[sorted_idx]), model_1_xgb.feature_importances_[sorted_idx])\n",
        "plt.xlabel(\"Xgboost Feature Importance\")"
      ],
      "metadata": {
        "id": "-RMC4rn-L1Hh",
        "outputId": "f1ff61ff-6673-489e-bc08-edd3186f30da",
        "colab": {
          "base_uri": "https://localhost:8080/",
          "height": 297
        }
      },
      "execution_count": 35,
      "outputs": [
        {
          "output_type": "execute_result",
          "data": {
            "text/plain": [
              "Text(0.5, 0, 'Xgboost Feature Importance')"
            ]
          },
          "metadata": {},
          "execution_count": 35
        },
        {
          "output_type": "display_data",
          "data": {
            "text/plain": [
              "<Figure size 432x288 with 1 Axes>"
            ],
            "image/png": "[encoded data removed]"
          },
          "metadata": {
            "needs_background": "light"
          }
        }
      ]
    },
    {
      "cell_type": "code",
      "source": [
        "rf = RandomForestRegressor(n_estimators = 500, random_state = SEED)\n",
        "rf.fit(X_train,y_train)\n",
        "preds_rf = rf.predict(X_test)\n",
        "MAPE_rf = MAPE(y_test, preds_rf)\n",
        "print('MAPE_rf:', round(100*MAPE_rf, 2))"
      ],
      "metadata": {
        "id": "HmLJBF_sHVNK",
        "outputId": "99cd7a6f-2e62-4a13-bf7e-78bf699ea856",
        "colab": {
          "base_uri": "https://localhost:8080/"
        }
      },
      "execution_count": 36,
      "outputs": [
        {
          "output_type": "stream",
          "name": "stdout",
          "text": [
            "MAPE_rf: 12.94\n"
          ]
        }
      ]
    },
    {
      "cell_type": "markdown",
      "source": [
        "Se hace la prueba de una regresión lineal con las columnas más influyentes"
      ],
      "metadata": {
        "id": "B64CET9xBsjI"
      }
    },
    {
      "cell_type": "code",
      "source": [
        "X_train_LR = X_train[['maxcontingenciaU3M','garantiacomputable','numerofinancieras','edad','vencido','vigente']]\n",
        "X_test_LR = X_test[['maxcontingenciaU3M','garantiacomputable','numerofinancieras','edad','vencido','vigente']]"
      ],
      "metadata": {
        "id": "vDJu4lKU9YRq"
      },
      "execution_count": 60,
      "outputs": []
    },
    {
      "cell_type": "code",
      "source": [
        "pipe_LR = Pipeline([('scaler',StandardScaler()),('model',LR())])\n",
        "pipe_LR.fit(X_train_LR,y_train)\n",
        "preds_LR = pipe_LR.predict(X_test_LR)\n",
        "MAPE_LR = MAPE(y_test, preds_LR)\n",
        "print('MAPE_LR:', round(100*MAPE_LR, 2))"
      ],
      "metadata": {
        "id": "ePdssgh367NV",
        "outputId": "7441ec93-1dc5-4404-a707-1c10b5175bc9",
        "colab": {
          "base_uri": "https://localhost:8080/"
        }
      },
      "execution_count": 61,
      "outputs": [
        {
          "output_type": "stream",
          "name": "stdout",
          "text": [
            "MAPE_LR: 19.54\n"
          ]
        }
      ]
    },
    {
      "cell_type": "markdown",
      "source": [
        "lo mismo con knn"
      ],
      "metadata": {
        "id": "f9zfZhWpCKRB"
      }
    },
    {
      "cell_type": "code",
      "source": [
        "pipe_KNN = Pipeline([('scaler',StandardScaler()),('model',KNN(n_neighbors=15))])\n",
        "pipe_KNN.fit(X_train_LR,y_train)\n",
        "preds_KNN = pipe_KNN.predict(X_test_LR)\n",
        "MAPE_KNN = MAPE(y_test, preds_KNN)\n",
        "print('MAPE_KNN:', round(100*MAPE_KNN, 2))"
      ],
      "metadata": {
        "id": "x8MNw4AECNUs",
        "outputId": "9c7ad04f-4857-449e-937b-2e77e051a41a",
        "colab": {
          "base_uri": "https://localhost:8080/"
        }
      },
      "execution_count": 43,
      "outputs": [
        {
          "output_type": "stream",
          "name": "stdout",
          "text": [
            "MAPE_KNN: 14.93\n"
          ]
        }
      ]
    },
    {
      "cell_type": "code",
      "source": [
        "acc_xgb=1-MAPE_xgb\n",
        "acc_rf=1-MAPE_rf\n",
        "acc_LR=1-MAPE_LR\n",
        "acc_KNN=1-MAPE_KNN\n",
        "print(acc_xgb,acc_rf,acc_LR,acc_KNN)"
      ],
      "metadata": {
        "id": "UElpQJzkGIxl",
        "outputId": "a2e9f736-f6ae-429a-fe03-31d94c1fc779",
        "colab": {
          "base_uri": "https://localhost:8080/"
        }
      },
      "execution_count": 44,
      "outputs": [
        {
          "output_type": "stream",
          "name": "stdout",
          "text": [
            "0.8737122426938504 0.8705707855291397 0.8045963004676079 0.8507348649252754\n"
          ]
        }
      ]
    },
    {
      "cell_type": "code",
      "source": [
        "preds_total = pd.DataFrame()\n",
        "preds_total['xgb'] = preds_xgb\n",
        "preds_total['rf'] = preds_rf\n",
        "preds_total['LR'] = preds_LR\n",
        "preds_total['KNN'] = preds_KNN\n",
        "preds_total['Promedio'] = (preds_total.xgb + preds_total.rf + preds_total.LR + preds_total.KNN)/4\n",
        "preds_total['Ponderado'] = (preds_total.xgb*acc_xgb + preds_total.rf*acc_rf + preds_total.LR*acc_LR + preds_total.KNN*acc_KNN)/(acc_xgb+acc_rf+acc_LR+acc_KNN)\n",
        "preds_total.head()"
      ],
      "metadata": {
        "id": "yax3TUQS3Pdx",
        "outputId": "3bda1a43-4adf-4b21-8a60-be41ca647c89",
        "colab": {
          "base_uri": "https://localhost:8080/",
          "height": 206
        }
      },
      "execution_count": 46,
      "outputs": [
        {
          "output_type": "execute_result",
          "data": {
            "text/plain": [
              "            xgb            rf            LR           KNN      Promedio  \\\n",
              "0  56225.871094  53903.396886  59269.133714  57696.117879  56773.629893   \n",
              "1  46163.406250  48219.846776  55822.080773  45979.916741  49046.312635   \n",
              "2  44002.527344  44794.256867  45679.029481  43580.524208  44514.084475   \n",
              "3  42090.472656  42940.701396  39625.365877  40425.445925  41270.496464   \n",
              "4  38738.718750  39970.249642  45698.412715  39221.046605  40907.106928   \n",
              "\n",
              "      Ponderado  \n",
              "0  56719.311906  \n",
              "1  48930.046056  \n",
              "2  44496.451407  \n",
              "3  41308.110907  \n",
              "4  40821.958465  "
            ],
            "text/html": [
              "\n",
              "  <div id=\"df-da3fd87e-a8ee-48dc-8359-34a1a3ae9805\">\n",
              "    <div class=\"colab-df-container\">\n",
              "      <div>\n",
              "<style scoped>\n",
              "    .dataframe tbody tr th:only-of-type {\n",
              "        vertical-align: middle;\n",
              "    }\n",
              "\n",
              "    .dataframe tbody tr th {\n",
              "        vertical-align: top;\n",
              "    }\n",
              "\n",
              "    .dataframe thead th {\n",
              "        text-align: right;\n",
              "    }\n",
              "</style>\n",
              "<table border=\"1\" class=\"dataframe\">\n",
              "  <thead>\n",
              "    <tr style=\"text-align: right;\">\n",
              "      <th></th>\n",
              "      <th>xgb</th>\n",
              "      <th>rf</th>\n",
              "      <th>LR</th>\n",
              "      <th>KNN</th>\n",
              "      <th>Promedio</th>\n",
              "      <th>Ponderado</th>\n",
              "    </tr>\n",
              "  </thead>\n",
              "  <tbody>\n",
              "    <tr>\n",
              "      <th>0</th>\n",
              "      <td>56225.871094</td>\n",
              "      <td>53903.396886</td>\n",
              "      <td>59269.133714</td>\n",
              "      <td>57696.117879</td>\n",
              "      <td>56773.629893</td>\n",
              "      <td>56719.311906</td>\n",
              "    </tr>\n",
              "    <tr>\n",
              "      <th>1</th>\n",
              "      <td>46163.406250</td>\n",
              "      <td>48219.846776</td>\n",
              "      <td>55822.080773</td>\n",
              "      <td>45979.916741</td>\n",
              "      <td>49046.312635</td>\n",
              "      <td>48930.046056</td>\n",
              "    </tr>\n",
              "    <tr>\n",
              "      <th>2</th>\n",
              "      <td>44002.527344</td>\n",
              "      <td>44794.256867</td>\n",
              "      <td>45679.029481</td>\n",
              "      <td>43580.524208</td>\n",
              "      <td>44514.084475</td>\n",
              "      <td>44496.451407</td>\n",
              "    </tr>\n",
              "    <tr>\n",
              "      <th>3</th>\n",
              "      <td>42090.472656</td>\n",
              "      <td>42940.701396</td>\n",
              "      <td>39625.365877</td>\n",
              "      <td>40425.445925</td>\n",
              "      <td>41270.496464</td>\n",
              "      <td>41308.110907</td>\n",
              "    </tr>\n",
              "    <tr>\n",
              "      <th>4</th>\n",
              "      <td>38738.718750</td>\n",
              "      <td>39970.249642</td>\n",
              "      <td>45698.412715</td>\n",
              "      <td>39221.046605</td>\n",
              "      <td>40907.106928</td>\n",
              "      <td>40821.958465</td>\n",
              "    </tr>\n",
              "  </tbody>\n",
              "</table>\n",
              "</div>\n",
              "      <button class=\"colab-df-convert\" onclick=\"convertToInteractive('df-da3fd87e-a8ee-48dc-8359-34a1a3ae9805')\"\n",
              "              title=\"Convert this dataframe to an interactive table.\"\n",
              "              style=\"display:none;\">\n",
              "        \n",
              "  <svg xmlns=\"http://www.w3.org/2000/svg\" height=\"24px\"viewBox=\"0 0 24 24\"\n",
              "       width=\"24px\">\n",
              "    <path d=\"M0 0h24v24H0V0z\" fill=\"none\"/>\n",
              "    <path d=\"M18.56 5.44l.94 2.06.94-2.06 2.06-.94-2.06-.94-.94-2.06-.94 2.06-2.06.94zm-11 1L8.5 8.5l.94-2.06 2.06-.94-2.06-.94L8.5 2.5l-.94 2.06-2.06.94zm10 10l.94 2.06.94-2.06 2.06-.94-2.06-.94-.94-2.06-.94 2.06-2.06.94z\"/><path d=\"M17.41 7.96l-1.37-1.37c-.4-.4-.92-.59-1.43-.59-.52 0-1.04.2-1.43.59L10.3 9.45l-7.72 7.72c-.78.78-.78 2.05 0 2.83L4 21.41c.39.39.9.59 1.41.59.51 0 1.02-.2 1.41-.59l7.78-7.78 2.81-2.81c.8-.78.8-2.07 0-2.86zM5.41 20L4 18.59l7.72-7.72 1.47 1.35L5.41 20z\"/>\n",
              "  </svg>\n",
              "      </button>\n",
              "      \n",
              "  <style>\n",
              "    .colab-df-container {\n",
              "      display:flex;\n",
              "      flex-wrap:wrap;\n",
              "      gap: 12px;\n",
              "    }\n",
              "\n",
              "    .colab-df-convert {\n",
              "      background-color: #E8F0FE;\n",
              "      border: none;\n",
              "      border-radius: 50%;\n",
              "      cursor: pointer;\n",
              "      display: none;\n",
              "      fill: #1967D2;\n",
              "      height: 32px;\n",
              "      padding: 0 0 0 0;\n",
              "      width: 32px;\n",
              "    }\n",
              "\n",
              "    .colab-df-convert:hover {\n",
              "      background-color: #E2EBFA;\n",
              "      box-shadow: 0px 1px 2px rgba(60, 64, 67, 0.3), 0px 1px 3px 1px rgba(60, 64, 67, 0.15);\n",
              "      fill: #174EA6;\n",
              "    }\n",
              "\n",
              "    [theme=dark] .colab-df-convert {\n",
              "      background-color: #3B4455;\n",
              "      fill: #D2E3FC;\n",
              "    }\n",
              "\n",
              "    [theme=dark] .colab-df-convert:hover {\n",
              "      background-color: #434B5C;\n",
              "      box-shadow: 0px 1px 3px 1px rgba(0, 0, 0, 0.15);\n",
              "      filter: drop-shadow(0px 1px 2px rgba(0, 0, 0, 0.3));\n",
              "      fill: #FFFFFF;\n",
              "    }\n",
              "  </style>\n",
              "\n",
              "      <script>\n",
              "        const buttonEl =\n",
              "          document.querySelector('#df-da3fd87e-a8ee-48dc-8359-34a1a3ae9805 button.colab-df-convert');\n",
              "        buttonEl.style.display =\n",
              "          google.colab.kernel.accessAllowed ? 'block' : 'none';\n",
              "\n",
              "        async function convertToInteractive(key) {\n",
              "          const element = document.querySelector('#df-da3fd87e-a8ee-48dc-8359-34a1a3ae9805');\n",
              "          const dataTable =\n",
              "            await google.colab.kernel.invokeFunction('convertToInteractive',\n",
              "                                                     [key], {});\n",
              "          if (!dataTable) return;\n",
              "\n",
              "          const docLinkHtml = 'Like what you see? Visit the ' +\n",
              "            '<a target=\"_blank\" href=https://colab.research.google.com/notebooks/data_table.ipynb>data table notebook</a>'\n",
              "            + ' to learn more about interactive tables.';\n",
              "          element.innerHTML = '';\n",
              "          dataTable['output_type'] = 'display_data';\n",
              "          await google.colab.output.renderOutput(dataTable, element);\n",
              "          const docLink = document.createElement('div');\n",
              "          docLink.innerHTML = docLinkHtml;\n",
              "          element.appendChild(docLink);\n",
              "        }\n",
              "      </script>\n",
              "    </div>\n",
              "  </div>\n",
              "  "
            ]
          },
          "metadata": {},
          "execution_count": 46
        }
      ]
    },
    {
      "cell_type": "code",
      "source": [
        "MAPE_promedio = MAPE(y_test, preds_total['Promedio'])\n",
        "print('MAPE_KNN:', round(100*MAPE_promedio, 2))\n",
        "MAPE_pond = MAPE(y_test, preds_total['Ponderado'])\n",
        "print('MAPE_KNN:', round(100*MAPE_pond, 2))"
      ],
      "metadata": {
        "id": "KMjoQMNgBGJf",
        "outputId": "ff41c362-1df0-4f24-ef11-a6a0f63324bd",
        "colab": {
          "base_uri": "https://localhost:8080/"
        }
      },
      "execution_count": 47,
      "outputs": [
        {
          "output_type": "stream",
          "name": "stdout",
          "text": [
            "MAPE_KNN: 13.53\n",
            "MAPE_KNN: 13.47\n"
          ]
        }
      ]
    },
    {
      "cell_type": "code",
      "source": [
        "#data de test\n",
        "url='https://drive.google.com/file/d/1sMkorQLOmf2cNGRwXkQLKeciGSUpL_ez/view?usp=sharing'\n",
        "url='https://drive.google.com/uc?id=' + url.split('/')[-2]\n",
        "df_test_original = pd.read_csv(url)"
      ],
      "metadata": {
        "id": "h6m7XceWQITM"
      },
      "execution_count": null,
      "outputs": []
    },
    {
      "cell_type": "code",
      "source": [
        "df_test = transfromar_DataFrame(df_test_original)\n"
      ],
      "metadata": {
        "id": "m1DZoRB8VmAO"
      },
      "execution_count": null,
      "outputs": []
    },
    {
      "cell_type": "code",
      "source": [
        "d_test = xgb.DMatrix(df_test)"
      ],
      "metadata": {
        "id": "1MU17RoFWIHo"
      },
      "execution_count": null,
      "outputs": []
    },
    {
      "cell_type": "code",
      "source": [
        "preds_datathon = best_model.predict(d_test)"
      ],
      "metadata": {
        "id": "a4amkxAAWYOQ"
      },
      "execution_count": null,
      "outputs": []
    },
    {
      "cell_type": "code",
      "source": [
        "pd.DataFrame(preds_datathon).to_csv('predicciones.csv') "
      ],
      "metadata": {
        "id": "l_y5kAzbWeTO"
      },
      "execution_count": null,
      "outputs": []
    }
  ]
}