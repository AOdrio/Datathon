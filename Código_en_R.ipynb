{
  "nbformat": 4,
  "nbformat_minor": 0,
  "metadata": {
    "colab": {
      "name": "Untitled4.ipynb",
      "provenance": [],
      "include_colab_link": true
    },
    "kernelspec": {
      "name": "ir",
      "display_name": "R"
    },
    "language_info": {
      "name": "R"
    }
  },
  "cells": [
    {
      "cell_type": "markdown",
      "metadata": {
        "id": "view-in-github",
        "colab_type": "text"
      },
      "source": [
        "<a href=\"https://colab.research.google.com/github/AOdrio/Datathon/blob/main/C%C3%B3digo_en_R.ipynb\" target=\"_parent\"><img src=\"https://colab.research.google.com/assets/colab-badge.svg\" alt=\"Open In Colab\"/></a>"
      ]
    },
    {
      "cell_type": "code",
      "execution_count": null,
      "metadata": {
        "id": "NpQdNiRlYTZN"
      },
      "outputs": [],
      "source": [
        "library(ggplot2)\n",
        "#install.packages('dplyr')\n",
        "library(dplyr)\n",
        "#install.packages('MASS')\n",
        "library(MASS)\n",
        "install.packages('randomForest')\n",
        "library(randomForest)\n",
        "install.packages('caret')\n",
        "library(\"caret\")\n",
        "library(\"googledrive\")\n",
        "install.packages(\"mice\")\n",
        "library(mice)\n"
      ]
    },
    {
      "cell_type": "code",
      "source": [
        "id <- \"1KH1fB83JDAWcMRCHKFf9SmcGH7MQkupE\" # google file ID\n",
        "df <- read.csv(sprintf(\"https://docs.google.com/uc?id=%s&export=download\", id))\n",
        "head(df)"
      ],
      "metadata": {
        "colab": {
          "base_uri": "https://localhost:8080/",
          "height": 306
        },
        "id": "UywtMM2JrNDX",
        "outputId": "33a840a0-295f-4771-a504-91f6d62c7966"
      },
      "execution_count": 2,
      "outputs": [
        {
          "output_type": "display_data",
          "data": {
            "text/html": [
              "<table class=\"dataframe\">\n",
              "<caption>A data.frame: 6 × 25</caption>\n",
              "<thead>\n",
              "\t<tr><th></th><th scope=col>X</th><th scope=col>vigente</th><th scope=col>vigenteAvg3M</th><th scope=col>vencido</th><th scope=col>vencidoAvg3M</th><th scope=col>avgcontingenciaU1M</th><th scope=col>avgcontingenciaU3M</th><th scope=col>sumcontingenciaU1M</th><th scope=col>sumcontingenciaU3M</th><th scope=col>maxcontingenciaU1M</th><th scope=col>⋯</th><th scope=col>numerobancosprivados</th><th scope=col>numerobancospublicos</th><th scope=col>numerofinancieras</th><th scope=col>numerobancos</th><th scope=col>numerode5ult18meses</th><th scope=col>numerode2Bult18meses</th><th scope=col>numerode3ult18meses</th><th scope=col>edad</th><th scope=col>numeromesesreportados</th><th scope=col>ingreso</th></tr>\n",
              "\t<tr><th></th><th scope=col>&lt;int&gt;</th><th scope=col>&lt;dbl&gt;</th><th scope=col>&lt;dbl&gt;</th><th scope=col>&lt;dbl&gt;</th><th scope=col>&lt;dbl&gt;</th><th scope=col>&lt;dbl&gt;</th><th scope=col>&lt;dbl&gt;</th><th scope=col>&lt;dbl&gt;</th><th scope=col>&lt;dbl&gt;</th><th scope=col>&lt;dbl&gt;</th><th scope=col>⋯</th><th scope=col>&lt;int&gt;</th><th scope=col>&lt;int&gt;</th><th scope=col>&lt;int&gt;</th><th scope=col>&lt;int&gt;</th><th scope=col>&lt;int&gt;</th><th scope=col>&lt;int&gt;</th><th scope=col>&lt;int&gt;</th><th scope=col>&lt;int&gt;</th><th scope=col>&lt;int&gt;</th><th scope=col>&lt;dbl&gt;</th></tr>\n",
              "</thead>\n",
              "<tbody>\n",
              "\t<tr><th scope=row>1</th><td>1</td><td>  4282.155</td><td>  4679.336</td><td>    0.000</td><td>    0.000</td><td> 4923.124</td><td> 3918.527</td><td>19692.50</td><td>18439.94</td><td> 6653.07</td><td>⋯</td><td>1</td><td>0</td><td>3</td><td>1</td><td>0</td><td>0</td><td>0</td><td>63</td><td>24</td><td> 31888.47</td></tr>\n",
              "\t<tr><th scope=row>2</th><td>2</td><td>  9793.123</td><td>  9450.927</td><td>83970.243</td><td>91126.581</td><td>20809.053</td><td>19126.816</td><td>41618.11</td><td>49280.50</td><td>30881.25</td><td>⋯</td><td>0</td><td>1</td><td>1</td><td>1</td><td>4</td><td>0</td><td>2</td><td>67</td><td>24</td><td> 62341.14</td></tr>\n",
              "\t<tr><th scope=row>3</th><td>3</td><td>531419.702</td><td>512057.085</td><td>    0.000</td><td>    0.000</td><td>36813.149</td><td>46144.419</td><td>36813.15</td><td>36789.29</td><td>36813.15</td><td>⋯</td><td>2</td><td>1</td><td>0</td><td>3</td><td>0</td><td>0</td><td>0</td><td>NA</td><td>24</td><td>100599.76</td></tr>\n",
              "\t<tr><th scope=row>4</th><td>4</td><td>     0.000</td><td>     0.000</td><td> 2266.729</td><td> 2633.112</td><td>11533.815</td><td>10488.339</td><td>23067.63</td><td>24025.95</td><td>19044.72</td><td>⋯</td><td>4</td><td>0</td><td>0</td><td>4</td><td>4</td><td>2</td><td>3</td><td>NA</td><td>24</td><td> 46102.90</td></tr>\n",
              "\t<tr><th scope=row>5</th><td>5</td><td>112394.057</td><td>110856.021</td><td>    0.000</td><td>    0.000</td><td>41131.334</td><td>42820.024</td><td>82262.67</td><td>77614.23</td><td>43944.58</td><td>⋯</td><td>4</td><td>0</td><td>0</td><td>4</td><td>0</td><td>0</td><td>0</td><td>65</td><td>14</td><td>109419.22</td></tr>\n",
              "\t<tr><th scope=row>6</th><td>6</td><td>     0.000</td><td>     0.000</td><td>15136.639</td><td>15028.350</td><td>38851.830</td><td>36968.398</td><td>38851.83</td><td>37783.35</td><td>38851.83</td><td>⋯</td><td>0</td><td>0</td><td>3</td><td>0</td><td>9</td><td>0</td><td>1</td><td>NA</td><td>24</td><td> 59375.89</td></tr>\n",
              "</tbody>\n",
              "</table>\n"
            ],
            "text/markdown": "\nA data.frame: 6 × 25\n\n| <!--/--> | X &lt;int&gt; | vigente &lt;dbl&gt; | vigenteAvg3M &lt;dbl&gt; | vencido &lt;dbl&gt; | vencidoAvg3M &lt;dbl&gt; | avgcontingenciaU1M &lt;dbl&gt; | avgcontingenciaU3M &lt;dbl&gt; | sumcontingenciaU1M &lt;dbl&gt; | sumcontingenciaU3M &lt;dbl&gt; | maxcontingenciaU1M &lt;dbl&gt; | ⋯ ⋯ | numerobancosprivados &lt;int&gt; | numerobancospublicos &lt;int&gt; | numerofinancieras &lt;int&gt; | numerobancos &lt;int&gt; | numerode5ult18meses &lt;int&gt; | numerode2Bult18meses &lt;int&gt; | numerode3ult18meses &lt;int&gt; | edad &lt;int&gt; | numeromesesreportados &lt;int&gt; | ingreso &lt;dbl&gt; |\n|---|---|---|---|---|---|---|---|---|---|---|---|---|---|---|---|---|---|---|---|---|---|\n| 1 | 1 |   4282.155 |   4679.336 |     0.000 |     0.000 |  4923.124 |  3918.527 | 19692.50 | 18439.94 |  6653.07 | ⋯ | 1 | 0 | 3 | 1 | 0 | 0 | 0 | 63 | 24 |  31888.47 |\n| 2 | 2 |   9793.123 |   9450.927 | 83970.243 | 91126.581 | 20809.053 | 19126.816 | 41618.11 | 49280.50 | 30881.25 | ⋯ | 0 | 1 | 1 | 1 | 4 | 0 | 2 | 67 | 24 |  62341.14 |\n| 3 | 3 | 531419.702 | 512057.085 |     0.000 |     0.000 | 36813.149 | 46144.419 | 36813.15 | 36789.29 | 36813.15 | ⋯ | 2 | 1 | 0 | 3 | 0 | 0 | 0 | NA | 24 | 100599.76 |\n| 4 | 4 |      0.000 |      0.000 |  2266.729 |  2633.112 | 11533.815 | 10488.339 | 23067.63 | 24025.95 | 19044.72 | ⋯ | 4 | 0 | 0 | 4 | 4 | 2 | 3 | NA | 24 |  46102.90 |\n| 5 | 5 | 112394.057 | 110856.021 |     0.000 |     0.000 | 41131.334 | 42820.024 | 82262.67 | 77614.23 | 43944.58 | ⋯ | 4 | 0 | 0 | 4 | 0 | 0 | 0 | 65 | 14 | 109419.22 |\n| 6 | 6 |      0.000 |      0.000 | 15136.639 | 15028.350 | 38851.830 | 36968.398 | 38851.83 | 37783.35 | 38851.83 | ⋯ | 0 | 0 | 3 | 0 | 9 | 0 | 1 | NA | 24 |  59375.89 |\n\n",
            "text/latex": "A data.frame: 6 × 25\n\\begin{tabular}{r|lllllllllllllllllllll}\n  & X & vigente & vigenteAvg3M & vencido & vencidoAvg3M & avgcontingenciaU1M & avgcontingenciaU3M & sumcontingenciaU1M & sumcontingenciaU3M & maxcontingenciaU1M & ⋯ & numerobancosprivados & numerobancospublicos & numerofinancieras & numerobancos & numerode5ult18meses & numerode2Bult18meses & numerode3ult18meses & edad & numeromesesreportados & ingreso\\\\\n  & <int> & <dbl> & <dbl> & <dbl> & <dbl> & <dbl> & <dbl> & <dbl> & <dbl> & <dbl> & ⋯ & <int> & <int> & <int> & <int> & <int> & <int> & <int> & <int> & <int> & <dbl>\\\\\n\\hline\n\t1 & 1 &   4282.155 &   4679.336 &     0.000 &     0.000 &  4923.124 &  3918.527 & 19692.50 & 18439.94 &  6653.07 & ⋯ & 1 & 0 & 3 & 1 & 0 & 0 & 0 & 63 & 24 &  31888.47\\\\\n\t2 & 2 &   9793.123 &   9450.927 & 83970.243 & 91126.581 & 20809.053 & 19126.816 & 41618.11 & 49280.50 & 30881.25 & ⋯ & 0 & 1 & 1 & 1 & 4 & 0 & 2 & 67 & 24 &  62341.14\\\\\n\t3 & 3 & 531419.702 & 512057.085 &     0.000 &     0.000 & 36813.149 & 46144.419 & 36813.15 & 36789.29 & 36813.15 & ⋯ & 2 & 1 & 0 & 3 & 0 & 0 & 0 & NA & 24 & 100599.76\\\\\n\t4 & 4 &      0.000 &      0.000 &  2266.729 &  2633.112 & 11533.815 & 10488.339 & 23067.63 & 24025.95 & 19044.72 & ⋯ & 4 & 0 & 0 & 4 & 4 & 2 & 3 & NA & 24 &  46102.90\\\\\n\t5 & 5 & 112394.057 & 110856.021 &     0.000 &     0.000 & 41131.334 & 42820.024 & 82262.67 & 77614.23 & 43944.58 & ⋯ & 4 & 0 & 0 & 4 & 0 & 0 & 0 & 65 & 14 & 109419.22\\\\\n\t6 & 6 &      0.000 &      0.000 & 15136.639 & 15028.350 & 38851.830 & 36968.398 & 38851.83 & 37783.35 & 38851.83 & ⋯ & 0 & 0 & 3 & 0 & 9 & 0 & 1 & NA & 24 &  59375.89\\\\\n\\end{tabular}\n",
            "text/plain": [
              "  X vigente    vigenteAvg3M vencido   vencidoAvg3M avgcontingenciaU1M\n",
              "1 1   4282.155   4679.336       0.000     0.000     4923.124         \n",
              "2 2   9793.123   9450.927   83970.243 91126.581    20809.053         \n",
              "3 3 531419.702 512057.085       0.000     0.000    36813.149         \n",
              "4 4      0.000      0.000    2266.729  2633.112    11533.815         \n",
              "5 5 112394.057 110856.021       0.000     0.000    41131.334         \n",
              "6 6      0.000      0.000   15136.639 15028.350    38851.830         \n",
              "  avgcontingenciaU3M sumcontingenciaU1M sumcontingenciaU3M maxcontingenciaU1M ⋯\n",
              "1  3918.527          19692.50           18439.94            6653.07           ⋯\n",
              "2 19126.816          41618.11           49280.50           30881.25           ⋯\n",
              "3 46144.419          36813.15           36789.29           36813.15           ⋯\n",
              "4 10488.339          23067.63           24025.95           19044.72           ⋯\n",
              "5 42820.024          82262.67           77614.23           43944.58           ⋯\n",
              "6 36968.398          38851.83           37783.35           38851.83           ⋯\n",
              "  numerobancosprivados numerobancospublicos numerofinancieras numerobancos\n",
              "1 1                    0                    3                 1           \n",
              "2 0                    1                    1                 1           \n",
              "3 2                    1                    0                 3           \n",
              "4 4                    0                    0                 4           \n",
              "5 4                    0                    0                 4           \n",
              "6 0                    0                    3                 0           \n",
              "  numerode5ult18meses numerode2Bult18meses numerode3ult18meses edad\n",
              "1 0                   0                    0                   63  \n",
              "2 4                   0                    2                   67  \n",
              "3 0                   0                    0                   NA  \n",
              "4 4                   2                    3                   NA  \n",
              "5 0                   0                    0                   65  \n",
              "6 9                   0                    1                   NA  \n",
              "  numeromesesreportados ingreso  \n",
              "1 24                     31888.47\n",
              "2 24                     62341.14\n",
              "3 24                    100599.76\n",
              "4 24                     46102.90\n",
              "5 14                    109419.22\n",
              "6 24                     59375.89"
            ]
          },
          "metadata": {}
        }
      ]
    },
    {
      "cell_type": "code",
      "source": [
        "str(df)"
      ],
      "metadata": {
        "colab": {
          "base_uri": "https://localhost:8080/"
        },
        "id": "wEnQ_EqMwdyw",
        "outputId": "c3ec3594-6e25-4906-a915-2317ed65a3ab"
      },
      "execution_count": 3,
      "outputs": [
        {
          "output_type": "stream",
          "name": "stdout",
          "text": [
            "'data.frame':\t40000 obs. of  25 variables:\n",
            " $ X                    : int  1 2 3 4 5 6 7 8 9 10 ...\n",
            " $ vigente              : num  4282 9793 531420 0 112394 ...\n",
            " $ vigenteAvg3M         : num  4679 9451 512057 0 110856 ...\n",
            " $ vencido              : num  0 83970 0 2267 0 ...\n",
            " $ vencidoAvg3M         : num  0 91127 0 2633 0 ...\n",
            " $ avgcontingenciaU1M   : num  4923 20809 36813 11534 41131 ...\n",
            " $ avgcontingenciaU3M   : num  3919 19127 46144 10488 42820 ...\n",
            " $ sumcontingenciaU1M   : num  19692 41618 36813 23068 82263 ...\n",
            " $ sumcontingenciaU3M   : num  18440 49280 36789 24026 77614 ...\n",
            " $ maxcontingenciaU1M   : num  6653 30881 36813 19045 43945 ...\n",
            " $ maxcontingenciaU3M   : num  7996 32794 46144 17864 42820 ...\n",
            " $ numcontingenciaU1M   : int  4 2 1 2 2 1 0 2 4 0 ...\n",
            " $ garantiacomputable   : num  0 0 0 0 0 0 0 0 0 0 ...\n",
            " $ peorcalificacionBCU  : chr  \"1C\" \"3\" \"1C\" \"5\" ...\n",
            " $ numeroinstituciones  : int  4 2 3 4 4 3 2 6 4 1 ...\n",
            " $ numerobancosprivados : int  1 0 2 4 4 0 0 0 0 0 ...\n",
            " $ numerobancospublicos : int  0 1 1 0 0 0 0 1 0 0 ...\n",
            " $ numerofinancieras    : int  3 1 0 0 0 3 2 5 4 1 ...\n",
            " $ numerobancos         : int  1 1 3 4 4 0 0 1 0 0 ...\n",
            " $ numerode5ult18meses  : int  0 4 0 4 0 9 0 0 0 6 ...\n",
            " $ numerode2Bult18meses : int  0 0 0 2 0 0 0 0 0 0 ...\n",
            " $ numerode3ult18meses  : int  0 2 0 3 0 1 0 0 0 2 ...\n",
            " $ edad                 : int  63 67 NA NA 65 NA 35 38 NA NA ...\n",
            " $ numeromesesreportados: int  24 24 24 24 14 24 24 24 21 24 ...\n",
            " $ ingreso              : num  31888 62341 100600 46103 109419 ...\n"
          ]
        }
      ]
    },
    {
      "cell_type": "code",
      "source": [
        "#Convertir variables cualitativas\n",
        "\n",
        "#unique(df$peorcalificacionBCU)\n",
        "df$peorcalificacionBCU = ifelse(df$peorcalificacionBCU == '1C', 1,\n",
        "ifelse(df$peorcalificacionBCU == '2A',2, ifelse(df$peorcalificacionBCU == '2B',3,\n",
        "ifelse(df$peorcalificacionBCU == '3',4, ifelse(df$peorcalificacionBCU == '4',5,6)))))\n",
        "\n",
        "unique(df$peorcalificacionBCU)"
      ],
      "metadata": {
        "colab": {
          "base_uri": "https://localhost:8080/",
          "height": 35
        },
        "id": "Xk16DZ6umE_P",
        "outputId": "38f260b5-027f-49e8-92e9-8f89edb6ec87"
      },
      "execution_count": 4,
      "outputs": [
        {
          "output_type": "display_data",
          "data": {
            "text/html": [
              "<style>\n",
              ".list-inline {list-style: none; margin:0; padding: 0}\n",
              ".list-inline>li {display: inline-block}\n",
              ".list-inline>li:not(:last-child)::after {content: \"\\00b7\"; padding: 0 .5ex}\n",
              "</style>\n",
              "<ol class=list-inline><li>1</li><li>4</li><li>6</li><li>3</li><li>5</li><li>2</li></ol>\n"
            ],
            "text/markdown": "1. 1\n2. 4\n3. 6\n4. 3\n5. 5\n6. 2\n\n\n",
            "text/latex": "\\begin{enumerate*}\n\\item 1\n\\item 4\n\\item 6\n\\item 3\n\\item 5\n\\item 2\n\\end{enumerate*}\n",
            "text/plain": [
              "[1] 1 4 6 3 5 2"
            ]
          },
          "metadata": {}
        }
      ]
    },
    {
      "cell_type": "code",
      "source": [
        "# Transformación de las variables categóricas en factor\n",
        "\n",
        "df <- transform(df, peorcalificacionBCU = as.factor(peorcalificacionBCU))\n",
        "\n",
        "str(df)"
      ],
      "metadata": {
        "colab": {
          "base_uri": "https://localhost:8080/"
        },
        "id": "JThoF_-Gm2iN",
        "outputId": "7297f899-7a78-422d-d0c2-1817e66ef763"
      },
      "execution_count": 5,
      "outputs": [
        {
          "output_type": "stream",
          "name": "stdout",
          "text": [
            "'data.frame':\t40000 obs. of  25 variables:\n",
            " $ X                    : int  1 2 3 4 5 6 7 8 9 10 ...\n",
            " $ vigente              : num  4282 9793 531420 0 112394 ...\n",
            " $ vigenteAvg3M         : num  4679 9451 512057 0 110856 ...\n",
            " $ vencido              : num  0 83970 0 2267 0 ...\n",
            " $ vencidoAvg3M         : num  0 91127 0 2633 0 ...\n",
            " $ avgcontingenciaU1M   : num  4923 20809 36813 11534 41131 ...\n",
            " $ avgcontingenciaU3M   : num  3919 19127 46144 10488 42820 ...\n",
            " $ sumcontingenciaU1M   : num  19692 41618 36813 23068 82263 ...\n",
            " $ sumcontingenciaU3M   : num  18440 49280 36789 24026 77614 ...\n",
            " $ maxcontingenciaU1M   : num  6653 30881 36813 19045 43945 ...\n",
            " $ maxcontingenciaU3M   : num  7996 32794 46144 17864 42820 ...\n",
            " $ numcontingenciaU1M   : int  4 2 1 2 2 1 0 2 4 0 ...\n",
            " $ garantiacomputable   : num  0 0 0 0 0 0 0 0 0 0 ...\n",
            " $ peorcalificacionBCU  : Factor w/ 6 levels \"1\",\"2\",\"3\",\"4\",..: 1 4 1 6 1 4 1 1 1 6 ...\n",
            " $ numeroinstituciones  : int  4 2 3 4 4 3 2 6 4 1 ...\n",
            " $ numerobancosprivados : int  1 0 2 4 4 0 0 0 0 0 ...\n",
            " $ numerobancospublicos : int  0 1 1 0 0 0 0 1 0 0 ...\n",
            " $ numerofinancieras    : int  3 1 0 0 0 3 2 5 4 1 ...\n",
            " $ numerobancos         : int  1 1 3 4 4 0 0 1 0 0 ...\n",
            " $ numerode5ult18meses  : int  0 4 0 4 0 9 0 0 0 6 ...\n",
            " $ numerode2Bult18meses : int  0 0 0 2 0 0 0 0 0 0 ...\n",
            " $ numerode3ult18meses  : int  0 2 0 3 0 1 0 0 0 2 ...\n",
            " $ edad                 : int  63 67 NA NA 65 NA 35 38 NA NA ...\n",
            " $ numeromesesreportados: int  24 24 24 24 14 24 24 24 21 24 ...\n",
            " $ ingreso              : num  31888 62341 100600 46103 109419 ...\n"
          ]
        }
      ]
    },
    {
      "cell_type": "code",
      "source": [
        "# Evaluando Missing Values\n",
        "\n",
        "na_count <-sapply(df, function(y) sum(length(which(is.na(y)))))\n",
        "na_count <- data.frame(na_count)\n",
        "na_count"
      ],
      "metadata": {
        "colab": {
          "base_uri": "https://localhost:8080/",
          "height": 882
        },
        "id": "vt3xnobfw1fm",
        "outputId": "2243b818-5c2d-4892-e381-d874034874d5"
      },
      "execution_count": 6,
      "outputs": [
        {
          "output_type": "display_data",
          "data": {
            "text/html": [
              "<table class=\"dataframe\">\n",
              "<caption>A data.frame: 25 × 1</caption>\n",
              "<thead>\n",
              "\t<tr><th></th><th scope=col>na_count</th></tr>\n",
              "\t<tr><th></th><th scope=col>&lt;int&gt;</th></tr>\n",
              "</thead>\n",
              "<tbody>\n",
              "\t<tr><th scope=row>X</th><td>    0</td></tr>\n",
              "\t<tr><th scope=row>vigente</th><td>    0</td></tr>\n",
              "\t<tr><th scope=row>vigenteAvg3M</th><td>    0</td></tr>\n",
              "\t<tr><th scope=row>vencido</th><td>    0</td></tr>\n",
              "\t<tr><th scope=row>vencidoAvg3M</th><td>    0</td></tr>\n",
              "\t<tr><th scope=row>avgcontingenciaU1M</th><td>    0</td></tr>\n",
              "\t<tr><th scope=row>avgcontingenciaU3M</th><td>    0</td></tr>\n",
              "\t<tr><th scope=row>sumcontingenciaU1M</th><td>    0</td></tr>\n",
              "\t<tr><th scope=row>sumcontingenciaU3M</th><td>    0</td></tr>\n",
              "\t<tr><th scope=row>maxcontingenciaU1M</th><td>    0</td></tr>\n",
              "\t<tr><th scope=row>maxcontingenciaU3M</th><td>    0</td></tr>\n",
              "\t<tr><th scope=row>numcontingenciaU1M</th><td>    0</td></tr>\n",
              "\t<tr><th scope=row>garantiacomputable</th><td>    0</td></tr>\n",
              "\t<tr><th scope=row>peorcalificacionBCU</th><td>    0</td></tr>\n",
              "\t<tr><th scope=row>numeroinstituciones</th><td>    0</td></tr>\n",
              "\t<tr><th scope=row>numerobancosprivados</th><td>    0</td></tr>\n",
              "\t<tr><th scope=row>numerobancospublicos</th><td>    0</td></tr>\n",
              "\t<tr><th scope=row>numerofinancieras</th><td>    0</td></tr>\n",
              "\t<tr><th scope=row>numerobancos</th><td>    0</td></tr>\n",
              "\t<tr><th scope=row>numerode5ult18meses</th><td>    0</td></tr>\n",
              "\t<tr><th scope=row>numerode2Bult18meses</th><td>    0</td></tr>\n",
              "\t<tr><th scope=row>numerode3ult18meses</th><td>    0</td></tr>\n",
              "\t<tr><th scope=row>edad</th><td>11429</td></tr>\n",
              "\t<tr><th scope=row>numeromesesreportados</th><td>    0</td></tr>\n",
              "\t<tr><th scope=row>ingreso</th><td>    0</td></tr>\n",
              "</tbody>\n",
              "</table>\n"
            ],
            "text/markdown": "\nA data.frame: 25 × 1\n\n| <!--/--> | na_count &lt;int&gt; |\n|---|---|\n| X |     0 |\n| vigente |     0 |\n| vigenteAvg3M |     0 |\n| vencido |     0 |\n| vencidoAvg3M |     0 |\n| avgcontingenciaU1M |     0 |\n| avgcontingenciaU3M |     0 |\n| sumcontingenciaU1M |     0 |\n| sumcontingenciaU3M |     0 |\n| maxcontingenciaU1M |     0 |\n| maxcontingenciaU3M |     0 |\n| numcontingenciaU1M |     0 |\n| garantiacomputable |     0 |\n| peorcalificacionBCU |     0 |\n| numeroinstituciones |     0 |\n| numerobancosprivados |     0 |\n| numerobancospublicos |     0 |\n| numerofinancieras |     0 |\n| numerobancos |     0 |\n| numerode5ult18meses |     0 |\n| numerode2Bult18meses |     0 |\n| numerode3ult18meses |     0 |\n| edad | 11429 |\n| numeromesesreportados |     0 |\n| ingreso |     0 |\n\n",
            "text/latex": "A data.frame: 25 × 1\n\\begin{tabular}{r|l}\n  & na\\_count\\\\\n  & <int>\\\\\n\\hline\n\tX &     0\\\\\n\tvigente &     0\\\\\n\tvigenteAvg3M &     0\\\\\n\tvencido &     0\\\\\n\tvencidoAvg3M &     0\\\\\n\tavgcontingenciaU1M &     0\\\\\n\tavgcontingenciaU3M &     0\\\\\n\tsumcontingenciaU1M &     0\\\\\n\tsumcontingenciaU3M &     0\\\\\n\tmaxcontingenciaU1M &     0\\\\\n\tmaxcontingenciaU3M &     0\\\\\n\tnumcontingenciaU1M &     0\\\\\n\tgarantiacomputable &     0\\\\\n\tpeorcalificacionBCU &     0\\\\\n\tnumeroinstituciones &     0\\\\\n\tnumerobancosprivados &     0\\\\\n\tnumerobancospublicos &     0\\\\\n\tnumerofinancieras &     0\\\\\n\tnumerobancos &     0\\\\\n\tnumerode5ult18meses &     0\\\\\n\tnumerode2Bult18meses &     0\\\\\n\tnumerode3ult18meses &     0\\\\\n\tedad & 11429\\\\\n\tnumeromesesreportados &     0\\\\\n\tingreso &     0\\\\\n\\end{tabular}\n",
            "text/plain": [
              "                      na_count\n",
              "X                         0   \n",
              "vigente                   0   \n",
              "vigenteAvg3M              0   \n",
              "vencido                   0   \n",
              "vencidoAvg3M              0   \n",
              "avgcontingenciaU1M        0   \n",
              "avgcontingenciaU3M        0   \n",
              "sumcontingenciaU1M        0   \n",
              "sumcontingenciaU3M        0   \n",
              "maxcontingenciaU1M        0   \n",
              "maxcontingenciaU3M        0   \n",
              "numcontingenciaU1M        0   \n",
              "garantiacomputable        0   \n",
              "peorcalificacionBCU       0   \n",
              "numeroinstituciones       0   \n",
              "numerobancosprivados      0   \n",
              "numerobancospublicos      0   \n",
              "numerofinancieras         0   \n",
              "numerobancos              0   \n",
              "numerode5ult18meses       0   \n",
              "numerode2Bult18meses      0   \n",
              "numerode3ult18meses       0   \n",
              "edad                  11429   \n",
              "numeromesesreportados     0   \n",
              "ingreso                   0   "
            ]
          },
          "metadata": {}
        }
      ]
    },
    {
      "cell_type": "code",
      "source": [
        "# Completando Missing Values\n",
        "\n",
        "mice_imputes = mice(df, m=5, maxit = 50)\n",
        "#methods(mice)\n",
        "\n",
        "df = complete(mice_imputes,5)\n",
        "\n",
        "na_count <-sapply(df, function(y) sum(length(which(is.na(y)))))\n",
        "na_count <- data.frame(na_count)\n",
        "na_count"
      ],
      "metadata": {
        "colab": {
          "base_uri": "https://localhost:8080/",
          "height": 1000
        },
        "id": "nVzh-PIE7AaE",
        "outputId": "e55aaa5f-47d2-442f-cbd2-8fc59b532b49"
      },
      "execution_count": 7,
      "outputs": [
        {
          "output_type": "stream",
          "name": "stdout",
          "text": [
            "\n",
            " iter imp variable\n",
            "  1   1  edad\n",
            "  1   2  edad\n",
            "  1   3  edad\n",
            "  1   4  edad\n",
            "  1   5  edad\n",
            "  2   1  edad\n",
            "  2   2  edad\n",
            "  2   3  edad\n",
            "  2   4  edad\n",
            "  2   5  edad\n",
            "  3   1  edad\n",
            "  3   2  edad\n",
            "  3   3  edad\n",
            "  3   4  edad\n",
            "  3   5  edad\n",
            "  4   1  edad\n",
            "  4   2  edad\n",
            "  4   3  edad\n",
            "  4   4  edad\n",
            "  4   5  edad\n",
            "  5   1  edad\n",
            "  5   2  edad\n",
            "  5   3  edad\n",
            "  5   4  edad\n",
            "  5   5  edad\n",
            "  6   1  edad\n",
            "  6   2  edad\n",
            "  6   3  edad\n",
            "  6   4  edad\n",
            "  6   5  edad\n",
            "  7   1  edad\n",
            "  7   2  edad\n",
            "  7   3  edad\n",
            "  7   4  edad\n",
            "  7   5  edad\n",
            "  8   1  edad\n",
            "  8   2  edad\n",
            "  8   3  edad\n",
            "  8   4  edad\n",
            "  8   5  edad\n",
            "  9   1  edad\n",
            "  9   2  edad\n",
            "  9   3  edad\n",
            "  9   4  edad\n",
            "  9   5  edad\n",
            "  10   1  edad\n",
            "  10   2  edad\n",
            "  10   3  edad\n",
            "  10   4  edad\n",
            "  10   5  edad\n",
            "  11   1  edad\n",
            "  11   2  edad\n",
            "  11   3  edad\n",
            "  11   4  edad\n",
            "  11   5  edad\n",
            "  12   1  edad\n",
            "  12   2  edad\n",
            "  12   3  edad\n",
            "  12   4  edad\n",
            "  12   5  edad\n",
            "  13   1  edad\n",
            "  13   2  edad\n",
            "  13   3  edad\n",
            "  13   4  edad\n",
            "  13   5  edad\n",
            "  14   1  edad\n",
            "  14   2  edad\n",
            "  14   3  edad\n",
            "  14   4  edad\n",
            "  14   5  edad\n",
            "  15   1  edad\n",
            "  15   2  edad\n",
            "  15   3  edad\n",
            "  15   4  edad\n",
            "  15   5  edad\n",
            "  16   1  edad\n",
            "  16   2  edad\n",
            "  16   3  edad\n",
            "  16   4  edad\n",
            "  16   5  edad\n",
            "  17   1  edad\n",
            "  17   2  edad\n",
            "  17   3  edad\n",
            "  17   4  edad\n",
            "  17   5  edad\n",
            "  18   1  edad\n",
            "  18   2  edad\n",
            "  18   3  edad\n",
            "  18   4  edad\n",
            "  18   5  edad\n",
            "  19   1  edad\n",
            "  19   2  edad\n",
            "  19   3  edad\n",
            "  19   4  edad\n",
            "  19   5  edad\n",
            "  20   1  edad\n",
            "  20   2  edad\n",
            "  20   3  edad\n",
            "  20   4  edad\n",
            "  20   5  edad\n",
            "  21   1  edad\n",
            "  21   2  edad\n",
            "  21   3  edad\n",
            "  21   4  edad\n",
            "  21   5  edad\n",
            "  22   1  edad\n",
            "  22   2  edad\n",
            "  22   3  edad\n",
            "  22   4  edad\n",
            "  22   5  edad\n",
            "  23   1  edad\n",
            "  23   2  edad\n",
            "  23   3  edad\n",
            "  23   4  edad\n",
            "  23   5  edad\n",
            "  24   1  edad\n",
            "  24   2  edad\n",
            "  24   3  edad\n",
            "  24   4  edad\n",
            "  24   5  edad\n",
            "  25   1  edad\n",
            "  25   2  edad\n",
            "  25   3  edad\n",
            "  25   4  edad\n",
            "  25   5  edad\n",
            "  26   1  edad\n",
            "  26   2  edad\n",
            "  26   3  edad\n",
            "  26   4  edad\n",
            "  26   5  edad\n",
            "  27   1  edad\n",
            "  27   2  edad\n",
            "  27   3  edad\n",
            "  27   4  edad\n",
            "  27   5  edad\n",
            "  28   1  edad\n",
            "  28   2  edad\n",
            "  28   3  edad\n",
            "  28   4  edad\n",
            "  28   5  edad\n",
            "  29   1  edad\n",
            "  29   2  edad\n",
            "  29   3  edad\n",
            "  29   4  edad\n",
            "  29   5  edad\n",
            "  30   1  edad\n",
            "  30   2  edad\n",
            "  30   3  edad\n",
            "  30   4  edad\n",
            "  30   5  edad\n",
            "  31   1  edad\n",
            "  31   2  edad\n",
            "  31   3  edad\n",
            "  31   4  edad\n",
            "  31   5  edad\n",
            "  32   1  edad\n",
            "  32   2  edad\n",
            "  32   3  edad\n",
            "  32   4  edad\n",
            "  32   5  edad\n",
            "  33   1  edad\n",
            "  33   2  edad\n",
            "  33   3  edad\n",
            "  33   4  edad\n",
            "  33   5  edad\n",
            "  34   1  edad\n",
            "  34   2  edad\n",
            "  34   3  edad\n",
            "  34   4  edad\n",
            "  34   5  edad\n",
            "  35   1  edad\n",
            "  35   2  edad\n",
            "  35   3  edad\n",
            "  35   4  edad\n",
            "  35   5  edad\n",
            "  36   1  edad\n",
            "  36   2  edad\n",
            "  36   3  edad\n",
            "  36   4  edad\n",
            "  36   5  edad\n",
            "  37   1  edad\n",
            "  37   2  edad\n",
            "  37   3  edad\n",
            "  37   4  edad\n",
            "  37   5  edad\n",
            "  38   1  edad\n",
            "  38   2  edad\n",
            "  38   3  edad\n",
            "  38   4  edad\n",
            "  38   5  edad\n",
            "  39   1  edad\n",
            "  39   2  edad\n",
            "  39   3  edad\n",
            "  39   4  edad\n",
            "  39   5  edad\n",
            "  40   1  edad\n",
            "  40   2  edad\n",
            "  40   3  edad\n",
            "  40   4  edad\n",
            "  40   5  edad\n",
            "  41   1  edad\n",
            "  41   2  edad\n",
            "  41   3  edad\n",
            "  41   4  edad\n",
            "  41   5  edad\n",
            "  42   1  edad\n",
            "  42   2  edad\n",
            "  42   3  edad\n",
            "  42   4  edad\n",
            "  42   5  edad\n",
            "  43   1  edad\n",
            "  43   2  edad\n",
            "  43   3  edad\n",
            "  43   4  edad\n",
            "  43   5  edad\n",
            "  44   1  edad\n",
            "  44   2  edad\n",
            "  44   3  edad\n",
            "  44   4  edad\n",
            "  44   5  edad\n",
            "  45   1  edad\n",
            "  45   2  edad\n",
            "  45   3  edad\n",
            "  45   4  edad\n",
            "  45   5  edad\n",
            "  46   1  edad\n",
            "  46   2  edad\n",
            "  46   3  edad\n",
            "  46   4  edad\n",
            "  46   5  edad\n",
            "  47   1  edad\n",
            "  47   2  edad\n",
            "  47   3  edad\n",
            "  47   4  edad\n",
            "  47   5  edad\n",
            "  48   1  edad\n",
            "  48   2  edad\n",
            "  48   3  edad\n",
            "  48   4  edad\n",
            "  48   5  edad\n",
            "  49   1  edad\n",
            "  49   2  edad\n",
            "  49   3  edad\n",
            "  49   4  edad\n",
            "  49   5  edad\n",
            "  50   1  edad\n",
            "  50   2  edad\n",
            "  50   3  edad\n",
            "  50   4  edad\n",
            "  50   5  edad\n"
          ]
        },
        {
          "output_type": "stream",
          "name": "stderr",
          "text": [
            "Warning message:\n",
            "“Number of logged events: 250”\n"
          ]
        },
        {
          "output_type": "display_data",
          "data": {
            "text/html": [
              "<table class=\"dataframe\">\n",
              "<caption>A data.frame: 25 × 1</caption>\n",
              "<thead>\n",
              "\t<tr><th></th><th scope=col>na_count</th></tr>\n",
              "\t<tr><th></th><th scope=col>&lt;int&gt;</th></tr>\n",
              "</thead>\n",
              "<tbody>\n",
              "\t<tr><th scope=row>X</th><td>0</td></tr>\n",
              "\t<tr><th scope=row>vigente</th><td>0</td></tr>\n",
              "\t<tr><th scope=row>vigenteAvg3M</th><td>0</td></tr>\n",
              "\t<tr><th scope=row>vencido</th><td>0</td></tr>\n",
              "\t<tr><th scope=row>vencidoAvg3M</th><td>0</td></tr>\n",
              "\t<tr><th scope=row>avgcontingenciaU1M</th><td>0</td></tr>\n",
              "\t<tr><th scope=row>avgcontingenciaU3M</th><td>0</td></tr>\n",
              "\t<tr><th scope=row>sumcontingenciaU1M</th><td>0</td></tr>\n",
              "\t<tr><th scope=row>sumcontingenciaU3M</th><td>0</td></tr>\n",
              "\t<tr><th scope=row>maxcontingenciaU1M</th><td>0</td></tr>\n",
              "\t<tr><th scope=row>maxcontingenciaU3M</th><td>0</td></tr>\n",
              "\t<tr><th scope=row>numcontingenciaU1M</th><td>0</td></tr>\n",
              "\t<tr><th scope=row>garantiacomputable</th><td>0</td></tr>\n",
              "\t<tr><th scope=row>peorcalificacionBCU</th><td>0</td></tr>\n",
              "\t<tr><th scope=row>numeroinstituciones</th><td>0</td></tr>\n",
              "\t<tr><th scope=row>numerobancosprivados</th><td>0</td></tr>\n",
              "\t<tr><th scope=row>numerobancospublicos</th><td>0</td></tr>\n",
              "\t<tr><th scope=row>numerofinancieras</th><td>0</td></tr>\n",
              "\t<tr><th scope=row>numerobancos</th><td>0</td></tr>\n",
              "\t<tr><th scope=row>numerode5ult18meses</th><td>0</td></tr>\n",
              "\t<tr><th scope=row>numerode2Bult18meses</th><td>0</td></tr>\n",
              "\t<tr><th scope=row>numerode3ult18meses</th><td>0</td></tr>\n",
              "\t<tr><th scope=row>edad</th><td>0</td></tr>\n",
              "\t<tr><th scope=row>numeromesesreportados</th><td>0</td></tr>\n",
              "\t<tr><th scope=row>ingreso</th><td>0</td></tr>\n",
              "</tbody>\n",
              "</table>\n"
            ],
            "text/markdown": "\nA data.frame: 25 × 1\n\n| <!--/--> | na_count &lt;int&gt; |\n|---|---|\n| X | 0 |\n| vigente | 0 |\n| vigenteAvg3M | 0 |\n| vencido | 0 |\n| vencidoAvg3M | 0 |\n| avgcontingenciaU1M | 0 |\n| avgcontingenciaU3M | 0 |\n| sumcontingenciaU1M | 0 |\n| sumcontingenciaU3M | 0 |\n| maxcontingenciaU1M | 0 |\n| maxcontingenciaU3M | 0 |\n| numcontingenciaU1M | 0 |\n| garantiacomputable | 0 |\n| peorcalificacionBCU | 0 |\n| numeroinstituciones | 0 |\n| numerobancosprivados | 0 |\n| numerobancospublicos | 0 |\n| numerofinancieras | 0 |\n| numerobancos | 0 |\n| numerode5ult18meses | 0 |\n| numerode2Bult18meses | 0 |\n| numerode3ult18meses | 0 |\n| edad | 0 |\n| numeromesesreportados | 0 |\n| ingreso | 0 |\n\n",
            "text/latex": "A data.frame: 25 × 1\n\\begin{tabular}{r|l}\n  & na\\_count\\\\\n  & <int>\\\\\n\\hline\n\tX & 0\\\\\n\tvigente & 0\\\\\n\tvigenteAvg3M & 0\\\\\n\tvencido & 0\\\\\n\tvencidoAvg3M & 0\\\\\n\tavgcontingenciaU1M & 0\\\\\n\tavgcontingenciaU3M & 0\\\\\n\tsumcontingenciaU1M & 0\\\\\n\tsumcontingenciaU3M & 0\\\\\n\tmaxcontingenciaU1M & 0\\\\\n\tmaxcontingenciaU3M & 0\\\\\n\tnumcontingenciaU1M & 0\\\\\n\tgarantiacomputable & 0\\\\\n\tpeorcalificacionBCU & 0\\\\\n\tnumeroinstituciones & 0\\\\\n\tnumerobancosprivados & 0\\\\\n\tnumerobancospublicos & 0\\\\\n\tnumerofinancieras & 0\\\\\n\tnumerobancos & 0\\\\\n\tnumerode5ult18meses & 0\\\\\n\tnumerode2Bult18meses & 0\\\\\n\tnumerode3ult18meses & 0\\\\\n\tedad & 0\\\\\n\tnumeromesesreportados & 0\\\\\n\tingreso & 0\\\\\n\\end{tabular}\n",
            "text/plain": [
              "                      na_count\n",
              "X                     0       \n",
              "vigente               0       \n",
              "vigenteAvg3M          0       \n",
              "vencido               0       \n",
              "vencidoAvg3M          0       \n",
              "avgcontingenciaU1M    0       \n",
              "avgcontingenciaU3M    0       \n",
              "sumcontingenciaU1M    0       \n",
              "sumcontingenciaU3M    0       \n",
              "maxcontingenciaU1M    0       \n",
              "maxcontingenciaU3M    0       \n",
              "numcontingenciaU1M    0       \n",
              "garantiacomputable    0       \n",
              "peorcalificacionBCU   0       \n",
              "numeroinstituciones   0       \n",
              "numerobancosprivados  0       \n",
              "numerobancospublicos  0       \n",
              "numerofinancieras     0       \n",
              "numerobancos          0       \n",
              "numerode5ult18meses   0       \n",
              "numerode2Bult18meses  0       \n",
              "numerode3ult18meses   0       \n",
              "edad                  0       \n",
              "numeromesesreportados 0       \n",
              "ingreso               0       "
            ]
          },
          "metadata": {}
        }
      ]
    },
    {
      "cell_type": "code",
      "source": [
        "head(df)"
      ],
      "metadata": {
        "colab": {
          "base_uri": "https://localhost:8080/",
          "height": 306
        },
        "id": "nwd336Qw7IQI",
        "outputId": "7dff986c-9849-42c4-c261-f1436e23c841"
      },
      "execution_count": 8,
      "outputs": [
        {
          "output_type": "display_data",
          "data": {
            "text/html": [
              "<table class=\"dataframe\">\n",
              "<caption>A data.frame: 6 × 25</caption>\n",
              "<thead>\n",
              "\t<tr><th></th><th scope=col>X</th><th scope=col>vigente</th><th scope=col>vigenteAvg3M</th><th scope=col>vencido</th><th scope=col>vencidoAvg3M</th><th scope=col>avgcontingenciaU1M</th><th scope=col>avgcontingenciaU3M</th><th scope=col>sumcontingenciaU1M</th><th scope=col>sumcontingenciaU3M</th><th scope=col>maxcontingenciaU1M</th><th scope=col>⋯</th><th scope=col>numerobancosprivados</th><th scope=col>numerobancospublicos</th><th scope=col>numerofinancieras</th><th scope=col>numerobancos</th><th scope=col>numerode5ult18meses</th><th scope=col>numerode2Bult18meses</th><th scope=col>numerode3ult18meses</th><th scope=col>edad</th><th scope=col>numeromesesreportados</th><th scope=col>ingreso</th></tr>\n",
              "\t<tr><th></th><th scope=col>&lt;int&gt;</th><th scope=col>&lt;dbl&gt;</th><th scope=col>&lt;dbl&gt;</th><th scope=col>&lt;dbl&gt;</th><th scope=col>&lt;dbl&gt;</th><th scope=col>&lt;dbl&gt;</th><th scope=col>&lt;dbl&gt;</th><th scope=col>&lt;dbl&gt;</th><th scope=col>&lt;dbl&gt;</th><th scope=col>&lt;dbl&gt;</th><th scope=col>⋯</th><th scope=col>&lt;int&gt;</th><th scope=col>&lt;int&gt;</th><th scope=col>&lt;int&gt;</th><th scope=col>&lt;int&gt;</th><th scope=col>&lt;int&gt;</th><th scope=col>&lt;int&gt;</th><th scope=col>&lt;int&gt;</th><th scope=col>&lt;int&gt;</th><th scope=col>&lt;int&gt;</th><th scope=col>&lt;dbl&gt;</th></tr>\n",
              "</thead>\n",
              "<tbody>\n",
              "\t<tr><th scope=row>1</th><td>1</td><td>  4282.155</td><td>  4679.336</td><td>    0.000</td><td>    0.000</td><td> 4923.124</td><td> 3918.527</td><td>19692.50</td><td>18439.94</td><td> 6653.07</td><td>⋯</td><td>1</td><td>0</td><td>3</td><td>1</td><td>0</td><td>0</td><td>0</td><td>63</td><td>24</td><td> 31888.47</td></tr>\n",
              "\t<tr><th scope=row>2</th><td>2</td><td>  9793.123</td><td>  9450.927</td><td>83970.243</td><td>91126.581</td><td>20809.053</td><td>19126.816</td><td>41618.11</td><td>49280.50</td><td>30881.25</td><td>⋯</td><td>0</td><td>1</td><td>1</td><td>1</td><td>4</td><td>0</td><td>2</td><td>67</td><td>24</td><td> 62341.14</td></tr>\n",
              "\t<tr><th scope=row>3</th><td>3</td><td>531419.702</td><td>512057.085</td><td>    0.000</td><td>    0.000</td><td>36813.149</td><td>46144.419</td><td>36813.15</td><td>36789.29</td><td>36813.15</td><td>⋯</td><td>2</td><td>1</td><td>0</td><td>3</td><td>0</td><td>0</td><td>0</td><td>66</td><td>24</td><td>100599.76</td></tr>\n",
              "\t<tr><th scope=row>4</th><td>4</td><td>     0.000</td><td>     0.000</td><td> 2266.729</td><td> 2633.112</td><td>11533.815</td><td>10488.339</td><td>23067.63</td><td>24025.95</td><td>19044.72</td><td>⋯</td><td>4</td><td>0</td><td>0</td><td>4</td><td>4</td><td>2</td><td>3</td><td>36</td><td>24</td><td> 46102.90</td></tr>\n",
              "\t<tr><th scope=row>5</th><td>5</td><td>112394.057</td><td>110856.021</td><td>    0.000</td><td>    0.000</td><td>41131.334</td><td>42820.024</td><td>82262.67</td><td>77614.23</td><td>43944.58</td><td>⋯</td><td>4</td><td>0</td><td>0</td><td>4</td><td>0</td><td>0</td><td>0</td><td>65</td><td>14</td><td>109419.22</td></tr>\n",
              "\t<tr><th scope=row>6</th><td>6</td><td>     0.000</td><td>     0.000</td><td>15136.639</td><td>15028.350</td><td>38851.830</td><td>36968.398</td><td>38851.83</td><td>37783.35</td><td>38851.83</td><td>⋯</td><td>0</td><td>0</td><td>3</td><td>0</td><td>9</td><td>0</td><td>1</td><td>48</td><td>24</td><td> 59375.89</td></tr>\n",
              "</tbody>\n",
              "</table>\n"
            ],
            "text/markdown": "\nA data.frame: 6 × 25\n\n| <!--/--> | X &lt;int&gt; | vigente &lt;dbl&gt; | vigenteAvg3M &lt;dbl&gt; | vencido &lt;dbl&gt; | vencidoAvg3M &lt;dbl&gt; | avgcontingenciaU1M &lt;dbl&gt; | avgcontingenciaU3M &lt;dbl&gt; | sumcontingenciaU1M &lt;dbl&gt; | sumcontingenciaU3M &lt;dbl&gt; | maxcontingenciaU1M &lt;dbl&gt; | ⋯ ⋯ | numerobancosprivados &lt;int&gt; | numerobancospublicos &lt;int&gt; | numerofinancieras &lt;int&gt; | numerobancos &lt;int&gt; | numerode5ult18meses &lt;int&gt; | numerode2Bult18meses &lt;int&gt; | numerode3ult18meses &lt;int&gt; | edad &lt;int&gt; | numeromesesreportados &lt;int&gt; | ingreso &lt;dbl&gt; |\n|---|---|---|---|---|---|---|---|---|---|---|---|---|---|---|---|---|---|---|---|---|---|\n| 1 | 1 |   4282.155 |   4679.336 |     0.000 |     0.000 |  4923.124 |  3918.527 | 19692.50 | 18439.94 |  6653.07 | ⋯ | 1 | 0 | 3 | 1 | 0 | 0 | 0 | 63 | 24 |  31888.47 |\n| 2 | 2 |   9793.123 |   9450.927 | 83970.243 | 91126.581 | 20809.053 | 19126.816 | 41618.11 | 49280.50 | 30881.25 | ⋯ | 0 | 1 | 1 | 1 | 4 | 0 | 2 | 67 | 24 |  62341.14 |\n| 3 | 3 | 531419.702 | 512057.085 |     0.000 |     0.000 | 36813.149 | 46144.419 | 36813.15 | 36789.29 | 36813.15 | ⋯ | 2 | 1 | 0 | 3 | 0 | 0 | 0 | 66 | 24 | 100599.76 |\n| 4 | 4 |      0.000 |      0.000 |  2266.729 |  2633.112 | 11533.815 | 10488.339 | 23067.63 | 24025.95 | 19044.72 | ⋯ | 4 | 0 | 0 | 4 | 4 | 2 | 3 | 36 | 24 |  46102.90 |\n| 5 | 5 | 112394.057 | 110856.021 |     0.000 |     0.000 | 41131.334 | 42820.024 | 82262.67 | 77614.23 | 43944.58 | ⋯ | 4 | 0 | 0 | 4 | 0 | 0 | 0 | 65 | 14 | 109419.22 |\n| 6 | 6 |      0.000 |      0.000 | 15136.639 | 15028.350 | 38851.830 | 36968.398 | 38851.83 | 37783.35 | 38851.83 | ⋯ | 0 | 0 | 3 | 0 | 9 | 0 | 1 | 48 | 24 |  59375.89 |\n\n",
            "text/latex": "A data.frame: 6 × 25\n\\begin{tabular}{r|lllllllllllllllllllll}\n  & X & vigente & vigenteAvg3M & vencido & vencidoAvg3M & avgcontingenciaU1M & avgcontingenciaU3M & sumcontingenciaU1M & sumcontingenciaU3M & maxcontingenciaU1M & ⋯ & numerobancosprivados & numerobancospublicos & numerofinancieras & numerobancos & numerode5ult18meses & numerode2Bult18meses & numerode3ult18meses & edad & numeromesesreportados & ingreso\\\\\n  & <int> & <dbl> & <dbl> & <dbl> & <dbl> & <dbl> & <dbl> & <dbl> & <dbl> & <dbl> & ⋯ & <int> & <int> & <int> & <int> & <int> & <int> & <int> & <int> & <int> & <dbl>\\\\\n\\hline\n\t1 & 1 &   4282.155 &   4679.336 &     0.000 &     0.000 &  4923.124 &  3918.527 & 19692.50 & 18439.94 &  6653.07 & ⋯ & 1 & 0 & 3 & 1 & 0 & 0 & 0 & 63 & 24 &  31888.47\\\\\n\t2 & 2 &   9793.123 &   9450.927 & 83970.243 & 91126.581 & 20809.053 & 19126.816 & 41618.11 & 49280.50 & 30881.25 & ⋯ & 0 & 1 & 1 & 1 & 4 & 0 & 2 & 67 & 24 &  62341.14\\\\\n\t3 & 3 & 531419.702 & 512057.085 &     0.000 &     0.000 & 36813.149 & 46144.419 & 36813.15 & 36789.29 & 36813.15 & ⋯ & 2 & 1 & 0 & 3 & 0 & 0 & 0 & 66 & 24 & 100599.76\\\\\n\t4 & 4 &      0.000 &      0.000 &  2266.729 &  2633.112 & 11533.815 & 10488.339 & 23067.63 & 24025.95 & 19044.72 & ⋯ & 4 & 0 & 0 & 4 & 4 & 2 & 3 & 36 & 24 &  46102.90\\\\\n\t5 & 5 & 112394.057 & 110856.021 &     0.000 &     0.000 & 41131.334 & 42820.024 & 82262.67 & 77614.23 & 43944.58 & ⋯ & 4 & 0 & 0 & 4 & 0 & 0 & 0 & 65 & 14 & 109419.22\\\\\n\t6 & 6 &      0.000 &      0.000 & 15136.639 & 15028.350 & 38851.830 & 36968.398 & 38851.83 & 37783.35 & 38851.83 & ⋯ & 0 & 0 & 3 & 0 & 9 & 0 & 1 & 48 & 24 &  59375.89\\\\\n\\end{tabular}\n",
            "text/plain": [
              "  X vigente    vigenteAvg3M vencido   vencidoAvg3M avgcontingenciaU1M\n",
              "1 1   4282.155   4679.336       0.000     0.000     4923.124         \n",
              "2 2   9793.123   9450.927   83970.243 91126.581    20809.053         \n",
              "3 3 531419.702 512057.085       0.000     0.000    36813.149         \n",
              "4 4      0.000      0.000    2266.729  2633.112    11533.815         \n",
              "5 5 112394.057 110856.021       0.000     0.000    41131.334         \n",
              "6 6      0.000      0.000   15136.639 15028.350    38851.830         \n",
              "  avgcontingenciaU3M sumcontingenciaU1M sumcontingenciaU3M maxcontingenciaU1M ⋯\n",
              "1  3918.527          19692.50           18439.94            6653.07           ⋯\n",
              "2 19126.816          41618.11           49280.50           30881.25           ⋯\n",
              "3 46144.419          36813.15           36789.29           36813.15           ⋯\n",
              "4 10488.339          23067.63           24025.95           19044.72           ⋯\n",
              "5 42820.024          82262.67           77614.23           43944.58           ⋯\n",
              "6 36968.398          38851.83           37783.35           38851.83           ⋯\n",
              "  numerobancosprivados numerobancospublicos numerofinancieras numerobancos\n",
              "1 1                    0                    3                 1           \n",
              "2 0                    1                    1                 1           \n",
              "3 2                    1                    0                 3           \n",
              "4 4                    0                    0                 4           \n",
              "5 4                    0                    0                 4           \n",
              "6 0                    0                    3                 0           \n",
              "  numerode5ult18meses numerode2Bult18meses numerode3ult18meses edad\n",
              "1 0                   0                    0                   63  \n",
              "2 4                   0                    2                   67  \n",
              "3 0                   0                    0                   66  \n",
              "4 4                   2                    3                   36  \n",
              "5 0                   0                    0                   65  \n",
              "6 9                   0                    1                   48  \n",
              "  numeromesesreportados ingreso  \n",
              "1 24                     31888.47\n",
              "2 24                     62341.14\n",
              "3 24                    100599.76\n",
              "4 24                     46102.90\n",
              "5 14                    109419.22\n",
              "6 24                     59375.89"
            ]
          },
          "metadata": {}
        }
      ]
    },
    {
      "cell_type": "code",
      "source": [
        "# Partición del dataset entre train (80%) y test (20%)\n",
        "\n",
        "set.seed(27)\n",
        "df_index = createDataPartition(df$ingreso, p=0.80, list = FALSE)\n",
        "df_train <- df[df_index, ]\n",
        "df_test <- df[-df_index, ]"
      ],
      "metadata": {
        "id": "2YocQJJ0m_-1"
      },
      "execution_count": 9,
      "outputs": []
    },
    {
      "cell_type": "code",
      "source": [
        "# Preprocesamiento de los datos\n",
        "\n",
        "set.seed(27)\n",
        "preprocessData <- preProcess(df_train[,(1:24)], method=c(\"scale\",\"center\"))\n",
        "df_train2 <- predict(preprocessData, df_train)\n",
        "df_test2 <- predict(preprocessData, df_test)\n"
      ],
      "metadata": {
        "id": "couGJt5C838-"
      },
      "execution_count": 10,
      "outputs": []
    },
    {
      "cell_type": "code",
      "source": [
        "df_test[,25]"
      ],
      "metadata": {
        "id": "NiHzQnaHJuv9"
      },
      "execution_count": null,
      "outputs": []
    },
    {
      "cell_type": "code",
      "source": [
        "# Entrenamiento del modelo Random Forest\n",
        "\n",
        "rf = randomForest(ingreso ~ ., data = df_train2, mtry = 3, importance = TRUE, ntree = 500)\n",
        "\n",
        "rf_pred = predict(rf, newdata = df_test2[,-25], type=\"response\")\n",
        "\n",
        "mape = mean(abs((rf_pred - df_test2$ingreso)/df_test2$ingreso))"
      ],
      "metadata": {
        "id": "4HlnPQIanesL"
      },
      "execution_count": null,
      "outputs": []
    },
    {
      "cell_type": "code",
      "source": [
        "mape"
      ],
      "metadata": {
        "id": "nXeBmkDDclUW"
      },
      "execution_count": null,
      "outputs": []
    },
    {
      "cell_type": "code",
      "source": [
        "# Optimización del modelo Random Forest\n",
        "\n",
        "set.seed(27)\n",
        "\n",
        "k_folds = 5\n",
        "folds = caret::createFolds(c(1:nrow(df)),k=k_folds)\n",
        "m = seq(1,10, by=2)\n",
        "narbol = seq(100, 1000, by = 100)\n",
        "resultadosrf = data.frame()\n",
        "\n",
        "set.seed(27)\n",
        "\n",
        "for (k in 1:k_folds){\n",
        "  for (j in m){\n",
        "    for (i in narbol){\n",
        "      train = df[-folds[[k]],]\n",
        "      test = df[folds[[k]],]\n",
        "    rf_opt = randomForest(ingreso ~ ., data = df_train2, mtry = j, importance = TRUE, ntree = i)\n",
        "    rf_pred_opt = predict(rf_opt, newdata = df_test2[,-25], type=\"response\")\n",
        "    mape_opt = mean(abs((rf_pred - df_test2$ingreso)/df_test2$ingreso))\n",
        "    result = c(\"k_folds\"=k, \"m\"=j, \"narbol\"=i, \"error\"= mape_opt)\n",
        "    resultadosrf = rbind(resultadosrf, result)\n",
        "  }\n",
        "  }\n",
        "}\n",
        "\n",
        "\n",
        "resultadosrf <- setNames(resultadosrf,c(\"k_folds\",\"m\",\"narbol\",\"error\"))\n",
        "resultadosrf_cv <- aggregate(resultadosrf[,4],list(resultadosrf$m,resultadosrf$narbol),mean)\n",
        "resultadosrf_cv <- setNames(resultadosrf_cv,c(\"m\",\"narbol\",\"error\"))\n",
        "\n",
        "#View(resultadosrf_cv)\n",
        "\n",
        "resultadosrf_cv_ord <- resultadosrf_cv[order(resultadosrf_cv$error),]\n",
        "head(resultadosrf_cv_ord)"
      ],
      "metadata": {
        "id": "QocohZCAnt04"
      },
      "execution_count": null,
      "outputs": []
    },
    {
      "cell_type": "code",
      "source": [
        "importance(rf)\n",
        "varImpPlot(rf)"
      ],
      "metadata": {
        "id": "Ks9-wsqQn1_s"
      },
      "execution_count": null,
      "outputs": []
    },
    {
      "cell_type": "code",
      "source": [
        "# Predicción con el modelo optimizado\n",
        "\n",
        "id <- \"1dUb4neNxfSpCGRGucf_A-kcIV5t6QL1gSXDPi4uL2HA\" \n",
        "df_val <- read.csv(sprintf(\"https://docs.google.com/uc?id=%s&export=download\", id))\n",
        "\n",
        "df_val$peorcalificacionBCU = ifelse(df_val$peorcalificacionBCU == '1C', 1,\n",
        "ifelse(df_val$peorcalificacionBCU == '2A',2, ifelse(df_val$peorcalificacionBCU == '2B',3,\n",
        "ifelse(df_val$peorcalificacionBCU == '3',4, ifelse(df_val$peorcalificacionBCU == '4',5,6)))))\n",
        "\n",
        "df_val <- transform(df_val, peorcalificacionBCU = as.factor(peorcalificacionBCU))\n",
        "\n",
        "\n",
        "rf_pred_def = predict(rf_final, newdata = df_val, type=\"response\")\n",
        "#View(rf_pred_def)\n",
        "\n",
        "#df_def = data.frame(ifelse(rf_pred_def[,2]>corte,1,0))\n",
        "df_def <- setNames(df_def, \"prediccion\")\n",
        "#View(df_def)\n",
        "\n",
        "write.csv(x = df_def, file = \"df_def.csv\", row.names = TRUE) "
      ],
      "metadata": {
        "id": "8aL6g62Xn87x"
      },
      "execution_count": null,
      "outputs": []
    }
  ]
}