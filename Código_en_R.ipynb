{
  "nbformat": 4,
  "nbformat_minor": 0,
  "metadata": {
    "colab": {
      "name": "Untitled4.ipynb",
      "provenance": [],
      "include_colab_link": true
    },
    "kernelspec": {
      "name": "ir",
      "display_name": "R"
    },
    "language_info": {
      "name": "R"
    },
    "accelerator": "GPU"
  },
  "cells": [
    {
      "cell_type": "markdown",
      "metadata": {
        "id": "view-in-github",
        "colab_type": "text"
      },
      "source": [
        "<a href=\"https://colab.research.google.com/github/AOdrio/Datathon/blob/main/C%C3%B3digo_en_R.ipynb\" target=\"_parent\"><img src=\"https://colab.research.google.com/assets/colab-badge.svg\" alt=\"Open In Colab\"/></a>"
      ]
    },
    {
      "cell_type": "code",
      "execution_count": 12,
      "metadata": {
        "id": "NpQdNiRlYTZN"
      },
      "outputs": [],
      "source": [
        "library(ggplot2)\n",
        "#install.packages('dplyr')\n",
        "library(dplyr)\n",
        "#install.packages('MASS')\n",
        "library(MASS)\n",
        "#install.packages('randomForest')\n",
        "library(randomForest)\n",
        "#install.packages('caret')\n",
        "library(\"caret\")\n",
        "library(\"googledrive\")\n"
      ]
    },
    {
      "cell_type": "code",
      "source": [
        "id <- \"1KH1fB83JDAWcMRCHKFf9SmcGH7MQkupE\" # google file ID\n",
        "df <- read.csv(sprintf(\"https://docs.google.com/uc?id=%s&export=download\", id))\n",
        "str(df)"
      ],
      "metadata": {
        "id": "UywtMM2JrNDX",
        "outputId": "b0ba20fd-1e22-4a21-fb56-2611d49a8a35",
        "colab": {
          "base_uri": "https://localhost:8080/"
        }
      },
      "execution_count": 19,
      "outputs": [
        {
          "output_type": "stream",
          "name": "stdout",
          "text": [
            "'data.frame':\t40000 obs. of  25 variables:\n",
            " $ X                    : int  1 2 3 4 5 6 7 8 9 10 ...\n",
            " $ vigente              : num  4282 9793 531420 0 112394 ...\n",
            " $ vigenteAvg3M         : num  4679 9451 512057 0 110856 ...\n",
            " $ vencido              : num  0 83970 0 2267 0 ...\n",
            " $ vencidoAvg3M         : num  0 91127 0 2633 0 ...\n",
            " $ avgcontingenciaU1M   : num  4923 20809 36813 11534 41131 ...\n",
            " $ avgcontingenciaU3M   : num  3919 19127 46144 10488 42820 ...\n",
            " $ sumcontingenciaU1M   : num  19692 41618 36813 23068 82263 ...\n",
            " $ sumcontingenciaU3M   : num  18440 49280 36789 24026 77614 ...\n",
            " $ maxcontingenciaU1M   : num  6653 30881 36813 19045 43945 ...\n",
            " $ maxcontingenciaU3M   : num  7996 32794 46144 17864 42820 ...\n",
            " $ numcontingenciaU1M   : int  4 2 1 2 2 1 0 2 4 0 ...\n",
            " $ garantiacomputable   : num  0 0 0 0 0 0 0 0 0 0 ...\n",
            " $ peorcalificacionBCU  : chr  \"1C\" \"3\" \"1C\" \"5\" ...\n",
            " $ numeroinstituciones  : int  4 2 3 4 4 3 2 6 4 1 ...\n",
            " $ numerobancosprivados : int  1 0 2 4 4 0 0 0 0 0 ...\n",
            " $ numerobancospublicos : int  0 1 1 0 0 0 0 1 0 0 ...\n",
            " $ numerofinancieras    : int  3 1 0 0 0 3 2 5 4 1 ...\n",
            " $ numerobancos         : int  1 1 3 4 4 0 0 1 0 0 ...\n",
            " $ numerode5ult18meses  : int  0 4 0 4 0 9 0 0 0 6 ...\n",
            " $ numerode2Bult18meses : int  0 0 0 2 0 0 0 0 0 0 ...\n",
            " $ numerode3ult18meses  : int  0 2 0 3 0 1 0 0 0 2 ...\n",
            " $ edad                 : int  63 67 NA NA 65 NA 35 38 NA NA ...\n",
            " $ numeromesesreportados: int  24 24 24 24 14 24 24 24 21 24 ...\n",
            " $ ingreso              : num  31888 62341 100600 46103 109419 ...\n"
          ]
        }
      ]
    },
    {
      "cell_type": "code",
      "source": [
        "#Convertir variables cualitativas\n",
        "\n",
        "df$Tipo_Contrato2 = ifelse(data$Tipo_Contrato == 'Prepago', 1, \n",
        "ifelse(data$Tipo_Contrato == 'Basico',2, ifelse(data$Tipo_Contrato == 'Superior',3,4)))\n",
        "unique(data$Tipo_Contrato2)\n",
        "\n",
        "\n",
        "data_num <- data[,-c(3,5,10)]\n",
        "data_num"
      ],
      "metadata": {
        "id": "Xk16DZ6umE_P"
      },
      "execution_count": null,
      "outputs": []
    },
    {
      "cell_type": "code",
      "source": [
        "# Transformación de las variables categóricas en factor\n",
        "\n",
        "data_num <- transform(data_num, Class = as.factor(Class), \n",
        "Debito_autom =as.factor(Debito_autom), Recibio_oferta = as.factor(Recibio_oferta), \n",
        "SEXO2 = as.factor(SEXO2), Anos_como_cliente2 = as.factor(Anos_como_cliente2), \n",
        "Numero_quejas = as.factor(Numero_quejas), Meses_adeudo = as.factor(Meses_adeudo))\n",
        "\n",
        "str(data_num)"
      ],
      "metadata": {
        "id": "JThoF_-Gm2iN"
      },
      "execution_count": null,
      "outputs": []
    },
    {
      "cell_type": "code",
      "source": [
        "# Partición del dataset entre train (80%) y test (20%)\n",
        "\n",
        "set.seed(77)\n",
        "data_index = createDataPartition(data_num$Class, p=0.80, list = FALSE)\n",
        "data_train <- data_num[data_index, ]\n",
        "data_test <- data_num[-data_index, ]"
      ],
      "metadata": {
        "id": "2YocQJJ0m_-1"
      },
      "execution_count": null,
      "outputs": []
    },
    {
      "cell_type": "code",
      "source": [
        "# Entrenamiento del modelo\n",
        "\n",
        "rf = randomForest(Class ~ ., data = data_train, mtry = 3, importance = TRUE, ntree = 500)\n",
        "\n",
        "rf_pred = predict(rf, newdata = data_test[,-1], type=\"prob\")\n",
        "\n",
        "rf_tabla = table(ifelse(rf_pred[,2]>0.5,1,0), data_test[,1])\n",
        "rf_tabla\n",
        "rf_er = 1- sum(diag(rf_tabla))/sum(rf_tabla)\n",
        "rf_er\n",
        "rf_er = rf_er*100"
      ],
      "metadata": {
        "id": "4HlnPQIanesL"
      },
      "execution_count": null,
      "outputs": []
    },
    {
      "cell_type": "code",
      "source": [
        "# Optimización del modelo Random Forest\n",
        "\n",
        "set.seed(77)\n",
        "\n",
        "k_folds = 5\n",
        "folds = caret::createFolds(c(1:nrow(data_num)),k=k_folds)\n",
        "m = seq(1,10, by=2)\n",
        "narbol = seq(100, 1000, by = 100)\n",
        "cutoff = c(seq(0.40, 0.70, by = 0.05))\n",
        "resultadosrf = data.frame()\n",
        "\n",
        "set.seed(77)\n",
        "\n",
        "for (k in 1:k_folds){\n",
        "  for (j in m){\n",
        "    for (i in narbol){\n",
        "      for (f in cutoff){\n",
        "      train = data_num[-folds[[k]],]\n",
        "      test = data_num[folds[[k]],]\n",
        "    rf_opt = randomForest(Class ~ ., data = train, mtry = j, importance = TRUE, ntree = i)\n",
        "    rf_pred_opt = predict(rf_opt, newdata = test[,-1], type=\"prob\")\n",
        "    rf_tabla_opt = table(ifelse(rf_pred_opt[,2]>f,1,0), test[,1])\n",
        "    rf_er_opt = 1- sum(diag(rf_tabla_opt))/sum(rf_tabla_opt)\n",
        "    result = c(\"k_folds\"=k, \"m\"=j, \"narbol\"=i, \"cutoff\"=f, \"error\"= rf_er_opt)\n",
        "    resultadosrf = rbind(resultadosrf, result)\n",
        "  }\n",
        "  }\n",
        "}}\n",
        "\n",
        "\n",
        "resultadosrf <- setNames(resultadosrf,c(\"k_folds\",\"m\",\"narbol\",\"cutoff\",\"error\"))\n",
        "resultadosrf_cv <- aggregate(resultadosrf[,5],list(resultadosrf$m,resultadosrf$narbol,resultadosrf$cutoff),mean)\n",
        "resultadosrf_cv <- setNames(resultadosrf_cv,c(\"m\",\"narbol\",\"cutoff\",\"error\"))\n",
        "\n",
        "#View(resultadosrf_cv)\n",
        "\n",
        "resultadosrf_cv_ord <- resultadosrf_cv[order(resultadosrf_cv$error),]\n",
        "head(resultadosrf_cv_ord)"
      ],
      "metadata": {
        "id": "QocohZCAnt04",
        "outputId": "fa910cc0-d0bb-46d4-a259-69800fc9f0b2",
        "colab": {
          "base_uri": "https://localhost:8080/",
          "height": 153
        }
      },
      "execution_count": 6,
      "outputs": [
        {
          "output_type": "error",
          "ename": "ERROR",
          "evalue": "ignored",
          "traceback": [
            "Error in nrow(data_num): object 'data_num' not found\nTraceback:\n",
            "1. caret::createFolds(c(1:nrow(data_num)), k = k_folds)",
            "2. nrow(data_num)"
          ]
        }
      ]
    },
    {
      "cell_type": "code",
      "source": [
        "importance(rf)\n",
        "varImpPlot(rf)"
      ],
      "metadata": {
        "id": "Ks9-wsqQn1_s"
      },
      "execution_count": null,
      "outputs": []
    },
    {
      "cell_type": "code",
      "source": [
        "# Predicción con el modelo optimizado\n",
        "\n",
        "rf_pred_def = predict(rf_final, newdata = data_testchurn_num, type=\"prob\")\n",
        "#View(rf_pred_def)\n",
        "\n",
        "df_def = data.frame(ifelse(rf_pred_def[,2]>corte,1,0))\n",
        "df_def <- setNames(df_def, \"prediccion\")\n",
        "#View(df_def)\n",
        "\n",
        "write.csv(x = df_def, file = \"df_def.csv\", row.names = TRUE) "
      ],
      "metadata": {
        "id": "8aL6g62Xn87x"
      },
      "execution_count": null,
      "outputs": []
    }
  ]
}