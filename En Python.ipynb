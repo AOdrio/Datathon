{
  "nbformat": 4,
  "nbformat_minor": 0,
  "metadata": {
    "colab": {
      "name": "Untitled2.ipynb",
      "provenance": [],
      "mount_file_id": "https://github.com/AOdrio/Datathon/blob/main/Prueba%20github.ipynb",
      "authorship_tag": "ABX9TyNLes440vypRJv/Kvyo4f11",
      "include_colab_link": true
    },
    "kernelspec": {
      "name": "python3",
      "display_name": "Python 3"
    },
    "language_info": {
      "name": "python"
    },
    "accelerator": "GPU"
  },
  "cells": [
    {
      "cell_type": "markdown",
      "metadata": {
        "id": "view-in-github",
        "colab_type": "text"
      },
      "source": [
        "<a href=\"https://colab.research.google.com/github/AOdrio/Datathon/blob/main/En%20Python.ipynb\" target=\"_parent\"><img src=\"https://colab.research.google.com/assets/colab-badge.svg\" alt=\"Open In Colab\"/></a>"
      ]
    },
    {
      "cell_type": "code",
      "source": [
        "import pandas as pd\n",
        "import numpy as np\n",
        "from pandas.core.common import random_state\n",
        "\n",
        "import xgboost as xgb\n",
        "\n",
        "from sklearn.model_selection import train_test_split\n",
        "from sklearn.metrics import mean_absolute_error\n",
        "from sklearn.pipeline import Pipeline\n",
        "from sklearn.preprocessing import StandardScaler\n",
        "from sklearn.metrics import mean_absolute_percentage_error\n",
        "from sklearn.ensemble import RandomForestRegressor\n",
        "\n",
        "SEED = 17"
      ],
      "metadata": {
        "id": "qilgKjKQHzSm"
      },
      "execution_count": 35,
      "outputs": []
    },
    {
      "cell_type": "code",
      "execution_count": 2,
      "metadata": {
        "id": "rvJX5DZi17KG"
      },
      "outputs": [],
      "source": [
        "url='https://drive.google.com/file/d/1KH1fB83JDAWcMRCHKFf9SmcGH7MQkupE/view?usp=sharing'\n",
        "url='https://drive.google.com/uc?id=' + url.split('/')[-2]\n",
        "df_original = pd.read_csv(url)"
      ]
    },
    {
      "cell_type": "code",
      "source": [
        "df_original.head()"
      ],
      "metadata": {
        "id": "c7On5-UL28mJ",
        "outputId": "ea5f8088-d978-4aae-d132-1f5f035eea76",
        "colab": {
          "base_uri": "https://localhost:8080/",
          "height": 317
        }
      },
      "execution_count": 3,
      "outputs": [
        {
          "output_type": "execute_result",
          "data": {
            "text/plain": [
              "   Unnamed: 0        vigente   vigenteAvg3M       vencido  vencidoAvg3M  \\\n",
              "0           1    4282.155183    4679.335952      0.000000      0.000000   \n",
              "1           2    9793.122650    9450.927278  83970.243387  91126.581200   \n",
              "2           3  531419.701556  512057.084981      0.000000      0.000000   \n",
              "3           4       0.000000       0.000000   2266.728708   2633.111538   \n",
              "4           5  112394.057367  110856.020945      0.000000      0.000000   \n",
              "\n",
              "   avgcontingenciaU1M  avgcontingenciaU3M  sumcontingenciaU1M  \\\n",
              "0         4923.124484         3918.527125        19692.497937   \n",
              "1        20809.053382        19126.815664        41618.106764   \n",
              "2        36813.149453        46144.419161        36813.149453   \n",
              "3        11533.815438        10488.338604        23067.630876   \n",
              "4        41131.333850        42820.024254        82262.667700   \n",
              "\n",
              "   sumcontingenciaU3M  maxcontingenciaU1M  ...  numerobancosprivados  \\\n",
              "0        18439.941778         6653.069810  ...                     1   \n",
              "1        49280.496926        30881.253937  ...                     0   \n",
              "2        36789.292777        36813.149453  ...                     2   \n",
              "3        24025.952782        19044.717097  ...                     4   \n",
              "4        77614.227322        43944.580379  ...                     4   \n",
              "\n",
              "   numerobancospublicos  numerofinancieras numerobancos  numerode5ult18meses  \\\n",
              "0                     0                  3            1                    0   \n",
              "1                     1                  1            1                    4   \n",
              "2                     1                  0            3                    0   \n",
              "3                     0                  0            4                    4   \n",
              "4                     0                  0            4                    0   \n",
              "\n",
              "   numerode2Bult18meses  numerode3ult18meses  edad  numeromesesreportados  \\\n",
              "0                     0                    0  63.0                     24   \n",
              "1                     0                    2  67.0                     24   \n",
              "2                     0                    0   NaN                     24   \n",
              "3                     2                    3   NaN                     24   \n",
              "4                     0                    0  65.0                     14   \n",
              "\n",
              "         ingreso  \n",
              "0   31888.466530  \n",
              "1   62341.141710  \n",
              "2  100599.764680  \n",
              "3   46102.904895  \n",
              "4  109419.216020  \n",
              "\n",
              "[5 rows x 25 columns]"
            ],
            "text/html": [
              "\n",
              "  <div id=\"df-4642196f-81e3-4c45-ae94-34404baf5018\">\n",
              "    <div class=\"colab-df-container\">\n",
              "      <div>\n",
              "<style scoped>\n",
              "    .dataframe tbody tr th:only-of-type {\n",
              "        vertical-align: middle;\n",
              "    }\n",
              "\n",
              "    .dataframe tbody tr th {\n",
              "        vertical-align: top;\n",
              "    }\n",
              "\n",
              "    .dataframe thead th {\n",
              "        text-align: right;\n",
              "    }\n",
              "</style>\n",
              "<table border=\"1\" class=\"dataframe\">\n",
              "  <thead>\n",
              "    <tr style=\"text-align: right;\">\n",
              "      <th></th>\n",
              "      <th>Unnamed: 0</th>\n",
              "      <th>vigente</th>\n",
              "      <th>vigenteAvg3M</th>\n",
              "      <th>vencido</th>\n",
              "      <th>vencidoAvg3M</th>\n",
              "      <th>avgcontingenciaU1M</th>\n",
              "      <th>avgcontingenciaU3M</th>\n",
              "      <th>sumcontingenciaU1M</th>\n",
              "      <th>sumcontingenciaU3M</th>\n",
              "      <th>maxcontingenciaU1M</th>\n",
              "      <th>...</th>\n",
              "      <th>numerobancosprivados</th>\n",
              "      <th>numerobancospublicos</th>\n",
              "      <th>numerofinancieras</th>\n",
              "      <th>numerobancos</th>\n",
              "      <th>numerode5ult18meses</th>\n",
              "      <th>numerode2Bult18meses</th>\n",
              "      <th>numerode3ult18meses</th>\n",
              "      <th>edad</th>\n",
              "      <th>numeromesesreportados</th>\n",
              "      <th>ingreso</th>\n",
              "    </tr>\n",
              "  </thead>\n",
              "  <tbody>\n",
              "    <tr>\n",
              "      <th>0</th>\n",
              "      <td>1</td>\n",
              "      <td>4282.155183</td>\n",
              "      <td>4679.335952</td>\n",
              "      <td>0.000000</td>\n",
              "      <td>0.000000</td>\n",
              "      <td>4923.124484</td>\n",
              "      <td>3918.527125</td>\n",
              "      <td>19692.497937</td>\n",
              "      <td>18439.941778</td>\n",
              "      <td>6653.069810</td>\n",
              "      <td>...</td>\n",
              "      <td>1</td>\n",
              "      <td>0</td>\n",
              "      <td>3</td>\n",
              "      <td>1</td>\n",
              "      <td>0</td>\n",
              "      <td>0</td>\n",
              "      <td>0</td>\n",
              "      <td>63.0</td>\n",
              "      <td>24</td>\n",
              "      <td>31888.466530</td>\n",
              "    </tr>\n",
              "    <tr>\n",
              "      <th>1</th>\n",
              "      <td>2</td>\n",
              "      <td>9793.122650</td>\n",
              "      <td>9450.927278</td>\n",
              "      <td>83970.243387</td>\n",
              "      <td>91126.581200</td>\n",
              "      <td>20809.053382</td>\n",
              "      <td>19126.815664</td>\n",
              "      <td>41618.106764</td>\n",
              "      <td>49280.496926</td>\n",
              "      <td>30881.253937</td>\n",
              "      <td>...</td>\n",
              "      <td>0</td>\n",
              "      <td>1</td>\n",
              "      <td>1</td>\n",
              "      <td>1</td>\n",
              "      <td>4</td>\n",
              "      <td>0</td>\n",
              "      <td>2</td>\n",
              "      <td>67.0</td>\n",
              "      <td>24</td>\n",
              "      <td>62341.141710</td>\n",
              "    </tr>\n",
              "    <tr>\n",
              "      <th>2</th>\n",
              "      <td>3</td>\n",
              "      <td>531419.701556</td>\n",
              "      <td>512057.084981</td>\n",
              "      <td>0.000000</td>\n",
              "      <td>0.000000</td>\n",
              "      <td>36813.149453</td>\n",
              "      <td>46144.419161</td>\n",
              "      <td>36813.149453</td>\n",
              "      <td>36789.292777</td>\n",
              "      <td>36813.149453</td>\n",
              "      <td>...</td>\n",
              "      <td>2</td>\n",
              "      <td>1</td>\n",
              "      <td>0</td>\n",
              "      <td>3</td>\n",
              "      <td>0</td>\n",
              "      <td>0</td>\n",
              "      <td>0</td>\n",
              "      <td>NaN</td>\n",
              "      <td>24</td>\n",
              "      <td>100599.764680</td>\n",
              "    </tr>\n",
              "    <tr>\n",
              "      <th>3</th>\n",
              "      <td>4</td>\n",
              "      <td>0.000000</td>\n",
              "      <td>0.000000</td>\n",
              "      <td>2266.728708</td>\n",
              "      <td>2633.111538</td>\n",
              "      <td>11533.815438</td>\n",
              "      <td>10488.338604</td>\n",
              "      <td>23067.630876</td>\n",
              "      <td>24025.952782</td>\n",
              "      <td>19044.717097</td>\n",
              "      <td>...</td>\n",
              "      <td>4</td>\n",
              "      <td>0</td>\n",
              "      <td>0</td>\n",
              "      <td>4</td>\n",
              "      <td>4</td>\n",
              "      <td>2</td>\n",
              "      <td>3</td>\n",
              "      <td>NaN</td>\n",
              "      <td>24</td>\n",
              "      <td>46102.904895</td>\n",
              "    </tr>\n",
              "    <tr>\n",
              "      <th>4</th>\n",
              "      <td>5</td>\n",
              "      <td>112394.057367</td>\n",
              "      <td>110856.020945</td>\n",
              "      <td>0.000000</td>\n",
              "      <td>0.000000</td>\n",
              "      <td>41131.333850</td>\n",
              "      <td>42820.024254</td>\n",
              "      <td>82262.667700</td>\n",
              "      <td>77614.227322</td>\n",
              "      <td>43944.580379</td>\n",
              "      <td>...</td>\n",
              "      <td>4</td>\n",
              "      <td>0</td>\n",
              "      <td>0</td>\n",
              "      <td>4</td>\n",
              "      <td>0</td>\n",
              "      <td>0</td>\n",
              "      <td>0</td>\n",
              "      <td>65.0</td>\n",
              "      <td>14</td>\n",
              "      <td>109419.216020</td>\n",
              "    </tr>\n",
              "  </tbody>\n",
              "</table>\n",
              "<p>5 rows × 25 columns</p>\n",
              "</div>\n",
              "      <button class=\"colab-df-convert\" onclick=\"convertToInteractive('df-4642196f-81e3-4c45-ae94-34404baf5018')\"\n",
              "              title=\"Convert this dataframe to an interactive table.\"\n",
              "              style=\"display:none;\">\n",
              "        \n",
              "  <svg xmlns=\"http://www.w3.org/2000/svg\" height=\"24px\"viewBox=\"0 0 24 24\"\n",
              "       width=\"24px\">\n",
              "    <path d=\"M0 0h24v24H0V0z\" fill=\"none\"/>\n",
              "    <path d=\"M18.56 5.44l.94 2.06.94-2.06 2.06-.94-2.06-.94-.94-2.06-.94 2.06-2.06.94zm-11 1L8.5 8.5l.94-2.06 2.06-.94-2.06-.94L8.5 2.5l-.94 2.06-2.06.94zm10 10l.94 2.06.94-2.06 2.06-.94-2.06-.94-.94-2.06-.94 2.06-2.06.94z\"/><path d=\"M17.41 7.96l-1.37-1.37c-.4-.4-.92-.59-1.43-.59-.52 0-1.04.2-1.43.59L10.3 9.45l-7.72 7.72c-.78.78-.78 2.05 0 2.83L4 21.41c.39.39.9.59 1.41.59.51 0 1.02-.2 1.41-.59l7.78-7.78 2.81-2.81c.8-.78.8-2.07 0-2.86zM5.41 20L4 18.59l7.72-7.72 1.47 1.35L5.41 20z\"/>\n",
              "  </svg>\n",
              "      </button>\n",
              "      \n",
              "  <style>\n",
              "    .colab-df-container {\n",
              "      display:flex;\n",
              "      flex-wrap:wrap;\n",
              "      gap: 12px;\n",
              "    }\n",
              "\n",
              "    .colab-df-convert {\n",
              "      background-color: #E8F0FE;\n",
              "      border: none;\n",
              "      border-radius: 50%;\n",
              "      cursor: pointer;\n",
              "      display: none;\n",
              "      fill: #1967D2;\n",
              "      height: 32px;\n",
              "      padding: 0 0 0 0;\n",
              "      width: 32px;\n",
              "    }\n",
              "\n",
              "    .colab-df-convert:hover {\n",
              "      background-color: #E2EBFA;\n",
              "      box-shadow: 0px 1px 2px rgba(60, 64, 67, 0.3), 0px 1px 3px 1px rgba(60, 64, 67, 0.15);\n",
              "      fill: #174EA6;\n",
              "    }\n",
              "\n",
              "    [theme=dark] .colab-df-convert {\n",
              "      background-color: #3B4455;\n",
              "      fill: #D2E3FC;\n",
              "    }\n",
              "\n",
              "    [theme=dark] .colab-df-convert:hover {\n",
              "      background-color: #434B5C;\n",
              "      box-shadow: 0px 1px 3px 1px rgba(0, 0, 0, 0.15);\n",
              "      filter: drop-shadow(0px 1px 2px rgba(0, 0, 0, 0.3));\n",
              "      fill: #FFFFFF;\n",
              "    }\n",
              "  </style>\n",
              "\n",
              "      <script>\n",
              "        const buttonEl =\n",
              "          document.querySelector('#df-4642196f-81e3-4c45-ae94-34404baf5018 button.colab-df-convert');\n",
              "        buttonEl.style.display =\n",
              "          google.colab.kernel.accessAllowed ? 'block' : 'none';\n",
              "\n",
              "        async function convertToInteractive(key) {\n",
              "          const element = document.querySelector('#df-4642196f-81e3-4c45-ae94-34404baf5018');\n",
              "          const dataTable =\n",
              "            await google.colab.kernel.invokeFunction('convertToInteractive',\n",
              "                                                     [key], {});\n",
              "          if (!dataTable) return;\n",
              "\n",
              "          const docLinkHtml = 'Like what you see? Visit the ' +\n",
              "            '<a target=\"_blank\" href=https://colab.research.google.com/notebooks/data_table.ipynb>data table notebook</a>'\n",
              "            + ' to learn more about interactive tables.';\n",
              "          element.innerHTML = '';\n",
              "          dataTable['output_type'] = 'display_data';\n",
              "          await google.colab.output.renderOutput(dataTable, element);\n",
              "          const docLink = document.createElement('div');\n",
              "          docLink.innerHTML = docLinkHtml;\n",
              "          element.appendChild(docLink);\n",
              "        }\n",
              "      </script>\n",
              "    </div>\n",
              "  </div>\n",
              "  "
            ]
          },
          "metadata": {},
          "execution_count": 3
        }
      ]
    },
    {
      "cell_type": "code",
      "source": [
        "print (df_original.isnull().sum())"
      ],
      "metadata": {
        "id": "CpMg5671-9-c",
        "outputId": "91c1d849-16ec-452e-cdc9-3871cc0b38ca",
        "colab": {
          "base_uri": "https://localhost:8080/"
        }
      },
      "execution_count": 4,
      "outputs": [
        {
          "output_type": "stream",
          "name": "stdout",
          "text": [
            "Unnamed: 0                   0\n",
            "vigente                      0\n",
            "vigenteAvg3M                 0\n",
            "vencido                      0\n",
            "vencidoAvg3M                 0\n",
            "avgcontingenciaU1M           0\n",
            "avgcontingenciaU3M           0\n",
            "sumcontingenciaU1M           0\n",
            "sumcontingenciaU3M           0\n",
            "maxcontingenciaU1M           0\n",
            "maxcontingenciaU3M           0\n",
            "numcontingenciaU1M           0\n",
            "garantiacomputable           0\n",
            "peorcalificacionBCU          0\n",
            "numeroinstituciones          0\n",
            "numerobancosprivados         0\n",
            "numerobancospublicos         0\n",
            "numerofinancieras            0\n",
            "numerobancos                 0\n",
            "numerode5ult18meses          0\n",
            "numerode2Bult18meses         0\n",
            "numerode3ult18meses          0\n",
            "edad                     11429\n",
            "numeromesesreportados        0\n",
            "ingreso                      0\n",
            "dtype: int64\n"
          ]
        }
      ]
    },
    {
      "cell_type": "markdown",
      "source": [
        "se remplazan los null por la media de la columna"
      ],
      "metadata": {
        "id": "ldT9CaJNvWYF"
      }
    },
    {
      "cell_type": "code",
      "source": [
        "edad_media = df_original['edad'].mean()\n",
        "edad_media"
      ],
      "metadata": {
        "id": "fUaiCz0FvlN8",
        "outputId": "a679196d-c8fe-40c2-bff0-f81bbce8bc1e",
        "colab": {
          "base_uri": "https://localhost:8080/"
        }
      },
      "execution_count": 5,
      "outputs": [
        {
          "output_type": "execute_result",
          "data": {
            "text/plain": [
              "45.02159532392986"
            ]
          },
          "metadata": {},
          "execution_count": 5
        }
      ]
    },
    {
      "cell_type": "code",
      "source": [
        "def transfromar_DataFrame (df):\n",
        "  df = df.copy()\n",
        "  df = df.drop(df.columns[0],axis=1)\n",
        "  #Remplazar nulls de la edad con la media de la columna\n",
        "  df['edad'] = df['edad'].fillna(edad_media, inplace=False)\n",
        "\n",
        "  #Transformar categóricas en numéricas\n",
        "  df['peorcalificacionBCU'] = (df['peorcalificacionBCU'].\n",
        "                              str.replace('2B','3').\n",
        "                              str.replace('5','6').\n",
        "                              str.replace('4','5').\n",
        "                              str.replace('3','4').\n",
        "                              str.replace('2A','2').\n",
        "                              str.replace('1C','1').\n",
        "                              str.replace('1A','0'))\n",
        "  df['peorcalificacionBCU'] = pd.to_numeric(df['peorcalificacionBCU'], downcast='integer')\n",
        "  return df"
      ],
      "metadata": {
        "id": "CalPIb9cSmqE"
      },
      "execution_count": 6,
      "outputs": []
    },
    {
      "cell_type": "code",
      "source": [
        "df = transfromar_DataFrame(df_original)\n"
      ],
      "metadata": {
        "id": "eDjtKf9jFloF"
      },
      "execution_count": 7,
      "outputs": []
    },
    {
      "cell_type": "code",
      "source": [
        "df.head()"
      ],
      "metadata": {
        "id": "2gAniaDwzihI",
        "outputId": "d766a586-2f49-476a-9912-7f22dd2091c8",
        "colab": {
          "base_uri": "https://localhost:8080/",
          "height": 299
        }
      },
      "execution_count": 8,
      "outputs": [
        {
          "output_type": "execute_result",
          "data": {
            "text/plain": [
              "         vigente   vigenteAvg3M       vencido  vencidoAvg3M  \\\n",
              "0    4282.155183    4679.335952      0.000000      0.000000   \n",
              "1    9793.122650    9450.927278  83970.243387  91126.581200   \n",
              "2  531419.701556  512057.084981      0.000000      0.000000   \n",
              "3       0.000000       0.000000   2266.728708   2633.111538   \n",
              "4  112394.057367  110856.020945      0.000000      0.000000   \n",
              "\n",
              "   avgcontingenciaU1M  avgcontingenciaU3M  sumcontingenciaU1M  \\\n",
              "0         4923.124484         3918.527125        19692.497937   \n",
              "1        20809.053382        19126.815664        41618.106764   \n",
              "2        36813.149453        46144.419161        36813.149453   \n",
              "3        11533.815438        10488.338604        23067.630876   \n",
              "4        41131.333850        42820.024254        82262.667700   \n",
              "\n",
              "   sumcontingenciaU3M  maxcontingenciaU1M  maxcontingenciaU3M  ...  \\\n",
              "0        18439.941778         6653.069810         7995.580509  ...   \n",
              "1        49280.496926        30881.253937        32793.577625  ...   \n",
              "2        36789.292777        36813.149453        46144.419161  ...   \n",
              "3        24025.952782        19044.717097        17864.388357  ...   \n",
              "4        77614.227322        43944.580379        42820.024254  ...   \n",
              "\n",
              "   numerobancosprivados  numerobancospublicos  numerofinancieras  \\\n",
              "0                     1                     0                  3   \n",
              "1                     0                     1                  1   \n",
              "2                     2                     1                  0   \n",
              "3                     4                     0                  0   \n",
              "4                     4                     0                  0   \n",
              "\n",
              "   numerobancos  numerode5ult18meses  numerode2Bult18meses  \\\n",
              "0             1                    0                     0   \n",
              "1             1                    4                     0   \n",
              "2             3                    0                     0   \n",
              "3             4                    4                     2   \n",
              "4             4                    0                     0   \n",
              "\n",
              "   numerode3ult18meses       edad  numeromesesreportados        ingreso  \n",
              "0                    0  63.000000                     24   31888.466530  \n",
              "1                    2  67.000000                     24   62341.141710  \n",
              "2                    0  45.021595                     24  100599.764680  \n",
              "3                    3  45.021595                     24   46102.904895  \n",
              "4                    0  65.000000                     14  109419.216020  \n",
              "\n",
              "[5 rows x 24 columns]"
            ],
            "text/html": [
              "\n",
              "  <div id=\"df-8886650d-d43f-4128-b526-8cac1c5ebd05\">\n",
              "    <div class=\"colab-df-container\">\n",
              "      <div>\n",
              "<style scoped>\n",
              "    .dataframe tbody tr th:only-of-type {\n",
              "        vertical-align: middle;\n",
              "    }\n",
              "\n",
              "    .dataframe tbody tr th {\n",
              "        vertical-align: top;\n",
              "    }\n",
              "\n",
              "    .dataframe thead th {\n",
              "        text-align: right;\n",
              "    }\n",
              "</style>\n",
              "<table border=\"1\" class=\"dataframe\">\n",
              "  <thead>\n",
              "    <tr style=\"text-align: right;\">\n",
              "      <th></th>\n",
              "      <th>vigente</th>\n",
              "      <th>vigenteAvg3M</th>\n",
              "      <th>vencido</th>\n",
              "      <th>vencidoAvg3M</th>\n",
              "      <th>avgcontingenciaU1M</th>\n",
              "      <th>avgcontingenciaU3M</th>\n",
              "      <th>sumcontingenciaU1M</th>\n",
              "      <th>sumcontingenciaU3M</th>\n",
              "      <th>maxcontingenciaU1M</th>\n",
              "      <th>maxcontingenciaU3M</th>\n",
              "      <th>...</th>\n",
              "      <th>numerobancosprivados</th>\n",
              "      <th>numerobancospublicos</th>\n",
              "      <th>numerofinancieras</th>\n",
              "      <th>numerobancos</th>\n",
              "      <th>numerode5ult18meses</th>\n",
              "      <th>numerode2Bult18meses</th>\n",
              "      <th>numerode3ult18meses</th>\n",
              "      <th>edad</th>\n",
              "      <th>numeromesesreportados</th>\n",
              "      <th>ingreso</th>\n",
              "    </tr>\n",
              "  </thead>\n",
              "  <tbody>\n",
              "    <tr>\n",
              "      <th>0</th>\n",
              "      <td>4282.155183</td>\n",
              "      <td>4679.335952</td>\n",
              "      <td>0.000000</td>\n",
              "      <td>0.000000</td>\n",
              "      <td>4923.124484</td>\n",
              "      <td>3918.527125</td>\n",
              "      <td>19692.497937</td>\n",
              "      <td>18439.941778</td>\n",
              "      <td>6653.069810</td>\n",
              "      <td>7995.580509</td>\n",
              "      <td>...</td>\n",
              "      <td>1</td>\n",
              "      <td>0</td>\n",
              "      <td>3</td>\n",
              "      <td>1</td>\n",
              "      <td>0</td>\n",
              "      <td>0</td>\n",
              "      <td>0</td>\n",
              "      <td>63.000000</td>\n",
              "      <td>24</td>\n",
              "      <td>31888.466530</td>\n",
              "    </tr>\n",
              "    <tr>\n",
              "      <th>1</th>\n",
              "      <td>9793.122650</td>\n",
              "      <td>9450.927278</td>\n",
              "      <td>83970.243387</td>\n",
              "      <td>91126.581200</td>\n",
              "      <td>20809.053382</td>\n",
              "      <td>19126.815664</td>\n",
              "      <td>41618.106764</td>\n",
              "      <td>49280.496926</td>\n",
              "      <td>30881.253937</td>\n",
              "      <td>32793.577625</td>\n",
              "      <td>...</td>\n",
              "      <td>0</td>\n",
              "      <td>1</td>\n",
              "      <td>1</td>\n",
              "      <td>1</td>\n",
              "      <td>4</td>\n",
              "      <td>0</td>\n",
              "      <td>2</td>\n",
              "      <td>67.000000</td>\n",
              "      <td>24</td>\n",
              "      <td>62341.141710</td>\n",
              "    </tr>\n",
              "    <tr>\n",
              "      <th>2</th>\n",
              "      <td>531419.701556</td>\n",
              "      <td>512057.084981</td>\n",
              "      <td>0.000000</td>\n",
              "      <td>0.000000</td>\n",
              "      <td>36813.149453</td>\n",
              "      <td>46144.419161</td>\n",
              "      <td>36813.149453</td>\n",
              "      <td>36789.292777</td>\n",
              "      <td>36813.149453</td>\n",
              "      <td>46144.419161</td>\n",
              "      <td>...</td>\n",
              "      <td>2</td>\n",
              "      <td>1</td>\n",
              "      <td>0</td>\n",
              "      <td>3</td>\n",
              "      <td>0</td>\n",
              "      <td>0</td>\n",
              "      <td>0</td>\n",
              "      <td>45.021595</td>\n",
              "      <td>24</td>\n",
              "      <td>100599.764680</td>\n",
              "    </tr>\n",
              "    <tr>\n",
              "      <th>3</th>\n",
              "      <td>0.000000</td>\n",
              "      <td>0.000000</td>\n",
              "      <td>2266.728708</td>\n",
              "      <td>2633.111538</td>\n",
              "      <td>11533.815438</td>\n",
              "      <td>10488.338604</td>\n",
              "      <td>23067.630876</td>\n",
              "      <td>24025.952782</td>\n",
              "      <td>19044.717097</td>\n",
              "      <td>17864.388357</td>\n",
              "      <td>...</td>\n",
              "      <td>4</td>\n",
              "      <td>0</td>\n",
              "      <td>0</td>\n",
              "      <td>4</td>\n",
              "      <td>4</td>\n",
              "      <td>2</td>\n",
              "      <td>3</td>\n",
              "      <td>45.021595</td>\n",
              "      <td>24</td>\n",
              "      <td>46102.904895</td>\n",
              "    </tr>\n",
              "    <tr>\n",
              "      <th>4</th>\n",
              "      <td>112394.057367</td>\n",
              "      <td>110856.020945</td>\n",
              "      <td>0.000000</td>\n",
              "      <td>0.000000</td>\n",
              "      <td>41131.333850</td>\n",
              "      <td>42820.024254</td>\n",
              "      <td>82262.667700</td>\n",
              "      <td>77614.227322</td>\n",
              "      <td>43944.580379</td>\n",
              "      <td>42820.024254</td>\n",
              "      <td>...</td>\n",
              "      <td>4</td>\n",
              "      <td>0</td>\n",
              "      <td>0</td>\n",
              "      <td>4</td>\n",
              "      <td>0</td>\n",
              "      <td>0</td>\n",
              "      <td>0</td>\n",
              "      <td>65.000000</td>\n",
              "      <td>14</td>\n",
              "      <td>109419.216020</td>\n",
              "    </tr>\n",
              "  </tbody>\n",
              "</table>\n",
              "<p>5 rows × 24 columns</p>\n",
              "</div>\n",
              "      <button class=\"colab-df-convert\" onclick=\"convertToInteractive('df-8886650d-d43f-4128-b526-8cac1c5ebd05')\"\n",
              "              title=\"Convert this dataframe to an interactive table.\"\n",
              "              style=\"display:none;\">\n",
              "        \n",
              "  <svg xmlns=\"http://www.w3.org/2000/svg\" height=\"24px\"viewBox=\"0 0 24 24\"\n",
              "       width=\"24px\">\n",
              "    <path d=\"M0 0h24v24H0V0z\" fill=\"none\"/>\n",
              "    <path d=\"M18.56 5.44l.94 2.06.94-2.06 2.06-.94-2.06-.94-.94-2.06-.94 2.06-2.06.94zm-11 1L8.5 8.5l.94-2.06 2.06-.94-2.06-.94L8.5 2.5l-.94 2.06-2.06.94zm10 10l.94 2.06.94-2.06 2.06-.94-2.06-.94-.94-2.06-.94 2.06-2.06.94z\"/><path d=\"M17.41 7.96l-1.37-1.37c-.4-.4-.92-.59-1.43-.59-.52 0-1.04.2-1.43.59L10.3 9.45l-7.72 7.72c-.78.78-.78 2.05 0 2.83L4 21.41c.39.39.9.59 1.41.59.51 0 1.02-.2 1.41-.59l7.78-7.78 2.81-2.81c.8-.78.8-2.07 0-2.86zM5.41 20L4 18.59l7.72-7.72 1.47 1.35L5.41 20z\"/>\n",
              "  </svg>\n",
              "      </button>\n",
              "      \n",
              "  <style>\n",
              "    .colab-df-container {\n",
              "      display:flex;\n",
              "      flex-wrap:wrap;\n",
              "      gap: 12px;\n",
              "    }\n",
              "\n",
              "    .colab-df-convert {\n",
              "      background-color: #E8F0FE;\n",
              "      border: none;\n",
              "      border-radius: 50%;\n",
              "      cursor: pointer;\n",
              "      display: none;\n",
              "      fill: #1967D2;\n",
              "      height: 32px;\n",
              "      padding: 0 0 0 0;\n",
              "      width: 32px;\n",
              "    }\n",
              "\n",
              "    .colab-df-convert:hover {\n",
              "      background-color: #E2EBFA;\n",
              "      box-shadow: 0px 1px 2px rgba(60, 64, 67, 0.3), 0px 1px 3px 1px rgba(60, 64, 67, 0.15);\n",
              "      fill: #174EA6;\n",
              "    }\n",
              "\n",
              "    [theme=dark] .colab-df-convert {\n",
              "      background-color: #3B4455;\n",
              "      fill: #D2E3FC;\n",
              "    }\n",
              "\n",
              "    [theme=dark] .colab-df-convert:hover {\n",
              "      background-color: #434B5C;\n",
              "      box-shadow: 0px 1px 3px 1px rgba(0, 0, 0, 0.15);\n",
              "      filter: drop-shadow(0px 1px 2px rgba(0, 0, 0, 0.3));\n",
              "      fill: #FFFFFF;\n",
              "    }\n",
              "  </style>\n",
              "\n",
              "      <script>\n",
              "        const buttonEl =\n",
              "          document.querySelector('#df-8886650d-d43f-4128-b526-8cac1c5ebd05 button.colab-df-convert');\n",
              "        buttonEl.style.display =\n",
              "          google.colab.kernel.accessAllowed ? 'block' : 'none';\n",
              "\n",
              "        async function convertToInteractive(key) {\n",
              "          const element = document.querySelector('#df-8886650d-d43f-4128-b526-8cac1c5ebd05');\n",
              "          const dataTable =\n",
              "            await google.colab.kernel.invokeFunction('convertToInteractive',\n",
              "                                                     [key], {});\n",
              "          if (!dataTable) return;\n",
              "\n",
              "          const docLinkHtml = 'Like what you see? Visit the ' +\n",
              "            '<a target=\"_blank\" href=https://colab.research.google.com/notebooks/data_table.ipynb>data table notebook</a>'\n",
              "            + ' to learn more about interactive tables.';\n",
              "          element.innerHTML = '';\n",
              "          dataTable['output_type'] = 'display_data';\n",
              "          await google.colab.output.renderOutput(dataTable, element);\n",
              "          const docLink = document.createElement('div');\n",
              "          docLink.innerHTML = docLinkHtml;\n",
              "          element.appendChild(docLink);\n",
              "        }\n",
              "      </script>\n",
              "    </div>\n",
              "  </div>\n",
              "  "
            ]
          },
          "metadata": {},
          "execution_count": 8
        }
      ]
    },
    {
      "cell_type": "code",
      "source": [
        "y = df.pop(\"ingreso\")\n",
        "X = df.copy()\n",
        "\n",
        "X_train, X_test, y_train, y_test = train_test_split(X, y, test_size=0.2, random_state=SEED)\n"
      ],
      "metadata": {
        "id": "4qqM2frRHcZL"
      },
      "execution_count": 9,
      "outputs": []
    },
    {
      "cell_type": "code",
      "source": [
        "# La linea base es el promedio de los ingresos\n",
        "baseline_preds = y_train.mean()\n",
        "# Baseline errors, and display average baseline error\n",
        "baseline_MAPE = 100*sum(abs((baseline_preds - y_train)/y_train))/len(y_train)\n",
        "print('MAPE linea base: ', round(baseline_MAPE , 2))"
      ],
      "metadata": {
        "id": "cMTuEvhtAeId",
        "outputId": "bd5f0076-c1ac-4be2-adb0-b5289044b25c",
        "colab": {
          "base_uri": "https://localhost:8080/"
        }
      },
      "execution_count": 32,
      "outputs": [
        {
          "output_type": "stream",
          "name": "stdout",
          "text": [
            "MAPE linea base:  58.11\n"
          ]
        }
      ]
    },
    {
      "cell_type": "code",
      "source": [
        "# Instantiate model with 1000 decision trees\n",
        "rf = RandomForestRegressor(n_estimators = 1000, random_state = SEED)# Train the model on training data\n",
        "rf.fit(X_train,y_train);"
      ],
      "metadata": {
        "id": "HmLJBF_sHVNK"
      },
      "execution_count": 34,
      "outputs": []
    },
    {
      "cell_type": "code",
      "source": [
        "# Use the forest's predict method on the test data\n",
        "predictions = rf.predict(X_test)\n",
        "# Calculate the absolute percentage errors\n",
        "errors = abs((predictions - y_test)/y_test)\n",
        "# Print out the mean absolute percentageerror (mape)\n",
        "print('MAPE:', 100*round(np.mean(errors), 2))"
      ],
      "metadata": {
        "id": "OgYKLXTJLqT6",
        "outputId": "2e3e39f4-169a-4fb8-902b-8347f0da02d9",
        "colab": {
          "base_uri": "https://localhost:8080/"
        }
      },
      "execution_count": 36,
      "outputs": [
        {
          "output_type": "stream",
          "name": "stdout",
          "text": [
            "MAPE: 13.0\n"
          ]
        }
      ]
    },
    {
      "cell_type": "code",
      "source": [
        "print('MAPE:', 100*round(np.mean(errors), 6))"
      ],
      "metadata": {
        "id": "FeWb9rdoSz4B",
        "outputId": "65e46c85-b579-4701-dced-42b074cd766c",
        "colab": {
          "base_uri": "https://localhost:8080/"
        }
      },
      "execution_count": 53,
      "outputs": [
        {
          "output_type": "stream",
          "name": "stdout",
          "text": [
            "MAPE: 12.859300000000001\n"
          ]
        }
      ]
    },
    {
      "cell_type": "code",
      "source": [
        "model = xgb.XGBRegressor(\n",
        "        objective=\"reg:squarederror\",\n",
        "        eval_metric=\"mae\",\n",
        "        n_estimators=10000,\n",
        "        random_state=SEED,\n",
        "        max_depth=6,\n",
        "        booster=\"gbtree\",\n",
        "        learning_rate=0.01,\n",
        "        subsample=0.7,\n",
        "        gamma=0,\n",
        "        reg_alpha=0,\n",
        "        reg_lambda=1,\n",
        "        importance_type=\"gain\",\n",
        "        colsample_bytree=0.9,\n",
        "        colsample_bynode=0.8,\n",
        "        colsample_bylevel=0.8,\n",
        "        verbosity=1,\n",
        "        n_jobs=1,\n",
        ")"
      ],
      "metadata": {
        "id": "qCj3__Mo69_y"
      },
      "execution_count": 49,
      "outputs": []
    },
    {
      "cell_type": "code",
      "source": [
        "model.fit(X_train,y_train)"
      ],
      "metadata": {
        "id": "dpxNTgWX-qPF",
        "outputId": "afe7366a-4467-4989-fd26-c8248a321b12",
        "colab": {
          "base_uri": "https://localhost:8080/"
        }
      },
      "execution_count": 50,
      "outputs": [
        {
          "output_type": "execute_result",
          "data": {
            "text/plain": [
              "XGBRegressor(colsample_bylevel=0.8, colsample_bynode=0.8, colsample_bytree=0.9,\n",
              "             eval_metric='mae', learning_rate=0.01, max_depth=6,\n",
              "             n_estimators=10000, objective='reg:squarederror', random_state=17,\n",
              "             subsample=0.7)"
            ]
          },
          "metadata": {},
          "execution_count": 50
        }
      ]
    },
    {
      "cell_type": "code",
      "source": [
        "y_preds = model.predict(X_test)\n",
        "# Calculate the absolute percentage errors\n",
        "errs = abs((y_preds - y_test)/y_test)\n",
        "# Print out the mean absolute percentageerror (mape)\n",
        "print('MAPE:', 100*round(np.mean(errors), 6))"
      ],
      "metadata": {
        "id": "ax2dYb9bQXZk",
        "outputId": "8f6b857e-4efe-4ef6-864c-11963fae9ae7",
        "colab": {
          "base_uri": "https://localhost:8080/"
        }
      },
      "execution_count": 52,
      "outputs": [
        {
          "output_type": "stream",
          "name": "stdout",
          "text": [
            "MAPE: 12.859300000000001\n"
          ]
        }
      ]
    },
    {
      "cell_type": "code",
      "source": [
        "pipe = Pipeline([('scaler',StandardScaler()),('model',model)])"
      ],
      "metadata": {
        "id": "ePdssgh367NV"
      },
      "execution_count": 44,
      "outputs": []
    },
    {
      "cell_type": "code",
      "source": [
        "pipe.fit(X_train,y_train)\n"
      ],
      "metadata": {
        "id": "60oq8tTz8ics",
        "outputId": "9c24db9e-8194-4edf-d4e9-d3104654de49",
        "colab": {
          "base_uri": "https://localhost:8080/",
          "height": 326
        }
      },
      "execution_count": 46,
      "outputs": [
        {
          "output_type": "error",
          "ename": "KeyboardInterrupt",
          "evalue": "ignored",
          "traceback": [
            "\u001b[0;31m---------------------------------------------------------------------------\u001b[0m",
            "\u001b[0;31mKeyboardInterrupt\u001b[0m                         Traceback (most recent call last)",
            "\u001b[0;32m<ipython-input-46-315a20e72400>\u001b[0m in \u001b[0;36m<module>\u001b[0;34m()\u001b[0m\n\u001b[0;32m----> 1\u001b[0;31m \u001b[0mpipe\u001b[0m\u001b[0;34m.\u001b[0m\u001b[0mfit\u001b[0m\u001b[0;34m(\u001b[0m\u001b[0mX_train\u001b[0m\u001b[0;34m,\u001b[0m\u001b[0my_train\u001b[0m\u001b[0;34m)\u001b[0m\u001b[0;34m\u001b[0m\u001b[0;34m\u001b[0m\u001b[0m\n\u001b[0m",
            "\u001b[0;32m/usr/local/lib/python3.7/dist-packages/sklearn/pipeline.py\u001b[0m in \u001b[0;36mfit\u001b[0;34m(self, X, y, **fit_params)\u001b[0m\n\u001b[1;32m    392\u001b[0m             \u001b[0;32mif\u001b[0m \u001b[0mself\u001b[0m\u001b[0;34m.\u001b[0m\u001b[0m_final_estimator\u001b[0m \u001b[0;34m!=\u001b[0m \u001b[0;34m\"passthrough\"\u001b[0m\u001b[0;34m:\u001b[0m\u001b[0;34m\u001b[0m\u001b[0;34m\u001b[0m\u001b[0m\n\u001b[1;32m    393\u001b[0m                 \u001b[0mfit_params_last_step\u001b[0m \u001b[0;34m=\u001b[0m \u001b[0mfit_params_steps\u001b[0m\u001b[0;34m[\u001b[0m\u001b[0mself\u001b[0m\u001b[0;34m.\u001b[0m\u001b[0msteps\u001b[0m\u001b[0;34m[\u001b[0m\u001b[0;34m-\u001b[0m\u001b[0;36m1\u001b[0m\u001b[0;34m]\u001b[0m\u001b[0;34m[\u001b[0m\u001b[0;36m0\u001b[0m\u001b[0;34m]\u001b[0m\u001b[0;34m]\u001b[0m\u001b[0;34m\u001b[0m\u001b[0;34m\u001b[0m\u001b[0m\n\u001b[0;32m--> 394\u001b[0;31m                 \u001b[0mself\u001b[0m\u001b[0;34m.\u001b[0m\u001b[0m_final_estimator\u001b[0m\u001b[0;34m.\u001b[0m\u001b[0mfit\u001b[0m\u001b[0;34m(\u001b[0m\u001b[0mXt\u001b[0m\u001b[0;34m,\u001b[0m \u001b[0my\u001b[0m\u001b[0;34m,\u001b[0m \u001b[0;34m**\u001b[0m\u001b[0mfit_params_last_step\u001b[0m\u001b[0;34m)\u001b[0m\u001b[0;34m\u001b[0m\u001b[0;34m\u001b[0m\u001b[0m\n\u001b[0m\u001b[1;32m    395\u001b[0m \u001b[0;34m\u001b[0m\u001b[0m\n\u001b[1;32m    396\u001b[0m         \u001b[0;32mreturn\u001b[0m \u001b[0mself\u001b[0m\u001b[0;34m\u001b[0m\u001b[0;34m\u001b[0m\u001b[0m\n",
            "\u001b[0;32m/usr/local/lib/python3.7/dist-packages/xgboost/sklearn.py\u001b[0m in \u001b[0;36mfit\u001b[0;34m(self, X, y, sample_weight, eval_set, eval_metric, early_stopping_rounds, verbose, xgb_model, sample_weight_eval_set, callbacks)\u001b[0m\n\u001b[1;32m    394\u001b[0m                               \u001b[0mevals_result\u001b[0m\u001b[0;34m=\u001b[0m\u001b[0mevals_result\u001b[0m\u001b[0;34m,\u001b[0m \u001b[0mobj\u001b[0m\u001b[0;34m=\u001b[0m\u001b[0mobj\u001b[0m\u001b[0;34m,\u001b[0m \u001b[0mfeval\u001b[0m\u001b[0;34m=\u001b[0m\u001b[0mfeval\u001b[0m\u001b[0;34m,\u001b[0m\u001b[0;34m\u001b[0m\u001b[0;34m\u001b[0m\u001b[0m\n\u001b[1;32m    395\u001b[0m                               \u001b[0mverbose_eval\u001b[0m\u001b[0;34m=\u001b[0m\u001b[0mverbose\u001b[0m\u001b[0;34m,\u001b[0m \u001b[0mxgb_model\u001b[0m\u001b[0;34m=\u001b[0m\u001b[0mxgb_model\u001b[0m\u001b[0;34m,\u001b[0m\u001b[0;34m\u001b[0m\u001b[0;34m\u001b[0m\u001b[0m\n\u001b[0;32m--> 396\u001b[0;31m                               callbacks=callbacks)\n\u001b[0m\u001b[1;32m    397\u001b[0m \u001b[0;34m\u001b[0m\u001b[0m\n\u001b[1;32m    398\u001b[0m         \u001b[0;32mif\u001b[0m \u001b[0mevals_result\u001b[0m\u001b[0;34m:\u001b[0m\u001b[0;34m\u001b[0m\u001b[0;34m\u001b[0m\u001b[0m\n",
            "\u001b[0;32m/usr/local/lib/python3.7/dist-packages/xgboost/training.py\u001b[0m in \u001b[0;36mtrain\u001b[0;34m(params, dtrain, num_boost_round, evals, obj, feval, maximize, early_stopping_rounds, evals_result, verbose_eval, xgb_model, callbacks, learning_rates)\u001b[0m\n\u001b[1;32m    214\u001b[0m                            \u001b[0mevals\u001b[0m\u001b[0;34m=\u001b[0m\u001b[0mevals\u001b[0m\u001b[0;34m,\u001b[0m\u001b[0;34m\u001b[0m\u001b[0;34m\u001b[0m\u001b[0m\n\u001b[1;32m    215\u001b[0m                            \u001b[0mobj\u001b[0m\u001b[0;34m=\u001b[0m\u001b[0mobj\u001b[0m\u001b[0;34m,\u001b[0m \u001b[0mfeval\u001b[0m\u001b[0;34m=\u001b[0m\u001b[0mfeval\u001b[0m\u001b[0;34m,\u001b[0m\u001b[0;34m\u001b[0m\u001b[0;34m\u001b[0m\u001b[0m\n\u001b[0;32m--> 216\u001b[0;31m                            xgb_model=xgb_model, callbacks=callbacks)\n\u001b[0m\u001b[1;32m    217\u001b[0m \u001b[0;34m\u001b[0m\u001b[0m\n\u001b[1;32m    218\u001b[0m \u001b[0;34m\u001b[0m\u001b[0m\n",
            "\u001b[0;32m/usr/local/lib/python3.7/dist-packages/xgboost/training.py\u001b[0m in \u001b[0;36m_train_internal\u001b[0;34m(params, dtrain, num_boost_round, evals, obj, feval, xgb_model, callbacks)\u001b[0m\n\u001b[1;32m     72\u001b[0m         \u001b[0;31m# Skip the first update if it is a recovery step.\u001b[0m\u001b[0;34m\u001b[0m\u001b[0;34m\u001b[0m\u001b[0;34m\u001b[0m\u001b[0m\n\u001b[1;32m     73\u001b[0m         \u001b[0;32mif\u001b[0m \u001b[0mversion\u001b[0m \u001b[0;34m%\u001b[0m \u001b[0;36m2\u001b[0m \u001b[0;34m==\u001b[0m \u001b[0;36m0\u001b[0m\u001b[0;34m:\u001b[0m\u001b[0;34m\u001b[0m\u001b[0;34m\u001b[0m\u001b[0m\n\u001b[0;32m---> 74\u001b[0;31m             \u001b[0mbst\u001b[0m\u001b[0;34m.\u001b[0m\u001b[0mupdate\u001b[0m\u001b[0;34m(\u001b[0m\u001b[0mdtrain\u001b[0m\u001b[0;34m,\u001b[0m \u001b[0mi\u001b[0m\u001b[0;34m,\u001b[0m \u001b[0mobj\u001b[0m\u001b[0;34m)\u001b[0m\u001b[0;34m\u001b[0m\u001b[0;34m\u001b[0m\u001b[0m\n\u001b[0m\u001b[1;32m     75\u001b[0m             \u001b[0mbst\u001b[0m\u001b[0;34m.\u001b[0m\u001b[0msave_rabit_checkpoint\u001b[0m\u001b[0;34m(\u001b[0m\u001b[0;34m)\u001b[0m\u001b[0;34m\u001b[0m\u001b[0;34m\u001b[0m\u001b[0m\n\u001b[1;32m     76\u001b[0m             \u001b[0mversion\u001b[0m \u001b[0;34m+=\u001b[0m \u001b[0;36m1\u001b[0m\u001b[0;34m\u001b[0m\u001b[0;34m\u001b[0m\u001b[0m\n",
            "\u001b[0;32m/usr/local/lib/python3.7/dist-packages/xgboost/core.py\u001b[0m in \u001b[0;36mupdate\u001b[0;34m(self, dtrain, iteration, fobj)\u001b[0m\n\u001b[1;32m   1107\u001b[0m         \u001b[0;32mif\u001b[0m \u001b[0mfobj\u001b[0m \u001b[0;32mis\u001b[0m \u001b[0;32mNone\u001b[0m\u001b[0;34m:\u001b[0m\u001b[0;34m\u001b[0m\u001b[0;34m\u001b[0m\u001b[0m\n\u001b[1;32m   1108\u001b[0m             _check_call(_LIB.XGBoosterUpdateOneIter(self.handle, ctypes.c_int(iteration),\n\u001b[0;32m-> 1109\u001b[0;31m                                                     dtrain.handle))\n\u001b[0m\u001b[1;32m   1110\u001b[0m         \u001b[0;32melse\u001b[0m\u001b[0;34m:\u001b[0m\u001b[0;34m\u001b[0m\u001b[0;34m\u001b[0m\u001b[0m\n\u001b[1;32m   1111\u001b[0m             \u001b[0mpred\u001b[0m \u001b[0;34m=\u001b[0m \u001b[0mself\u001b[0m\u001b[0;34m.\u001b[0m\u001b[0mpredict\u001b[0m\u001b[0;34m(\u001b[0m\u001b[0mdtrain\u001b[0m\u001b[0;34m)\u001b[0m\u001b[0;34m\u001b[0m\u001b[0;34m\u001b[0m\u001b[0m\n",
            "\u001b[0;31mKeyboardInterrupt\u001b[0m: "
          ]
        }
      ]
    },
    {
      "cell_type": "code",
      "source": [
        "y_pred = pipe.predict(X_test)\n",
        "acc_test = pipe.score(X_test, y_test)\n",
        "acc_train = pipe.score(X_train, y_train)"
      ],
      "metadata": {
        "id": "F4Nq-a3l8s1S"
      },
      "execution_count": null,
      "outputs": []
    },
    {
      "cell_type": "code",
      "source": [
        "#data de test\n",
        "#url='https://drive.google.com/file/d/1sMkorQLOmf2cNGRwXkQLKeciGSUpL_ez/view?usp=sharing'\n",
        "#url='https://drive.google.com/uc?id=' + url.split('/')[-2]\n",
        "#df_test = pd.read_csv(url)\n",
        "\n",
        "#df_test.head()"
      ],
      "metadata": {
        "id": "h6m7XceWQITM"
      },
      "execution_count": null,
      "outputs": []
    }
  ]
}