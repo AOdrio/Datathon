{
  "nbformat": 4,
  "nbformat_minor": 0,
  "metadata": {
    "colab": {
      "name": "Untitled2.ipynb",
      "provenance": [],
      "mount_file_id": "https://github.com/AOdrio/Datathon/blob/main/Prueba%20github.ipynb",
      "authorship_tag": "ABX9TyMeFiDNrG7YqMPGUNVpNyAc",
      "include_colab_link": true
    },
    "kernelspec": {
      "name": "python3",
      "display_name": "Python 3"
    },
    "language_info": {
      "name": "python"
    }
  },
  "cells": [
    {
      "cell_type": "markdown",
      "metadata": {
        "id": "view-in-github",
        "colab_type": "text"
      },
      "source": [
        "<a href=\"https://colab.research.google.com/github/AOdrio/Datathon/blob/main/bolaso%20-%20clasificacion.ipynb\" target=\"_parent\"><img src=\"https://colab.research.google.com/assets/colab-badge.svg\" alt=\"Open In Colab\"/></a>"
      ]
    },
    {
      "cell_type": "code",
      "source": [
        "import pandas as pd\n",
        "import numpy as np\n",
        "\n",
        "import xgboost as xgb\n",
        "from matplotlib import pyplot as plt\n",
        "import seaborn as sns \n",
        "\n",
        "from sklearn.model_selection import train_test_split\n",
        "from sklearn.metrics import mean_absolute_error\n",
        "from sklearn.pipeline import Pipeline\n",
        "from sklearn.metrics import mean_absolute_percentage_error as MAPE\n",
        "from sklearn.metrics import accuracy_score\n",
        "from sklearn.ensemble import RandomForestClassifier\n",
        "\n",
        "SEED = 42"
      ],
      "metadata": {
        "id": "qilgKjKQHzSm"
      },
      "execution_count": 1,
      "outputs": []
    },
    {
      "cell_type": "markdown",
      "source": [
        ""
      ],
      "metadata": {
        "id": "N97V-xl6gCF7"
      }
    },
    {
      "cell_type": "code",
      "execution_count": 2,
      "metadata": {
        "id": "rvJX5DZi17KG"
      },
      "outputs": [],
      "source": [
        "url='https://drive.google.com/file/d/1KH1fB83JDAWcMRCHKFf9SmcGH7MQkupE/view?usp=sharing'\n",
        "url='https://drive.google.com/uc?id=' + url.split('/')[-2]\n",
        "df_original = pd.read_csv(url)"
      ]
    },
    {
      "cell_type": "code",
      "source": [
        "y = df_original.pop(\"ingreso\")\n",
        "X = df_original.copy()\n",
        "\n",
        "X_train, X_test, y_train, y_test = train_test_split(X, y, test_size=0.2, random_state=SEED)"
      ],
      "metadata": {
        "id": "khk4o5HHHjJC"
      },
      "execution_count": 3,
      "outputs": []
    },
    {
      "cell_type": "code",
      "source": [
        "print('Todo: ',df_original.shape)\n",
        "print('Train:',X_train.shape)\n",
        "print('Test: ',X_test.shape)"
      ],
      "metadata": {
        "colab": {
          "base_uri": "https://localhost:8080/"
        },
        "id": "JdClAMOQtgwf",
        "outputId": "141d322e-38d8-42b0-e49a-f7e866397f29"
      },
      "execution_count": 4,
      "outputs": [
        {
          "output_type": "stream",
          "name": "stdout",
          "text": [
            "Todo:  (40000, 24)\n",
            "Train: (32000, 24)\n",
            "Test:  (8000, 24)\n"
          ]
        }
      ]
    },
    {
      "cell_type": "markdown",
      "source": [
        "se remplazan los null por la media de la columna"
      ],
      "metadata": {
        "id": "ldT9CaJNvWYF"
      }
    },
    {
      "cell_type": "code",
      "source": [
        "edad_media = X_train['edad'].mean()"
      ],
      "metadata": {
        "id": "fUaiCz0FvlN8"
      },
      "execution_count": 5,
      "outputs": []
    },
    {
      "cell_type": "code",
      "source": [
        "def transfromar_DataFrame (df,edad_media):\n",
        "  df = df.copy()\n",
        "  df = df.drop(df.columns[0],axis=1)\n",
        "  #Remplazar nulls de la edad con la media de la columna\n",
        "  df['edad'] = df['edad'].fillna(edad_media, inplace=False)\n",
        "\n",
        "  #Transformar categóricas en numéricas\n",
        "  df['peorcalificacionBCU'] = (df['peorcalificacionBCU'].\n",
        "                              str.replace('5','6').\n",
        "                              str.replace('4','5').\n",
        "                              str.replace('3','4').\n",
        "                              str.replace('2B','3').\n",
        "                              str.replace('2A','2').\n",
        "                              str.replace('1C','1').\n",
        "                              str.replace('1A','0'))\n",
        "  df['peorcalificacionBCU'] = pd.to_numeric(df['peorcalificacionBCU'], downcast='integer')\n",
        "  return df"
      ],
      "metadata": {
        "id": "CalPIb9cSmqE"
      },
      "execution_count": 6,
      "outputs": []
    },
    {
      "cell_type": "code",
      "source": [
        "X_train = transfromar_DataFrame(X_train,edad_media)\n",
        "X_test = transfromar_DataFrame(X_test,edad_media)"
      ],
      "metadata": {
        "id": "eDjtKf9jFloF"
      },
      "execution_count": 7,
      "outputs": []
    },
    {
      "cell_type": "code",
      "source": [
        "n_clases = 7"
      ],
      "metadata": {
        "id": "W8zSYjBQY1Sg"
      },
      "execution_count": 8,
      "outputs": []
    },
    {
      "cell_type": "code",
      "source": [
        "clases = pd.DataFrame(y_train)\n",
        "clases['Quantile_rank'] = pd.qcut(clases['ingreso'], n_clases, labels = False)\n",
        "clases['ingreso_medio'] = clases.groupby('Quantile_rank')['ingreso'].transform('mean')\n",
        "valores_medios = clases.groupby(['Quantile_rank']).mean().drop('ingreso',axis=1)\n",
        "MAPE_ingreso_medio = MAPE(clases['ingreso'],clases['ingreso_medio'])\n",
        "print('MAPE linea base: ', round(MAPE_ingreso_medio *100, 2))"
      ],
      "metadata": {
        "id": "vAO6gR-LbMaq",
        "outputId": "d94b7079-3c91-4216-d317-a1700ad687d8",
        "colab": {
          "base_uri": "https://localhost:8080/"
        }
      },
      "execution_count": 9,
      "outputs": [
        {
          "output_type": "stream",
          "name": "stdout",
          "text": [
            "MAPE linea base:  9.52\n"
          ]
        }
      ]
    },
    {
      "cell_type": "code",
      "source": [
        "y_train_2=clases['Quantile_rank']"
      ],
      "metadata": {
        "id": "liJBPWmJedUa"
      },
      "execution_count": 10,
      "outputs": []
    },
    {
      "cell_type": "code",
      "source": [
        "rf_classifier = RandomForestClassifier(\n",
        "                      min_samples_leaf=20,\n",
        "                      n_estimators=1000,\n",
        "                      bootstrap=True,\n",
        "                      oob_score=True,\n",
        "                      n_jobs=-1,\n",
        "                      random_state=SEED,\n",
        "                      max_features='auto')\n"
      ],
      "metadata": {
        "id": "5eBd0PyAfNuE"
      },
      "execution_count": 58,
      "outputs": []
    },
    {
      "cell_type": "code",
      "source": [
        "rf_classifier.fit(X_train,y_train_2)\n",
        "preds_rf = rf_classifier.predict(X_test)\n",
        "pred_df = pd.DataFrame(preds_rf, columns=['Quantile_rank'])\n",
        "MAPE_rf = MAPE(y_test,pd.merge(pred_df, valores_medios, on= 'Quantile_rank', how='left' )['ingreso_medio'])\n",
        "print('MAPE: ', round(MAPE_rf *100, 2))"
      ],
      "metadata": {
        "id": "A_U2b1qTjT-t",
        "outputId": "9c391ca7-3448-474f-f538-237ec84123d7",
        "colab": {
          "base_uri": "https://localhost:8080/"
        }
      },
      "execution_count": 59,
      "outputs": [
        {
          "output_type": "stream",
          "name": "stdout",
          "text": [
            "MAPE:  17.93\n"
          ]
        }
      ]
    },
    {
      "cell_type": "code",
      "source": [
        "xgb_classifier = xgb.XGBClassifier(\n",
        "            objective = \"multi:softmax\",\n",
        "            num_class = n_clases,\n",
        "            eval_metric = \"merror\",\n",
        "            #tree_method = \"gpu_hist\",\n",
        "            booster = \"gbtree\",\n",
        "            random_state = SEED,\n",
        "            n_estimators = 500,\n",
        "            learning_rate = 0.01,\n",
        "            max_depth = 9,\n",
        "            min_child_weight = 7,\n",
        "            subsample = 0.9,\n",
        "            colsample_bytree = 1,\n",
        "            colsample_bynode = 0.7,\n",
        "            colsample_bylevel = 0.8,\n",
        "            verbosity = 0,\n",
        "            n_jobs = -1,\n",
        "            )"
      ],
      "metadata": {
        "id": "a9_-yp4mVXxP"
      },
      "execution_count": 60,
      "outputs": []
    },
    {
      "cell_type": "code",
      "source": [
        "xgb_classifier.fit(X_train,y_train_2)\n",
        "preds_xgb = xgb_classifier.predict(X_test)\n",
        "pred_xgb = pd.DataFrame(preds_xgb, columns=['Quantile_rank'])\n",
        "MAPE_xgb = MAPE(y_test,pd.merge(pred_xgb, valores_medios, on= 'Quantile_rank', how='left' )['ingreso_medio'])\n",
        "print('MAPE: ', round(MAPE_xgb *100, 2))\n"
      ],
      "metadata": {
        "id": "xvoVVUvyXTdi",
        "outputId": "c3d81638-021d-40c9-d173-3d54c64a530a",
        "colab": {
          "base_uri": "https://localhost:8080/"
        }
      },
      "execution_count": 61,
      "outputs": [
        {
          "output_type": "stream",
          "name": "stdout",
          "text": [
            "MAPE:  17.13\n"
          ]
        }
      ]
    }
  ]
}