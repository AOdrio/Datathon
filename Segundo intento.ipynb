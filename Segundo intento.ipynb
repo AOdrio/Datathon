{
  "nbformat": 4,
  "nbformat_minor": 0,
  "metadata": {
    "colab": {
      "name": "Untitled2.ipynb",
      "provenance": [],
      "include_colab_link": true
    },
    "kernelspec": {
      "name": "python3",
      "display_name": "Python 3"
    },
    "language_info": {
      "name": "python"
    },
    "accelerator": "GPU"
  },
  "cells": [
    {
      "cell_type": "markdown",
      "metadata": {
        "id": "view-in-github",
        "colab_type": "text"
      },
      "source": [
        "<a href=\"https://colab.research.google.com/github/AOdrio/Datathon/blob/main/Segundo%20intento.ipynb\" target=\"_parent\"><img src=\"https://colab.research.google.com/assets/colab-badge.svg\" alt=\"Open In Colab\"/></a>"
      ]
    },
    {
      "cell_type": "code",
      "source": [
        "import pandas as pd\n",
        "import numpy as np\n",
        "\n",
        "import xgboost as xgb\n",
        "from matplotlib import pyplot as plt\n",
        "import seaborn as sns \n",
        "\n",
        "from sklearn.model_selection import train_test_split\n",
        "from sklearn.metrics import mean_absolute_error\n",
        "from sklearn.pipeline import Pipeline\n",
        "from sklearn.preprocessing import StandardScaler, OneHotEncoder\n",
        "from sklearn.metrics import mean_absolute_percentage_error as MAPE\n",
        "from sklearn.ensemble import RandomForestRegressor\n",
        "from sklearn.linear_model import LinearRegression as LR\n",
        "from sklearn.neighbors import KNeighborsRegressor as KNN\n",
        "from sklearn.preprocessing import QuantileTransformer\n",
        "from sklearn.impute import SimpleImputer\n",
        "from sklearn.compose import ColumnTransformer\n",
        "\n",
        "import warnings\n",
        "warnings.filterwarnings('ignore')\n",
        "\n",
        "SEED = 42"
      ],
      "metadata": {
        "id": "qilgKjKQHzSm"
      },
      "execution_count": 1,
      "outputs": []
    },
    {
      "cell_type": "markdown",
      "source": [
        ""
      ],
      "metadata": {
        "id": "N97V-xl6gCF7"
      }
    },
    {
      "cell_type": "code",
      "execution_count": 2,
      "metadata": {
        "id": "rvJX5DZi17KG"
      },
      "outputs": [],
      "source": [
        "url='https://drive.google.com/file/d/1KH1fB83JDAWcMRCHKFf9SmcGH7MQkupE/view?usp=sharing'\n",
        "url='https://drive.google.com/uc?id=' + url.split('/')[-2]\n",
        "df_original = pd.read_csv(url)"
      ]
    },
    {
      "cell_type": "code",
      "source": [
        "df_original.describe()"
      ],
      "metadata": {
        "id": "c7On5-UL28mJ"
      },
      "execution_count": null,
      "outputs": []
    },
    {
      "cell_type": "code",
      "source": [
        "ax = df_original.hist(bins=20, figsize=(15, 10))"
      ],
      "metadata": {
        "id": "_DfhI7PVgrKv"
      },
      "execution_count": null,
      "outputs": []
    },
    {
      "cell_type": "markdown",
      "source": [
        "se remplazan los null por la media de la columna"
      ],
      "metadata": {
        "id": "ldT9CaJNvWYF"
      }
    },
    {
      "cell_type": "code",
      "source": [
        "edad_media = df_original['edad'].mean()\n",
        "edad_media"
      ],
      "metadata": {
        "id": "fUaiCz0FvlN8",
        "outputId": "9721cb28-f789-48bf-c7f1-40619be4bc5e",
        "colab": {
          "base_uri": "https://localhost:8080/"
        }
      },
      "execution_count": 3,
      "outputs": [
        {
          "output_type": "execute_result",
          "data": {
            "text/plain": [
              "45.02159532392986"
            ]
          },
          "metadata": {},
          "execution_count": 3
        }
      ]
    },
    {
      "cell_type": "code",
      "source": [
        "def transfromar_DataFrame (df):\n",
        "  df = df.copy()\n",
        "  df = df.drop(df.columns[0],axis=1)\n",
        "  #Remplazar nulls de la edad con la media de la columna\n",
        "  df['edad'] = df['edad'].fillna(edad_media, inplace=False)\n",
        "\n",
        "  #Transformar categóricas en numéricas\n",
        "  df['peorcalificacionBCU'] = (df['peorcalificacionBCU'].\n",
        "                              str.replace('5','6').\n",
        "                              str.replace('4','5').\n",
        "                              str.replace('3','4').\n",
        "                              str.replace('2B','3').\n",
        "                              str.replace('2A','2').\n",
        "                              str.replace('1C','1').\n",
        "                              str.replace('1A','0'))\n",
        "  df['peorcalificacionBCU'] = pd.to_numeric(df['peorcalificacionBCU'], downcast='integer')\n",
        "  return df"
      ],
      "metadata": {
        "id": "CalPIb9cSmqE"
      },
      "execution_count": 4,
      "outputs": []
    },
    {
      "cell_type": "code",
      "source": [
        "df = transfromar_DataFrame(df_original)\n"
      ],
      "metadata": {
        "id": "eDjtKf9jFloF"
      },
      "execution_count": 5,
      "outputs": []
    },
    {
      "cell_type": "code",
      "source": [
        "df.head()"
      ],
      "metadata": {
        "id": "2gAniaDwzihI"
      },
      "execution_count": null,
      "outputs": []
    },
    {
      "cell_type": "code",
      "source": [
        "y = df.pop(\"ingreso\")\n",
        "X = df.copy()\n",
        "\n",
        "X_train, X_test, y_train, y_test = train_test_split(X, y, test_size=0.2, random_state=SEED)\n"
      ],
      "metadata": {
        "id": "4qqM2frRHcZL"
      },
      "execution_count": 6,
      "outputs": []
    },
    {
      "cell_type": "code",
      "source": [
        "# La linea base es el mediana de los ingresos\n",
        "baseline_preds = pd.DataFrame(y_train.copy())\n",
        "mediana = y_train.median()\n",
        "baseline_preds['mediana'] = mediana\n",
        "# Baseline errors, and display average baseline error\n",
        "baseline_MAPE = MAPE(y_train,baseline_preds['mediana'])\n",
        "print('MAPE linea base: ', round(baseline_MAPE *100, 2))\n",
        "print('Mediana de ingreso: ', round(mediana))"
      ],
      "metadata": {
        "id": "cMTuEvhtAeId",
        "outputId": "7919e993-a4a1-4da5-c080-467a01abf6ed",
        "colab": {
          "base_uri": "https://localhost:8080/"
        }
      },
      "execution_count": 7,
      "outputs": [
        {
          "output_type": "stream",
          "name": "stdout",
          "text": [
            "MAPE linea base:  42.18\n",
            "Mediana de ingreso:  53665\n"
          ]
        }
      ]
    },
    {
      "cell_type": "code",
      "source": [
        "model_xgb = xgb.XGBRegressor(\n",
        "            objective = \"reg:squarederror\",\n",
        "            eval_metric = \"mae\",\n",
        "            tree_method = \"gpu_hist\",\n",
        "            booster = \"gbtree\",\n",
        "            random_state = SEED,\n",
        "            n_estimators = 500,\n",
        "            learning_rate = 0.01,\n",
        "            max_depth = 11,\n",
        "            min_child_weight = 7,\n",
        "            subsample = 0.9,\n",
        "            colsample_bytree = 1,\n",
        "            colsample_bynode = 0.7,\n",
        "            colsample_bylevel = 0.8,\n",
        "            verbosity = 0,\n",
        "            n_jobs = -1,\n",
        "            )"
      ],
      "metadata": {
        "id": "qCj3__Mo69_y"
      },
      "execution_count": 8,
      "outputs": []
    },
    {
      "cell_type": "code",
      "source": [
        "model_xgb.fit(X_train,y_train)\n",
        "preds_xgb = model_xgb.predict(X_test)\n",
        "MAPE_xgb = MAPE(y_test, preds_xgb)\n",
        "print('MAPE_xgb:', round(100*MAPE_xgb, 2))"
      ],
      "metadata": {
        "id": "dpxNTgWX-qPF",
        "outputId": "fc591ef5-2e43-4bbf-8726-5fb3ccb45fbe",
        "colab": {
          "base_uri": "https://localhost:8080/"
        }
      },
      "execution_count": 9,
      "outputs": [
        {
          "output_type": "stream",
          "name": "stdout",
          "text": [
            "MAPE_xgb: 12.49\n"
          ]
        }
      ]
    },
    {
      "cell_type": "code",
      "source": [
        "#data de test\n",
        "url='https://drive.google.com/file/d/1sMkorQLOmf2cNGRwXkQLKeciGSUpL_ez/view?usp=sharing'\n",
        "url='https://drive.google.com/uc?id=' + url.split('/')[-2]\n",
        "df_test_original = pd.read_csv(url)\n",
        "\n",
        "#df_test_original.head()"
      ],
      "metadata": {
        "id": "h6m7XceWQITM"
      },
      "execution_count": 11,
      "outputs": []
    },
    {
      "cell_type": "code",
      "source": [
        "df_test = transfromar_DataFrame(df_test_original)"
      ],
      "metadata": {
        "id": "m1DZoRB8VmAO"
      },
      "execution_count": 12,
      "outputs": []
    },
    {
      "cell_type": "code",
      "source": [
        "preds_datathon = model_xgb.predict(df_test)"
      ],
      "metadata": {
        "id": "a4amkxAAWYOQ"
      },
      "execution_count": 13,
      "outputs": []
    },
    {
      "cell_type": "code",
      "source": [
        "pd.DataFrame(preds_datathon).to_csv('predicciones2.csv') "
      ],
      "metadata": {
        "id": "l_y5kAzbWeTO"
      },
      "execution_count": 14,
      "outputs": []
    }
  ]
}