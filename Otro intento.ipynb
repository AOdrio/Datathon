{
  "nbformat": 4,
  "nbformat_minor": 0,
  "metadata": {
    "colab": {
      "name": "Untitled2.ipynb",
      "provenance": [],
      "include_colab_link": true
    },
    "kernelspec": {
      "name": "python3",
      "display_name": "Python 3"
    },
    "language_info": {
      "name": "python"
    },
    "accelerator": "GPU"
  },
  "cells": [
    {
      "cell_type": "markdown",
      "metadata": {
        "id": "view-in-github",
        "colab_type": "text"
      },
      "source": [
        "<a href=\"https://colab.research.google.com/github/AOdrio/Datathon/blob/main/Otro%20intento.ipynb\" target=\"_parent\"><img src=\"https://colab.research.google.com/assets/colab-badge.svg\" alt=\"Open In Colab\"/></a>"
      ]
    },
    {
      "cell_type": "code",
      "source": [
        "#pip install shap"
      ],
      "metadata": {
        "id": "ZHTdUdkB-9IT"
      },
      "execution_count": 1,
      "outputs": []
    },
    {
      "cell_type": "code",
      "source": [
        "import pandas as pd\n",
        "import numpy as np\n",
        "#import hyperopt\n",
        "#from hyperopt import fmin, tpe, hp, STATUS_OK, Trials\n",
        "\n",
        "#from pandas.core.common import random_state\n",
        "import xgboost as xgb\n",
        "from matplotlib import pyplot as plt\n",
        "import seaborn as sns # for correlation heatmap\n",
        "#import shap\n",
        "\n",
        "from sklearn.model_selection import train_test_split\n",
        "from sklearn.metrics import mean_absolute_error\n",
        "from sklearn.pipeline import Pipeline\n",
        "from sklearn.preprocessing import StandardScaler\n",
        "from sklearn.metrics import mean_absolute_percentage_error as MAPE\n",
        "from sklearn.ensemble import RandomForestRegressor\n",
        "from sklearn.linear_model import LinearRegression as LR\n",
        "from sklearn.neighbors import KNeighborsRegressor as KNN\n",
        "\n",
        "SEED = 42"
      ],
      "metadata": {
        "id": "qilgKjKQHzSm"
      },
      "execution_count": 2,
      "outputs": []
    },
    {
      "cell_type": "code",
      "execution_count": 3,
      "metadata": {
        "id": "rvJX5DZi17KG"
      },
      "outputs": [],
      "source": [
        "url='https://drive.google.com/file/d/1KH1fB83JDAWcMRCHKFf9SmcGH7MQkupE/view?usp=sharing'\n",
        "url='https://drive.google.com/uc?id=' + url.split('/')[-2]\n",
        "df_original = pd.read_csv(url)"
      ]
    },
    {
      "cell_type": "code",
      "source": [
        "df_original.head()"
      ],
      "metadata": {
        "id": "c7On5-UL28mJ"
      },
      "execution_count": null,
      "outputs": []
    },
    {
      "cell_type": "code",
      "source": [
        "print (df_original.isnull().sum())"
      ],
      "metadata": {
        "id": "CpMg5671-9-c"
      },
      "execution_count": null,
      "outputs": []
    },
    {
      "cell_type": "markdown",
      "source": [
        "se remplazan los null por la media de la columna"
      ],
      "metadata": {
        "id": "ldT9CaJNvWYF"
      }
    },
    {
      "cell_type": "code",
      "source": [
        "edad_media = df_original['edad'].mean()\n",
        "edad_media"
      ],
      "metadata": {
        "id": "fUaiCz0FvlN8",
        "outputId": "1456de78-39e4-44aa-a737-45f65d228831",
        "colab": {
          "base_uri": "https://localhost:8080/"
        }
      },
      "execution_count": 6,
      "outputs": [
        {
          "output_type": "execute_result",
          "data": {
            "text/plain": [
              "45.02159532392986"
            ]
          },
          "metadata": {},
          "execution_count": 6
        }
      ]
    },
    {
      "cell_type": "code",
      "source": [
        "def transfromar_DataFrame (df):\n",
        "  df = df.copy()\n",
        "  df = df.drop(df.columns[0],axis=1)\n",
        "  #Remplazar nulls de la edad con la media de la columna\n",
        "  df['edad'] = df['edad'].fillna(edad_media, inplace=False)\n",
        "\n",
        "  #Transformar categóricas en numéricas\n",
        "  df['peorcalificacionBCU'] = (df['peorcalificacionBCU'].\n",
        "                              str.replace('2B','3').\n",
        "                              str.replace('5','6').\n",
        "                              str.replace('4','5').\n",
        "                              str.replace('3','4').\n",
        "                              str.replace('2A','2').\n",
        "                              str.replace('1C','1').\n",
        "                              str.replace('1A','0'))\n",
        "  df['peorcalificacionBCU'] = pd.to_numeric(df['peorcalificacionBCU'], downcast='integer')\n",
        "  return df"
      ],
      "metadata": {
        "id": "CalPIb9cSmqE"
      },
      "execution_count": 7,
      "outputs": []
    },
    {
      "cell_type": "code",
      "source": [
        "df = transfromar_DataFrame(df_original)\n"
      ],
      "metadata": {
        "id": "eDjtKf9jFloF"
      },
      "execution_count": 8,
      "outputs": []
    },
    {
      "cell_type": "code",
      "source": [
        "df.head()"
      ],
      "metadata": {
        "id": "2gAniaDwzihI"
      },
      "execution_count": null,
      "outputs": []
    },
    {
      "cell_type": "code",
      "source": [
        "y = df.pop(\"ingreso\")\n",
        "X = df.copy()\n",
        "\n",
        "X_train, X_test, y_train, y_test = train_test_split(X, y, test_size=0.2, random_state=SEED)\n"
      ],
      "metadata": {
        "id": "4qqM2frRHcZL"
      },
      "execution_count": 9,
      "outputs": []
    },
    {
      "cell_type": "code",
      "source": [
        "# La linea base es el promedio de los ingresos\n",
        "baseline_preds = pd.DataFrame(y_train.copy())\n",
        "media = y_train.mean()\n",
        "baseline_preds['media'] = media\n",
        "# Baseline errors, and display average baseline error\n",
        "baseline_MAPE = MAPE(y_train,baseline_preds['media'])\n",
        "print('MAPE linea base: ', round(baseline_MAPE *100, 2))"
      ],
      "metadata": {
        "id": "cMTuEvhtAeId",
        "outputId": "56866166-2bba-4535-8243-9381a6e70739",
        "colab": {
          "base_uri": "https://localhost:8080/"
        }
      },
      "execution_count": 10,
      "outputs": [
        {
          "output_type": "stream",
          "name": "stdout",
          "text": [
            "MAPE linea base:  58.03\n"
          ]
        }
      ]
    },
    {
      "cell_type": "code",
      "source": [
        "# Instantiate model with 1000 decision trees\n",
        "rf0 = RandomForestRegressor(n_estimators = 500, random_state = SEED)\n",
        "#rf1 = RandomForestRegressor(n_estimators = 500, criterion=\"absolute_error\", max_features=3, bootstrap=True, oob_score=True, random_state = SEED)\n",
        "#rf2 = RandomForestRegressor(n_estimators = 500, max_features=5, bootstrap=True, oob_score=False, random_state = SEED)\n",
        "\n",
        "\n",
        "# Train the model on training data\n",
        "rf0.fit(X_train,y_train)\n",
        "#rf1.fit(X_train,y_train)\n",
        "#rf2.fit(X_train,y_train)"
      ],
      "metadata": {
        "id": "HmLJBF_sHVNK",
        "outputId": "5ebce2b2-b23d-44b1-857a-e3e3c4775e57",
        "colab": {
          "base_uri": "https://localhost:8080/"
        }
      },
      "execution_count": 23,
      "outputs": [
        {
          "output_type": "execute_result",
          "data": {
            "text/plain": [
              "RandomForestRegressor(n_estimators=500, random_state=42)"
            ]
          },
          "metadata": {},
          "execution_count": 23
        }
      ]
    },
    {
      "cell_type": "code",
      "source": [
        "help(RandomForestRegressor)"
      ],
      "metadata": {
        "id": "B6xawsfMg0Nc"
      },
      "execution_count": null,
      "outputs": []
    },
    {
      "cell_type": "code",
      "source": [
        "# Use the forest's predict method on the test data\n",
        "preds_rf0 = rf0.predict(X_test)\n",
        "# Calculate the absolute percentage errors\n",
        "MAPE_rf0 = MAPE(y_test, preds_rf0)\n",
        "# Print out the mean absolute percentageerror (mape)\n",
        "print('MAPE_rf0:', round(100*MAPE_rf0, 2))"
      ],
      "metadata": {
        "id": "OgYKLXTJLqT6",
        "outputId": "c43c16e2-3de9-4bc9-f613-b2921f6c3c1c",
        "colab": {
          "base_uri": "https://localhost:8080/"
        }
      },
      "execution_count": 24,
      "outputs": [
        {
          "output_type": "stream",
          "name": "stdout",
          "text": [
            "MAPE_rf0: 12.93\n"
          ]
        }
      ]
    },
    {
      "cell_type": "markdown",
      "source": [
        "**Optimización del modelo**"
      ],
      "metadata": {
        "id": "sXsliLfmkP_y"
      }
    },
    {
      "cell_type": "code",
      "source": [
        "from sklearn.model_selection import RandomizedSearchCV\n",
        "# Number of trees in random forest\n",
        "n_estimators = [int(x) for x in np.linspace(start = 200, stop = 2000, num = 5)]\n",
        "# Number of features to consider at every split\n",
        "max_features = ['auto', 'sqrt']\n",
        "# Maximum number of levels in tree\n",
        "max_depth = [int(x) for x in np.linspace(10, 110, num = 4)]\n",
        "max_depth.append(None)\n",
        "# Minimum number of samples required to split a node\n",
        "min_samples_split = [10]\n",
        "# Minimum number of samples required at each leaf node\n",
        "min_samples_leaf = [4]\n",
        "# Method of selecting samples for training each tree\n",
        "bootstrap = [True, False]\n",
        "# Create the random grid\n",
        "random_grid = {'n_estimators': n_estimators,\n",
        "               'max_features': max_features,\n",
        "               'max_depth': max_depth,\n",
        "               'min_samples_split': min_samples_split,\n",
        "               'min_samples_leaf': min_samples_leaf,\n",
        "               'bootstrap': bootstrap}\n",
        "print(random_grid)"
      ],
      "metadata": {
        "colab": {
          "base_uri": "https://localhost:8080/"
        },
        "id": "C4pO-BvdkOUk",
        "outputId": "c7abdf4d-afac-4204-b296-84c1644e7f4c"
      },
      "execution_count": 25,
      "outputs": [
        {
          "output_type": "stream",
          "name": "stdout",
          "text": [
            "{'n_estimators': [200, 650, 1100, 1550, 2000], 'max_features': ['auto', 'sqrt'], 'max_depth': [10, 43, 76, 110, None], 'min_samples_split': [10], 'min_samples_leaf': [4], 'bootstrap': [True, False]}\n"
          ]
        }
      ]
    },
    {
      "cell_type": "code",
      "source": [
        "# Use the random grid to search for best hyperparameters\n",
        "# First create the base model to tune\n",
        "rf_opt = RandomForestRegressor()\n",
        "# Random search of parameters, using 3 fold cross validation, \n",
        "# search across 100 different combinations, and use all available cores\n",
        "rf_random = RandomizedSearchCV(estimator = rf_opt, param_distributions = random_grid, n_iter = 100, cv = 3, verbose=2, random_state=42, n_jobs = -1)\n",
        "# Fit the random search model\n",
        "rf_random.fit(X_train, y_train)"
      ],
      "metadata": {
        "colab": {
          "base_uri": "https://localhost:8080/"
        },
        "id": "gqPxC9QMlYYP",
        "outputId": "3f33e5f4-b555-4099-c6b8-1d9b9215bd75"
      },
      "execution_count": null,
      "outputs": [
        {
          "metadata": {
            "tags": null
          },
          "name": "stdout",
          "output_type": "stream",
          "text": [
            "Fitting 3 folds for each of 100 candidates, totalling 300 fits\n"
          ]
        },
        {
          "output_type": "stream",
          "name": "stderr",
          "text": [
            "/usr/local/lib/python3.7/dist-packages/joblib/externals/loky/process_executor.py:705: UserWarning: A worker stopped while some jobs were given to the executor. This can be caused by a too short worker timeout or by a memory leak.\n",
            "  \"timeout or by a memory leak.\", UserWarning\n"
          ]
        }
      ]
    },
    {
      "cell_type": "code",
      "source": [
        "rf_random.best_params_"
      ],
      "metadata": {
        "colab": {
          "base_uri": "https://localhost:8080/",
          "height": 166
        },
        "id": "TfufMbCZzKLV",
        "outputId": "f35ec7f5-de7a-4652-cdbb-1cfc2c1bc254"
      },
      "execution_count": 1,
      "outputs": [
        {
          "output_type": "error",
          "ename": "NameError",
          "evalue": "ignored",
          "traceback": [
            "\u001b[0;31m---------------------------------------------------------------------------\u001b[0m",
            "\u001b[0;31mNameError\u001b[0m                                 Traceback (most recent call last)",
            "\u001b[0;32m<ipython-input-1-ea266b0743c6>\u001b[0m in \u001b[0;36m<module>\u001b[0;34m()\u001b[0m\n\u001b[0;32m----> 1\u001b[0;31m \u001b[0mrf_random\u001b[0m\u001b[0;34m.\u001b[0m\u001b[0mbest_params_\u001b[0m\u001b[0;34m\u001b[0m\u001b[0;34m\u001b[0m\u001b[0m\n\u001b[0m",
            "\u001b[0;31mNameError\u001b[0m: name 'rf_random' is not defined"
          ]
        }
      ]
    },
    {
      "cell_type": "code",
      "source": [
        "# Evaluar el modelo optimizado vs modelo base\n",
        "\n",
        "def evaluate(model, test_features, test_labels):\n",
        "    predictions = model.predict(test_features)\n",
        "    errors = abs(predictions - test_labels)\n",
        "    mape = 100 * np.mean(errors / test_labels)\n",
        "    accuracy = 100 - mape\n",
        "    print('Model Performance')\n",
        "    print(('MAPE:', round(100*mape, 2))\n",
        "    print('Accuracy = {:0.2f}%.'.format(accuracy))\n",
        "    \n",
        "    return mape\n",
        "\n",
        "base_accuracy = evaluate(rf0, X_test, y_test)\n",
        "\n",
        "best_random = rf_random.best_estimator_\n",
        "random_accuracy = evaluate(best_random, X_test, y_test)\n",
        "\n",
        "print('Improvement of {:0.2f}%.'.format( 100 * (random_accuracy - base_accuracy) / base_accuracy))"
      ],
      "metadata": {
        "id": "XbsiAnV512PM"
      },
      "execution_count": null,
      "outputs": []
    },
    {
      "cell_type": "code",
      "source": [
        "preds_opt = best_random.predict(X_test)\n",
        "# Calculate the absolute percentage errors\n",
        "MAPE_opt = MAPE(y_test, preds_opt)\n",
        "# Print out the mean absolute percentageerror (mape)\n",
        "print('MAPE_opt:', round(100*MAPE_opt, 2))"
      ],
      "metadata": {
        "id": "kevTc_M47RPL"
      },
      "execution_count": null,
      "outputs": []
    },
    {
      "cell_type": "markdown",
      "source": [
        "**Cargamos el data final y predecimos**"
      ],
      "metadata": {
        "id": "_pEIkHMM78q_"
      }
    },
    {
      "cell_type": "code",
      "source": [
        "url='https://drive.google.com/file/d/1sMkorQLOmf2cNGRwXkQLKeciGSUpL_ez/view?usp=sharing'\n",
        "url='https://drive.google.com/uc?id=' + url.split('/')[-2]\n",
        "df_final = pd.read_csv(url)\n",
        "\n",
        "df_final.head()"
      ],
      "metadata": {
        "id": "h6m7XceWQITM"
      },
      "execution_count": null,
      "outputs": []
    },
    {
      "cell_type": "code",
      "source": [
        "df_final = transfromar_DataFrame(df_final)"
      ],
      "metadata": {
        "id": "m1DZoRB8VmAO"
      },
      "execution_count": null,
      "outputs": []
    },
    {
      "cell_type": "code",
      "source": [
        "preds_datathon2 = best_random.predict(df_final)"
      ],
      "metadata": {
        "id": "a4amkxAAWYOQ"
      },
      "execution_count": null,
      "outputs": []
    },
    {
      "cell_type": "code",
      "source": [
        "pd.DataFrame(preds_datathon2).to_csv('predicciones2.csv') "
      ],
      "metadata": {
        "id": "l_y5kAzbWeTO"
      },
      "execution_count": null,
      "outputs": []
    }
  ]
}