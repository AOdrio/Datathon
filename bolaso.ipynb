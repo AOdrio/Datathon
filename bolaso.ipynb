{
  "nbformat": 4,
  "nbformat_minor": 0,
  "metadata": {
    "colab": {
      "name": "Untitled2.ipynb",
      "provenance": [],
      "mount_file_id": "https://github.com/AOdrio/Datathon/blob/main/Prueba%20github.ipynb",
      "authorship_tag": "ABX9TyPftsbprKe+matwQ9lwf0W2",
      "include_colab_link": true
    },
    "kernelspec": {
      "name": "python3",
      "display_name": "Python 3"
    },
    "language_info": {
      "name": "python"
    },
    "accelerator": "GPU"
  },
  "cells": [
    {
      "cell_type": "markdown",
      "metadata": {
        "id": "view-in-github",
        "colab_type": "text"
      },
      "source": [
        "<a href=\"https://colab.research.google.com/github/AOdrio/Datathon/blob/main/bolaso.ipynb\" target=\"_parent\"><img src=\"https://colab.research.google.com/assets/colab-badge.svg\" alt=\"Open In Colab\"/></a>"
      ]
    },
    {
      "cell_type": "code",
      "source": [
        "import pandas as pd\n",
        "import numpy as np\n",
        "\n",
        "import xgboost as xgb\n",
        "from matplotlib import pyplot as plt\n",
        "import seaborn as sns \n",
        "\n",
        "from sklearn.model_selection import train_test_split\n",
        "from sklearn.metrics import mean_absolute_error\n",
        "from sklearn.pipeline import Pipeline\n",
        "from sklearn.preprocessing import StandardScaler, OneHotEncoder\n",
        "from sklearn.metrics import mean_absolute_percentage_error as MAPE\n",
        "from sklearn.ensemble import RandomForestRegressor\n",
        "from sklearn.linear_model import LinearRegression as LR\n",
        "from sklearn.neighbors import KNeighborsRegressor as KNN\n",
        "from sklearn.preprocessing import QuantileTransformer\n",
        "from sklearn.impute import SimpleImputer\n",
        "from sklearn.compose import ColumnTransformer\n",
        "\n",
        "import warnings\n",
        "warnings.filterwarnings('ignore')\n",
        "\n",
        "SEED = 42"
      ],
      "metadata": {
        "id": "qilgKjKQHzSm"
      },
      "execution_count": 201,
      "outputs": []
    },
    {
      "cell_type": "markdown",
      "source": [
        ""
      ],
      "metadata": {
        "id": "N97V-xl6gCF7"
      }
    },
    {
      "cell_type": "code",
      "execution_count": 2,
      "metadata": {
        "id": "rvJX5DZi17KG"
      },
      "outputs": [],
      "source": [
        "url='https://drive.google.com/file/d/1KH1fB83JDAWcMRCHKFf9SmcGH7MQkupE/view?usp=sharing'\n",
        "url='https://drive.google.com/uc?id=' + url.split('/')[-2]\n",
        "df_original = pd.read_csv(url)"
      ]
    },
    {
      "cell_type": "code",
      "source": [
        "df_original.describe()"
      ],
      "metadata": {
        "id": "c7On5-UL28mJ"
      },
      "execution_count": null,
      "outputs": []
    },
    {
      "cell_type": "code",
      "source": [
        "ax = df_original.hist(bins=20, figsize=(15, 10))"
      ],
      "metadata": {
        "id": "_DfhI7PVgrKv"
      },
      "execution_count": null,
      "outputs": []
    },
    {
      "cell_type": "markdown",
      "source": [
        "se remplazan los null por la media de la columna"
      ],
      "metadata": {
        "id": "ldT9CaJNvWYF"
      }
    },
    {
      "cell_type": "code",
      "source": [
        "edad_media = df_original['edad'].mean()\n",
        "edad_media"
      ],
      "metadata": {
        "id": "fUaiCz0FvlN8",
        "outputId": "8fb6333c-020b-4146-e5c8-5df23520b0c5",
        "colab": {
          "base_uri": "https://localhost:8080/"
        }
      },
      "execution_count": 131,
      "outputs": [
        {
          "output_type": "execute_result",
          "data": {
            "text/plain": [
              "45.02159532392986"
            ]
          },
          "metadata": {},
          "execution_count": 131
        }
      ]
    },
    {
      "cell_type": "code",
      "source": [
        "def transfromar_DataFrame (df):\n",
        "  df = df.copy()\n",
        "  df = df.drop(df.columns[0],axis=1)\n",
        "  #Remplazar nulls de la edad con la media de la columna\n",
        "  df['edad'] = df['edad'].fillna(edad_media, inplace=False)\n",
        "\n",
        "  #Transformar categóricas en numéricas\n",
        "  df['peorcalificacionBCU'] = (df['peorcalificacionBCU'].\n",
        "                              str.replace('5','6').\n",
        "                              str.replace('4','5').\n",
        "                              str.replace('3','4').\n",
        "                              str.replace('2B','3').\n",
        "                              str.replace('2A','2').\n",
        "                              str.replace('1C','1').\n",
        "                              str.replace('1A','0'))\n",
        "  df['peorcalificacionBCU'] = pd.to_numeric(df['peorcalificacionBCU'], downcast='integer')\n",
        "  return df"
      ],
      "metadata": {
        "id": "CalPIb9cSmqE"
      },
      "execution_count": 237,
      "outputs": []
    },
    {
      "cell_type": "code",
      "source": [
        "df = transfromar_DataFrame(df_original)\n"
      ],
      "metadata": {
        "id": "eDjtKf9jFloF"
      },
      "execution_count": 238,
      "outputs": []
    },
    {
      "cell_type": "code",
      "source": [
        "df.head()"
      ],
      "metadata": {
        "id": "2gAniaDwzihI"
      },
      "execution_count": null,
      "outputs": []
    },
    {
      "cell_type": "code",
      "source": [
        "y = df.pop(\"ingreso\")\n",
        "X = df.copy()\n",
        "\n",
        "X_train, X_test, y_train, y_test = train_test_split(X, y, test_size=0.2, random_state=SEED)\n"
      ],
      "metadata": {
        "id": "4qqM2frRHcZL"
      },
      "execution_count": 239,
      "outputs": []
    },
    {
      "cell_type": "code",
      "source": [
        "# La linea base es el mediana de los ingresos\n",
        "baseline_preds = pd.DataFrame(y_train.copy())\n",
        "mediana = y_train.median()\n",
        "baseline_preds['mediana'] = mediana\n",
        "# Baseline errors, and display average baseline error\n",
        "baseline_MAPE = MAPE(y_train,baseline_preds['mediana'])\n",
        "print('MAPE linea base: ', round(baseline_MAPE *100, 2))\n",
        "print('Mediana de ingreso: ', round(mediana))"
      ],
      "metadata": {
        "id": "cMTuEvhtAeId",
        "outputId": "375ba9c9-822f-4341-f645-9e4dba55f3fc",
        "colab": {
          "base_uri": "https://localhost:8080/"
        }
      },
      "execution_count": 108,
      "outputs": [
        {
          "output_type": "stream",
          "name": "stdout",
          "text": [
            "MAPE linea base:  42.18\n",
            "Mediana de ingreso:  53665\n"
          ]
        }
      ]
    },
    {
      "cell_type": "code",
      "source": [
        "rf = RandomForestRegressor(n_estimators = 500, random_state = SEED)"
      ],
      "metadata": {
        "id": "3tGLBp1T_Gcx"
      },
      "execution_count": 70,
      "outputs": []
    },
    {
      "cell_type": "code",
      "source": [
        "rf = RandomForestRegressor(n_estimators = 500, random_state = SEED)\n",
        "rf.fit(X_train,y_train)\n",
        "preds_rf = rf.predict(X_test)\n",
        "MAPE_rf = MAPE(y_test, preds_rf)\n",
        "print('MAPE_rf:', round(100*MAPE_rf, 2))"
      ],
      "metadata": {
        "id": "HmLJBF_sHVNK",
        "outputId": "2074afeb-484f-41d3-882c-5823be80a7c4",
        "colab": {
          "base_uri": "https://localhost:8080/"
        }
      },
      "execution_count": 113,
      "outputs": [
        {
          "output_type": "stream",
          "name": "stdout",
          "text": [
            "MAPE_rf: 12.93\n"
          ]
        }
      ]
    },
    {
      "cell_type": "code",
      "source": [
        "pipe_rf = Pipeline([('scaler',StandardScaler()),('model',rf)])\n",
        "pipe_rf.fit(X_train,y_train)\n",
        "preds_rf = pipe_rf.predict(X_test)\n",
        "MAPE_rf = MAPE(y_test, preds_rf)\n",
        "print('MAPE_rf:', round(100*MAPE_rf, 2))"
      ],
      "metadata": {
        "id": "LrD3t9LF_Es4",
        "outputId": "706b472c-8097-4d1b-b8a1-7e0194bac769",
        "colab": {
          "base_uri": "https://localhost:8080/"
        }
      },
      "execution_count": 71,
      "outputs": [
        {
          "output_type": "stream",
          "name": "stdout",
          "text": [
            "MAPE_rf: 12.94\n"
          ]
        }
      ]
    },
    {
      "cell_type": "code",
      "source": [
        "pipe_rf = Pipeline([('t',QuantileTransformer(n_quantiles=100, output_distribution='normal')),('model',rf)])\n",
        "pipe_rf.fit(X_train,y_train)\n",
        "preds_rf = pipe_rf.predict(X_test)\n",
        "MAPE_rf = MAPE(y_test, preds_rf)\n",
        "print('MAPE_rf:', round(100*MAPE_rf, 2))"
      ],
      "metadata": {
        "id": "_WqtHTmc_tww",
        "outputId": "012c1aa8-56ff-42d9-eeda-d3b7e2bac0ab",
        "colab": {
          "base_uri": "https://localhost:8080/"
        }
      },
      "execution_count": 72,
      "outputs": [
        {
          "output_type": "stream",
          "name": "stdout",
          "text": [
            "MAPE_rf: 12.94\n"
          ]
        }
      ]
    },
    {
      "cell_type": "code",
      "source": [
        "pipe_rf = Pipeline([('t',QuantileTransformer(n_quantiles=100, output_distribution='uniform')),('model',rf)])\n",
        "pipe_rf.fit(X_train,y_train)\n",
        "preds_rf = pipe_rf.predict(X_test)\n",
        "MAPE_rf = MAPE(y_test, preds_rf)\n",
        "print('MAPE_rf:', round(100*MAPE_rf, 2))"
      ],
      "metadata": {
        "id": "hCAzRwcLDHUA",
        "outputId": "1e65ca3b-1592-40ae-9762-4c7dfd96a521",
        "colab": {
          "base_uri": "https://localhost:8080/"
        }
      },
      "execution_count": 73,
      "outputs": [
        {
          "output_type": "stream",
          "name": "stdout",
          "text": [
            "MAPE_rf: 12.95\n"
          ]
        }
      ]
    },
    {
      "cell_type": "code",
      "source": [
        "# Use the forest's predict method on the test data\n",
        "preds_rf = rf.predict(X_test)\n",
        "# Calculate the absolute percentage errors\n",
        "MAPE_rf = MAPE(y_test, preds_rf)\n",
        "# Print out the mean absolute percentageerror (mape)\n",
        "print('MAPE_rf:', round(100*MAPE_rf, 2))"
      ],
      "metadata": {
        "id": "OgYKLXTJLqT6"
      },
      "execution_count": null,
      "outputs": []
    },
    {
      "cell_type": "code",
      "source": [
        "model_xgb = xgb.XGBRegressor(\n",
        "            objective = \"reg:squarederror\",\n",
        "            eval_metric = \"mae\",\n",
        "            tree_method = \"gpu_hist\",\n",
        "            booster = \"gbtree\",\n",
        "            random_state = SEED,\n",
        "            n_estimators = 500,\n",
        "            learning_rate = 0.01,\n",
        "            max_depth = 11,\n",
        "            min_child_weight = 7,\n",
        "            subsample = 0.9,\n",
        "            colsample_bytree = 1,\n",
        "            colsample_bynode = 0.7,\n",
        "            colsample_bylevel = 0.8,\n",
        "            verbosity = 0,\n",
        "            n_jobs = -1,\n",
        "            )"
      ],
      "metadata": {
        "id": "qCj3__Mo69_y"
      },
      "execution_count": 240,
      "outputs": []
    },
    {
      "cell_type": "code",
      "source": [
        "model_xgb.fit(X_train,y_train)\n",
        "preds_xgb = model_xgb.predict(X_test)\n",
        "MAPE_xgb = MAPE(y_test, preds_xgb)\n",
        "print('MAPE_xgb:', round(100*MAPE_xgb, 2))"
      ],
      "metadata": {
        "id": "dpxNTgWX-qPF",
        "outputId": "d5d8d727-7fff-4a75-de2e-d43cf5a94632",
        "colab": {
          "base_uri": "https://localhost:8080/"
        }
      },
      "execution_count": 241,
      "outputs": [
        {
          "output_type": "stream",
          "name": "stdout",
          "text": [
            "MAPE_xgb: 12.49\n"
          ]
        }
      ]
    },
    {
      "cell_type": "code",
      "source": [
        "pipe_xgb = Pipeline([('scaler',StandardScaler()),('model',model_xgb)])\n",
        "pipe_xgb.fit(X_train,y_train)\n",
        "preds_xgb = pipe_xgb.predict(X_test)\n",
        "MAPE_xgb = MAPE(y_test, preds_xgb)\n",
        "print('MAPE_xgb:', round(100*MAPE_xgb, 2))"
      ],
      "metadata": {
        "id": "I07tYuxWZYvj",
        "outputId": "b599700f-a45c-4ece-d049-504e91f2c596",
        "colab": {
          "base_uri": "https://localhost:8080/"
        }
      },
      "execution_count": 189,
      "outputs": [
        {
          "output_type": "stream",
          "name": "stdout",
          "text": [
            "MAPE_xgb: 12.49\n"
          ]
        }
      ]
    },
    {
      "cell_type": "code",
      "source": [
        "df1 = df_original.drop(df_original.columns[0],axis=1)"
      ],
      "metadata": {
        "id": "H0JCjP8ryqbg"
      },
      "execution_count": 228,
      "outputs": []
    },
    {
      "cell_type": "code",
      "source": [
        "y = df1.pop(\"ingreso\")\n",
        "X = df1.copy()\n",
        "\n",
        "X_train, X_test, y_train, y_test = train_test_split(X, y, test_size=0.2, random_state=SEED)"
      ],
      "metadata": {
        "id": "TtAqv5SVzYzH"
      },
      "execution_count": 229,
      "outputs": []
    },
    {
      "cell_type": "code",
      "source": [
        "numeric_features = list(df1.columns[df1.columns!= 'peorcalificacionBCU'])\n",
        "numeric_transformer = Pipeline(steps=[(\"imputer\", SimpleImputer(strategy=\"median\"))])\n",
        "\n",
        "categorical_features = ['peorcalificacionBCU']\n",
        "categorical_transformer = OneHotEncoder(handle_unknown=\"ignore\")\n",
        "\n",
        "preprocessor = ColumnTransformer(\n",
        "    transformers=[\n",
        "        (\"num\", numeric_transformer, numeric_features),\n",
        "        (\"cat\", categorical_transformer, categorical_features),\n",
        "    ]\n",
        ")\n",
        "\n",
        "# Append classifier to preprocessing pipeline.\n",
        "# Now we have a full prediction pipeline.\n",
        "pipe_xgb2 = Pipeline( steps=[(\"preprocessor\", preprocessor), (\"modelo\", model_xgb)])\n",
        "\n",
        "pipe_xgb2.fit(X_train, y_train)"
      ],
      "metadata": {
        "id": "4_-EhMkFvohh",
        "outputId": "a36d5691-83ed-4e81-eb6c-b9bda204ce4c",
        "colab": {
          "base_uri": "https://localhost:8080/"
        }
      },
      "execution_count": 235,
      "outputs": [
        {
          "output_type": "execute_result",
          "data": {
            "text/plain": [
              "Pipeline(steps=[('preprocessor',\n",
              "                 ColumnTransformer(transformers=[('num',\n",
              "                                                  Pipeline(steps=[('imputer',\n",
              "                                                                   SimpleImputer(strategy='median'))]),\n",
              "                                                  ['vigente', 'vigenteAvg3M',\n",
              "                                                   'vencido', 'vencidoAvg3M',\n",
              "                                                   'avgcontingenciaU1M',\n",
              "                                                   'avgcontingenciaU3M',\n",
              "                                                   'sumcontingenciaU1M',\n",
              "                                                   'sumcontingenciaU3M',\n",
              "                                                   'maxcontingenciaU1M',\n",
              "                                                   'maxcontingenciaU3M',\n",
              "                                                   'numcontingenciaU1M',\n",
              "                                                   'garantiacomputabl...\n",
              "                                                   'numeromesesreportados']),\n",
              "                                                 ('cat',\n",
              "                                                  OneHotEncoder(handle_unknown='ignore'),\n",
              "                                                  ['peorcalificacionBCU'])])),\n",
              "                ('modelo',\n",
              "                 XGBRegressor(colsample_bylevel=0.8, colsample_bynode=0.7,\n",
              "                              eval_metric='mae', learning_rate=0.01,\n",
              "                              max_depth=11, min_child_weight=7,\n",
              "                              n_estimators=500, n_jobs=-1,\n",
              "                              objective='reg:squarederror', random_state=42,\n",
              "                              subsample=0.9, tree_method='gpu_hist',\n",
              "                              verbosity=0))])"
            ]
          },
          "metadata": {},
          "execution_count": 235
        }
      ]
    },
    {
      "cell_type": "code",
      "source": [
        "preds_xgb2 = pipe_xgb2.predict(X_test)\n",
        "MAPE_xgb2 = MAPE(y_test, preds_xgb2)\n",
        "print('MAPE_xgb:', round(100*MAPE_xgb2, 2))"
      ],
      "metadata": {
        "id": "BtvVcENVzkpT",
        "outputId": "ddcef366-dd72-41f8-b756-48b710bc5dcb",
        "colab": {
          "base_uri": "https://localhost:8080/"
        }
      },
      "execution_count": 236,
      "outputs": [
        {
          "output_type": "stream",
          "name": "stdout",
          "text": [
            "MAPE_xgb: 12.5\n"
          ]
        }
      ]
    },
    {
      "cell_type": "code",
      "source": [
        "sorted_idx = model_xgb.feature_importances_.argsort()\n",
        "plt.barh(list(X_train.columns[sorted_idx]), model_xgb.feature_importances_[sorted_idx])\n",
        "plt.xlabel(\"Xgboost Feature Importance\")"
      ],
      "metadata": {
        "id": "-RMC4rn-L1Hh",
        "outputId": "7ae490af-6b00-4aa2-d244-b7090c180b78",
        "colab": {
          "base_uri": "https://localhost:8080/",
          "height": 297
        }
      },
      "execution_count": 242,
      "outputs": [
        {
          "output_type": "execute_result",
          "data": {
            "text/plain": [
              "Text(0.5, 0, 'Xgboost Feature Importance')"
            ]
          },
          "metadata": {},
          "execution_count": 242
        },
        {
          "output_type": "display_data",
          "data": {
            "text/plain": [
              "<Figure size 432x288 with 1 Axes>"
            ],
            "image/png": "[encoded data removed]"
          },
          "metadata": {
            "needs_background": "light"
          }
        }
      ]
    },
    {
      "cell_type": "markdown",
      "source": [
        "Se hace la prueba de una regresión lineal con las columnas más influyentes"
      ],
      "metadata": {
        "id": "B64CET9xBsjI"
      }
    },
    {
      "cell_type": "code",
      "source": [
        "X_train_LR = X_train[['maxcontingenciaU3M','garantiacomputable','numerofinancieras','edad','vencido','vigente']]\n",
        "X_test_LR = X_test[['maxcontingenciaU3M','garantiacomputable','numerofinancieras','edad','vencido','vigente']]"
      ],
      "metadata": {
        "id": "vDJu4lKU9YRq"
      },
      "execution_count": 135,
      "outputs": []
    },
    {
      "cell_type": "code",
      "source": [
        "pipe_LR = Pipeline([('scaler',StandardScaler()),('model',LR())])\n",
        "pipe_LR.fit(X_train_LR,y_train)\n",
        "preds_LR = pipe_LR.predict(X_test_LR)\n",
        "MAPE_LR = MAPE(y_test, preds_LR)\n",
        "print('MAPE_LR:', round(100*MAPE_LR, 2))"
      ],
      "metadata": {
        "id": "ePdssgh367NV",
        "outputId": "097ef94f-a337-4894-ae27-9d15aaba200a",
        "colab": {
          "base_uri": "https://localhost:8080/"
        }
      },
      "execution_count": 136,
      "outputs": [
        {
          "output_type": "stream",
          "name": "stdout",
          "text": [
            "MAPE_LR: 19.54\n"
          ]
        }
      ]
    },
    {
      "cell_type": "markdown",
      "source": [
        "lo mismo con knn"
      ],
      "metadata": {
        "id": "f9zfZhWpCKRB"
      }
    },
    {
      "cell_type": "code",
      "source": [
        "pipe_KNN = Pipeline([('scaler',StandardScaler()),('model',KNN(n_neighbors=50))])\n",
        "pipe_KNN.fit(X_train_LR,y_train)\n",
        "preds_KNN = pipe_KNN.predict(X_test_LR)\n",
        "MAPE_KNN = MAPE(y_test, preds_KNN)\n",
        "print('MAPE_KNN:', round(100*MAPE_KNN, 2))"
      ],
      "metadata": {
        "id": "x8MNw4AECNUs",
        "outputId": "79089fb0-caaf-4293-bacb-73a0ffa991a3",
        "colab": {
          "base_uri": "https://localhost:8080/"
        }
      },
      "execution_count": 137,
      "outputs": [
        {
          "output_type": "stream",
          "name": "stdout",
          "text": [
            "MAPE_KNN: 15.58\n"
          ]
        }
      ]
    },
    {
      "cell_type": "code",
      "source": [
        "params = {\n",
        "    # Parameters that we are going to tune.\n",
        "    'max_depth':6,\n",
        "    'min_child_weight': 1,\n",
        "    'eta':.3,\n",
        "    'subsample': 1,\n",
        "    'colsample_bytree': 1,\n",
        "    # Other parameters\n",
        "    'objective':'reg:linear',\n",
        "    'eval_metric':'mae',\n",
        "    'tree_method' : 'gpu_hist',\n",
        "}"
      ],
      "metadata": {
        "id": "ffb4oqm9KMih"
      },
      "execution_count": 176,
      "outputs": []
    },
    {
      "cell_type": "code",
      "source": [
        "model = xgb.train(\n",
        "    params,\n",
        "    dtrain,\n",
        "    num_boost_round=999,\n",
        "    evals=[(dtest, \"Test\")],\n",
        "    early_stopping_rounds=10\n",
        ")"
      ],
      "metadata": {
        "id": "uDsSJ7AIKoyz",
        "outputId": "b8074c6f-0dfc-4152-f216-697b15664dea",
        "colab": {
          "base_uri": "https://localhost:8080/"
        }
      },
      "execution_count": 163,
      "outputs": [
        {
          "output_type": "stream",
          "name": "stdout",
          "text": [
            "[01:58:36] WARNING: /workspace/src/objective/regression_obj.cu:152: reg:linear is now deprecated in favor of reg:squarederror.\n",
            "[0]\tTest-mae:47179.6\n",
            "Will train until Test-mae hasn't improved in 10 rounds.\n",
            "[1]\tTest-mae:33009.5\n",
            "[2]\tTest-mae:23499.8\n",
            "[3]\tTest-mae:17619.1\n",
            "[4]\tTest-mae:14238.5\n",
            "[5]\tTest-mae:12490.9\n",
            "[6]\tTest-mae:11602\n",
            "[7]\tTest-mae:11150.9\n",
            "[8]\tTest-mae:10971.3\n",
            "[9]\tTest-mae:10836.4\n",
            "[10]\tTest-mae:10703.3\n",
            "[11]\tTest-mae:10600.3\n",
            "[12]\tTest-mae:10571.4\n",
            "[13]\tTest-mae:10530.6\n",
            "[14]\tTest-mae:10490.4\n",
            "[15]\tTest-mae:10409.7\n",
            "[16]\tTest-mae:10361.5\n",
            "[17]\tTest-mae:10350\n",
            "[18]\tTest-mae:10303.9\n",
            "[19]\tTest-mae:10264.7\n",
            "[20]\tTest-mae:10233.4\n",
            "[21]\tTest-mae:10225.6\n",
            "[22]\tTest-mae:10208.1\n",
            "[23]\tTest-mae:10198.7\n",
            "[24]\tTest-mae:10166.4\n",
            "[25]\tTest-mae:10152.1\n",
            "[26]\tTest-mae:10145.2\n",
            "[27]\tTest-mae:10130.8\n",
            "[28]\tTest-mae:10140\n",
            "[29]\tTest-mae:10131.7\n",
            "[30]\tTest-mae:10143.2\n",
            "[31]\tTest-mae:10139.5\n",
            "[32]\tTest-mae:10150.5\n",
            "[33]\tTest-mae:10156.3\n",
            "[34]\tTest-mae:10110.3\n",
            "[35]\tTest-mae:10113.7\n",
            "[36]\tTest-mae:10109.5\n",
            "[37]\tTest-mae:10077.8\n",
            "[38]\tTest-mae:10049.2\n",
            "[39]\tTest-mae:10051.7\n",
            "[40]\tTest-mae:10045.5\n",
            "[41]\tTest-mae:10054.4\n",
            "[42]\tTest-mae:10059.6\n",
            "[43]\tTest-mae:10039.3\n",
            "[44]\tTest-mae:10050.8\n",
            "[45]\tTest-mae:10066\n",
            "[46]\tTest-mae:10064.7\n",
            "[47]\tTest-mae:10048.4\n",
            "[48]\tTest-mae:10031.1\n",
            "[49]\tTest-mae:10041.7\n",
            "[50]\tTest-mae:10037.9\n",
            "[51]\tTest-mae:10042.2\n",
            "[52]\tTest-mae:10047.8\n",
            "[53]\tTest-mae:10045.7\n",
            "[54]\tTest-mae:10043.5\n",
            "[55]\tTest-mae:10050.6\n",
            "[56]\tTest-mae:10053.5\n",
            "[57]\tTest-mae:10058.3\n",
            "[58]\tTest-mae:10065.1\n",
            "Stopping. Best iteration:\n",
            "[48]\tTest-mae:10031.1\n",
            "\n"
          ]
        }
      ]
    },
    {
      "cell_type": "code",
      "source": [
        "print(\"Best MAE: {:.2f} with {} rounds\".format(\n",
        "                 model.best_score,\n",
        "                 model.best_iteration+1))"
      ],
      "metadata": {
        "id": "nkephrA7Kvx9",
        "outputId": "2b21f78d-fa1b-482d-f5b0-3363b5236228",
        "colab": {
          "base_uri": "https://localhost:8080/"
        }
      },
      "execution_count": null,
      "outputs": [
        {
          "output_type": "stream",
          "name": "stdout",
          "text": [
            "Best MAE: 10029.66 with 49 rounds\n"
          ]
        }
      ]
    },
    {
      "cell_type": "code",
      "source": [
        "gridsearch_params = [\n",
        "    (max_depth, min_child_weight)\n",
        "    for max_depth in range(9,12)\n",
        "    for min_child_weight in range(5,8)\n",
        "]"
      ],
      "metadata": {
        "id": "yrHNeVRZQs8M"
      },
      "execution_count": null,
      "outputs": []
    },
    {
      "cell_type": "code",
      "source": [
        "# Define initial best params and MAE\n",
        "min_mae = float(\"Inf\")\n",
        "best_params = None\n",
        "for max_depth, min_child_weight in gridsearch_params:\n",
        "    print(\"CV with max_depth={}, min_child_weight={}\".format(\n",
        "                             max_depth,\n",
        "                             min_child_weight))    \n",
        "    # Update our parameters\n",
        "    params['max_depth'] = max_depth\n",
        "    params['min_child_weight'] = min_child_weight    \n",
        "    # Run CV\n",
        "    cv_results = xgb.cv(\n",
        "        params,\n",
        "        dtrain,\n",
        "        num_boost_round=999,\n",
        "        seed=SEED,\n",
        "        nfold=5,\n",
        "        metrics={'mae'},\n",
        "        early_stopping_rounds=10\n",
        "    )    \n",
        "    # Update best MAE\n",
        "    mean_mae = cv_results['test-mae-mean'].min()\n",
        "    boost_rounds = cv_results['test-mae-mean'].argmin()\n",
        "    print(\"\\tMAE {} for {} rounds\".format(mean_mae, boost_rounds))\n",
        "    if mean_mae < min_mae:\n",
        "        min_mae = mean_mae\n",
        "        best_params = (max_depth,min_child_weight)\n",
        "    \n",
        "print(\"Best params: {}, {}, MAE: {}\".format(best_params[0], best_params[1], min_mae))"
      ],
      "metadata": {
        "id": "qKnWO7VgSY4K"
      },
      "execution_count": null,
      "outputs": []
    },
    {
      "cell_type": "code",
      "source": [
        "params['max_depth'] = 9\n",
        "params['min_child_weight'] = 7"
      ],
      "metadata": {
        "id": "2mAOKgZATgIF"
      },
      "execution_count": 177,
      "outputs": []
    },
    {
      "cell_type": "code",
      "source": [
        "gridsearch_params = [\n",
        "    (subsample, colsample)\n",
        "    for subsample in [i/10. for i in range(7,11)]\n",
        "    for colsample in [i/10. for i in range(7,11)]\n",
        "]"
      ],
      "metadata": {
        "id": "Fzcm1ZqtTjPz"
      },
      "execution_count": null,
      "outputs": []
    },
    {
      "cell_type": "code",
      "source": [
        "min_mae = float(\"Inf\")\n",
        "best_params = None\n",
        "# We start by the largest values and go down to the smallest\n",
        "for subsample, colsample in reversed(gridsearch_params):\n",
        "    print(\"CV with subsample={}, colsample={}\".format(\n",
        "                             subsample,\n",
        "                             colsample))    \n",
        "    # We update our parameters\n",
        "    params['subsample'] = subsample\n",
        "    params['colsample_bytree'] = colsample    \n",
        "    # Run CV\n",
        "    cv_results = xgb.cv(\n",
        "        params,\n",
        "        dtrain,\n",
        "        num_boost_round=999,\n",
        "        seed=SEED,\n",
        "        nfold=5,\n",
        "        metrics={'mae'},\n",
        "        early_stopping_rounds=10\n",
        "    )  \n",
        "    # Update best score\n",
        "    mean_mae = cv_results['test-mae-mean'].min()\n",
        "    boost_rounds = cv_results['test-mae-mean'].argmin()\n",
        "    print(\"\\tMAE {} for {} rounds\".format(mean_mae, boost_rounds))\n",
        "    if mean_mae < min_mae:\n",
        "        min_mae = mean_mae\n",
        "        best_params = (subsample,colsample)\n",
        "print(\"Best params: {}, {}, MAE: {}\".format(best_params[0], best_params[1], min_mae))"
      ],
      "metadata": {
        "id": "QHckbwT1UHD6"
      },
      "execution_count": null,
      "outputs": []
    },
    {
      "cell_type": "code",
      "source": [
        "params['subsample'] = 0.9\n",
        "params['colsample_bytree'] = 1"
      ],
      "metadata": {
        "id": "AfZmAk0MU1eX"
      },
      "execution_count": 178,
      "outputs": []
    },
    {
      "cell_type": "code",
      "source": [
        "\n",
        "# This can take some time…\n",
        "min_mae = float(\"Inf\")\n",
        "best_params = None\n",
        "for eta in [.3, .2, .1, .05, .01, .005]:\n",
        "    print(\"CV with eta={}\".format(eta))    \n",
        "    # We update our parameters\n",
        "    params['eta'] = eta    \n",
        "    # Run and time CV\n",
        "    cv_results = xgb.cv(\n",
        "            params,\n",
        "            dtrain,\n",
        "            num_boost_round=999,\n",
        "            seed=SEED,\n",
        "            nfold=5,\n",
        "            metrics=['mae'],\n",
        "            early_stopping_rounds=10\n",
        "          )    \n",
        "    # Update best score\n",
        "    mean_mae = cv_results['test-mae-mean'].min()\n",
        "    boost_rounds = cv_results['test-mae-mean'].argmin()\n",
        "    print(\"\\tMAE {} for {} rounds\\n\".format(mean_mae, boost_rounds))\n",
        "    if mean_mae < min_mae:\n",
        "        min_mae = mean_mae\n",
        "        best_params = eta\n",
        "print(\"Best params: {}, MAE: {}\".format(best_params, min_mae))"
      ],
      "metadata": {
        "id": "6c6bd3EiVAXP"
      },
      "execution_count": null,
      "outputs": []
    },
    {
      "cell_type": "code",
      "source": [
        "params['eta'] = 0.01"
      ],
      "metadata": {
        "id": "0T7T9z8fWfzQ"
      },
      "execution_count": 179,
      "outputs": []
    },
    {
      "cell_type": "code",
      "source": [
        "params"
      ],
      "metadata": {
        "id": "Gqmd1vnRWkCB",
        "outputId": "32e094a0-cb43-4ee7-9f2d-5ea986f1caff",
        "colab": {
          "base_uri": "https://localhost:8080/"
        }
      },
      "execution_count": null,
      "outputs": [
        {
          "output_type": "execute_result",
          "data": {
            "text/plain": [
              "{'colsample_bytree': 0.7,\n",
              " 'eta': 0.01,\n",
              " 'eval_metric': 'mae',\n",
              " 'max_depth': 9,\n",
              " 'min_child_weight': 7,\n",
              " 'objective': 'reg:linear',\n",
              " 'subsample': 0.7,\n",
              " 'tree_method': 'gpu_hist'}"
            ]
          },
          "metadata": {},
          "execution_count": 41
        }
      ]
    },
    {
      "cell_type": "code",
      "source": [
        "model = xgb.train(\n",
        "    params,\n",
        "    dtrain,\n",
        "    num_boost_round=999,\n",
        "    evals=[(dtest, \"Test\")],\n",
        "    early_stopping_rounds=10\n",
        ")"
      ],
      "metadata": {
        "id": "_Yjhl2hiXX3o",
        "outputId": "98326102-6e1c-41aa-c688-bd115c40baef",
        "colab": {
          "base_uri": "https://localhost:8080/"
        }
      },
      "execution_count": 180,
      "outputs": [
        {
          "output_type": "stream",
          "name": "stdout",
          "text": [
            "[02:12:39] WARNING: /workspace/src/objective/regression_obj.cu:152: reg:linear is now deprecated in favor of reg:squarederror.\n",
            "[0]\tTest-mae:66824\n",
            "Will train until Test-mae hasn't improved in 10 rounds.\n",
            "[1]\tTest-mae:66159.2\n",
            "[2]\tTest-mae:65502.5\n",
            "[3]\tTest-mae:64849.6\n",
            "[4]\tTest-mae:64205.4\n",
            "[5]\tTest-mae:63564.2\n",
            "[6]\tTest-mae:62931.6\n",
            "[7]\tTest-mae:62304.7\n",
            "[8]\tTest-mae:61684.8\n",
            "[9]\tTest-mae:61070.7\n",
            "[10]\tTest-mae:60463.6\n",
            "[11]\tTest-mae:59862.2\n",
            "[12]\tTest-mae:59263.6\n",
            "[13]\tTest-mae:58673.3\n",
            "[14]\tTest-mae:58089.2\n",
            "[15]\tTest-mae:57511.3\n",
            "[16]\tTest-mae:56939\n",
            "[17]\tTest-mae:56372.2\n",
            "[18]\tTest-mae:55810.1\n",
            "[19]\tTest-mae:55252.8\n",
            "[20]\tTest-mae:54702\n",
            "[21]\tTest-mae:54158.3\n",
            "[22]\tTest-mae:53619.9\n",
            "[23]\tTest-mae:53087.6\n",
            "[24]\tTest-mae:52559.2\n",
            "[25]\tTest-mae:52035.6\n",
            "[26]\tTest-mae:51517.3\n",
            "[27]\tTest-mae:51003.3\n",
            "[28]\tTest-mae:50495.9\n",
            "[29]\tTest-mae:49995\n",
            "[30]\tTest-mae:49497.6\n",
            "[31]\tTest-mae:49003.4\n",
            "[32]\tTest-mae:48517.4\n",
            "[33]\tTest-mae:48035\n",
            "[34]\tTest-mae:47558.6\n",
            "[35]\tTest-mae:47086.1\n",
            "[36]\tTest-mae:46615.9\n",
            "[37]\tTest-mae:46154.5\n",
            "[38]\tTest-mae:45696.6\n",
            "[39]\tTest-mae:45241.3\n",
            "[40]\tTest-mae:44791.6\n",
            "[41]\tTest-mae:44346.2\n",
            "[42]\tTest-mae:43904.3\n",
            "[43]\tTest-mae:43468\n",
            "[44]\tTest-mae:43035.1\n",
            "[45]\tTest-mae:42605.8\n",
            "[46]\tTest-mae:42183\n",
            "[47]\tTest-mae:41765\n",
            "[48]\tTest-mae:41351.4\n",
            "[49]\tTest-mae:40941.7\n",
            "[50]\tTest-mae:40535.8\n",
            "[51]\tTest-mae:40131\n",
            "[52]\tTest-mae:39735.1\n",
            "[53]\tTest-mae:39340.4\n",
            "[54]\tTest-mae:38948.4\n",
            "[55]\tTest-mae:38563.4\n",
            "[56]\tTest-mae:38179.5\n",
            "[57]\tTest-mae:37801.1\n",
            "[58]\tTest-mae:37424.8\n",
            "[59]\tTest-mae:37054.4\n",
            "[60]\tTest-mae:36688.2\n",
            "[61]\tTest-mae:36324.8\n",
            "[62]\tTest-mae:35964.1\n",
            "[63]\tTest-mae:35606.9\n",
            "[64]\tTest-mae:35255.3\n",
            "[65]\tTest-mae:34906\n",
            "[66]\tTest-mae:34560\n",
            "[67]\tTest-mae:34217.9\n",
            "[68]\tTest-mae:33882.4\n",
            "[69]\tTest-mae:33547.2\n",
            "[70]\tTest-mae:33218\n",
            "[71]\tTest-mae:32891.8\n",
            "[72]\tTest-mae:32569.2\n",
            "[73]\tTest-mae:32249.3\n",
            "[74]\tTest-mae:31930.2\n",
            "[75]\tTest-mae:31616.9\n",
            "[76]\tTest-mae:31308.6\n",
            "[77]\tTest-mae:31001.1\n",
            "[78]\tTest-mae:30697.2\n",
            "[79]\tTest-mae:30396.9\n",
            "[80]\tTest-mae:30102.1\n",
            "[81]\tTest-mae:29812.2\n",
            "[82]\tTest-mae:29520.7\n",
            "[83]\tTest-mae:29232.1\n",
            "[84]\tTest-mae:28945.8\n",
            "[85]\tTest-mae:28664.3\n",
            "[86]\tTest-mae:28385.8\n",
            "[87]\tTest-mae:28109.6\n",
            "[88]\tTest-mae:27837\n",
            "[89]\tTest-mae:27567\n",
            "[90]\tTest-mae:27301.1\n",
            "[91]\tTest-mae:27037.7\n",
            "[92]\tTest-mae:26777.7\n",
            "[93]\tTest-mae:26521\n",
            "[94]\tTest-mae:26267.4\n",
            "[95]\tTest-mae:26016.3\n",
            "[96]\tTest-mae:25767\n",
            "[97]\tTest-mae:25520.9\n",
            "[98]\tTest-mae:25278.9\n",
            "[99]\tTest-mae:25039.8\n",
            "[100]\tTest-mae:24806\n",
            "[101]\tTest-mae:24571\n",
            "[102]\tTest-mae:24340.5\n",
            "[103]\tTest-mae:24112\n",
            "[104]\tTest-mae:23885.7\n",
            "[105]\tTest-mae:23664.3\n",
            "[106]\tTest-mae:23445.1\n",
            "[107]\tTest-mae:23226.5\n",
            "[108]\tTest-mae:23012.6\n",
            "[109]\tTest-mae:22799.2\n",
            "[110]\tTest-mae:22589\n",
            "[111]\tTest-mae:22381.5\n",
            "[112]\tTest-mae:22179.1\n",
            "[113]\tTest-mae:21979.1\n",
            "[114]\tTest-mae:21780.8\n",
            "[115]\tTest-mae:21584.5\n",
            "[116]\tTest-mae:21391.6\n",
            "[117]\tTest-mae:21201.7\n",
            "[118]\tTest-mae:21011.7\n",
            "[119]\tTest-mae:20826.4\n",
            "[120]\tTest-mae:20641.5\n",
            "[121]\tTest-mae:20458.7\n",
            "[122]\tTest-mae:20281\n",
            "[123]\tTest-mae:20104.2\n",
            "[124]\tTest-mae:19930.4\n",
            "[125]\tTest-mae:19760.4\n",
            "[126]\tTest-mae:19591.1\n",
            "[127]\tTest-mae:19424.6\n",
            "[128]\tTest-mae:19259.4\n",
            "[129]\tTest-mae:19096.4\n",
            "[130]\tTest-mae:18936.6\n",
            "[131]\tTest-mae:18778.5\n",
            "[132]\tTest-mae:18624.3\n",
            "[133]\tTest-mae:18470.1\n",
            "[134]\tTest-mae:18318.6\n",
            "[135]\tTest-mae:18168.6\n",
            "[136]\tTest-mae:18021.4\n",
            "[137]\tTest-mae:17876.1\n",
            "[138]\tTest-mae:17734.5\n",
            "[139]\tTest-mae:17592.7\n",
            "[140]\tTest-mae:17453.9\n",
            "[141]\tTest-mae:17319\n",
            "[142]\tTest-mae:17185.3\n",
            "[143]\tTest-mae:17052\n",
            "[144]\tTest-mae:16921.7\n",
            "[145]\tTest-mae:16793\n",
            "[146]\tTest-mae:16666.7\n",
            "[147]\tTest-mae:16542.3\n",
            "[148]\tTest-mae:16420.6\n",
            "[149]\tTest-mae:16299.1\n",
            "[150]\tTest-mae:16181.5\n",
            "[151]\tTest-mae:16065\n",
            "[152]\tTest-mae:15949.8\n",
            "[153]\tTest-mae:15837.7\n",
            "[154]\tTest-mae:15727.1\n",
            "[155]\tTest-mae:15618.4\n",
            "[156]\tTest-mae:15510.9\n",
            "[157]\tTest-mae:15403.7\n",
            "[158]\tTest-mae:15299.1\n",
            "[159]\tTest-mae:15196.7\n",
            "[160]\tTest-mae:15095.7\n",
            "[161]\tTest-mae:14995.6\n",
            "[162]\tTest-mae:14898.3\n",
            "[163]\tTest-mae:14801.6\n",
            "[164]\tTest-mae:14707.3\n",
            "[165]\tTest-mae:14614.2\n",
            "[166]\tTest-mae:14521.9\n",
            "[167]\tTest-mae:14432.9\n",
            "[168]\tTest-mae:14345\n",
            "[169]\tTest-mae:14257.8\n",
            "[170]\tTest-mae:14172.9\n",
            "[171]\tTest-mae:14090.9\n",
            "[172]\tTest-mae:14009.7\n",
            "[173]\tTest-mae:13929.2\n",
            "[174]\tTest-mae:13850.3\n",
            "[175]\tTest-mae:13772.1\n",
            "[176]\tTest-mae:13694.4\n",
            "[177]\tTest-mae:13618.2\n",
            "[178]\tTest-mae:13542.9\n",
            "[179]\tTest-mae:13468.3\n",
            "[180]\tTest-mae:13395.8\n",
            "[181]\tTest-mae:13324.8\n",
            "[182]\tTest-mae:13254.2\n",
            "[183]\tTest-mae:13184.5\n",
            "[184]\tTest-mae:13117.1\n",
            "[185]\tTest-mae:13050.6\n",
            "[186]\tTest-mae:12986.5\n",
            "[187]\tTest-mae:12920.9\n",
            "[188]\tTest-mae:12858\n",
            "[189]\tTest-mae:12796.8\n",
            "[190]\tTest-mae:12737.9\n",
            "[191]\tTest-mae:12679.3\n",
            "[192]\tTest-mae:12621.6\n",
            "[193]\tTest-mae:12563.7\n",
            "[194]\tTest-mae:12509.2\n",
            "[195]\tTest-mae:12453.7\n",
            "[196]\tTest-mae:12400.3\n",
            "[197]\tTest-mae:12347.5\n",
            "[198]\tTest-mae:12295.8\n",
            "[199]\tTest-mae:12245.4\n",
            "[200]\tTest-mae:12196.2\n",
            "[201]\tTest-mae:12148.4\n",
            "[202]\tTest-mae:12099.7\n",
            "[203]\tTest-mae:12052.4\n",
            "[204]\tTest-mae:12006.3\n",
            "[205]\tTest-mae:11961.2\n",
            "[206]\tTest-mae:11916.8\n",
            "[207]\tTest-mae:11874\n",
            "[208]\tTest-mae:11831.4\n",
            "[209]\tTest-mae:11788.8\n",
            "[210]\tTest-mae:11748.1\n",
            "[211]\tTest-mae:11708.8\n",
            "[212]\tTest-mae:11668.9\n",
            "[213]\tTest-mae:11630.5\n",
            "[214]\tTest-mae:11593.1\n",
            "[215]\tTest-mae:11556.3\n",
            "[216]\tTest-mae:11519.8\n",
            "[217]\tTest-mae:11484.2\n",
            "[218]\tTest-mae:11448\n",
            "[219]\tTest-mae:11413.3\n",
            "[220]\tTest-mae:11380.3\n",
            "[221]\tTest-mae:11347.6\n",
            "[222]\tTest-mae:11313.9\n",
            "[223]\tTest-mae:11281.5\n",
            "[224]\tTest-mae:11249.1\n",
            "[225]\tTest-mae:11217.7\n",
            "[226]\tTest-mae:11186.5\n",
            "[227]\tTest-mae:11155.6\n",
            "[228]\tTest-mae:11127\n",
            "[229]\tTest-mae:11098.2\n",
            "[230]\tTest-mae:11070.2\n",
            "[231]\tTest-mae:11043.8\n",
            "[232]\tTest-mae:11015.8\n",
            "[233]\tTest-mae:10988.9\n",
            "[234]\tTest-mae:10963.1\n",
            "[235]\tTest-mae:10937.2\n",
            "[236]\tTest-mae:10913\n",
            "[237]\tTest-mae:10888.5\n",
            "[238]\tTest-mae:10864\n",
            "[239]\tTest-mae:10839.2\n",
            "[240]\tTest-mae:10816.8\n",
            "[241]\tTest-mae:10794.2\n",
            "[242]\tTest-mae:10772.1\n",
            "[243]\tTest-mae:10749.3\n",
            "[244]\tTest-mae:10727.2\n",
            "[245]\tTest-mae:10706\n",
            "[246]\tTest-mae:10685.7\n",
            "[247]\tTest-mae:10665.4\n",
            "[248]\tTest-mae:10644.9\n",
            "[249]\tTest-mae:10626.5\n",
            "[250]\tTest-mae:10606.8\n",
            "[251]\tTest-mae:10587.7\n",
            "[252]\tTest-mae:10568.3\n",
            "[253]\tTest-mae:10550.2\n",
            "[254]\tTest-mae:10532.9\n",
            "[255]\tTest-mae:10515.6\n",
            "[256]\tTest-mae:10497.5\n",
            "[257]\tTest-mae:10479.4\n",
            "[258]\tTest-mae:10462.6\n",
            "[259]\tTest-mae:10446.3\n",
            "[260]\tTest-mae:10430.6\n",
            "[261]\tTest-mae:10415.1\n",
            "[262]\tTest-mae:10400\n",
            "[263]\tTest-mae:10384.5\n",
            "[264]\tTest-mae:10370.7\n",
            "[265]\tTest-mae:10356.8\n",
            "[266]\tTest-mae:10342.3\n",
            "[267]\tTest-mae:10329.4\n",
            "[268]\tTest-mae:10315.5\n",
            "[269]\tTest-mae:10303.1\n",
            "[270]\tTest-mae:10289.5\n",
            "[271]\tTest-mae:10276.6\n",
            "[272]\tTest-mae:10264.2\n",
            "[273]\tTest-mae:10251.2\n",
            "[274]\tTest-mae:10239.3\n",
            "[275]\tTest-mae:10227.3\n",
            "[276]\tTest-mae:10215.7\n",
            "[277]\tTest-mae:10204.9\n",
            "[278]\tTest-mae:10194\n",
            "[279]\tTest-mae:10183.7\n",
            "[280]\tTest-mae:10172.7\n",
            "[281]\tTest-mae:10163.3\n",
            "[282]\tTest-mae:10152.7\n",
            "[283]\tTest-mae:10142.1\n",
            "[284]\tTest-mae:10133.1\n",
            "[285]\tTest-mae:10124.3\n",
            "[286]\tTest-mae:10115.3\n",
            "[287]\tTest-mae:10106.7\n",
            "[288]\tTest-mae:10098.7\n",
            "[289]\tTest-mae:10088.9\n",
            "[290]\tTest-mae:10080.8\n",
            "[291]\tTest-mae:10071.9\n",
            "[292]\tTest-mae:10065.1\n",
            "[293]\tTest-mae:10057.5\n",
            "[294]\tTest-mae:10051.3\n",
            "[295]\tTest-mae:10043.4\n",
            "[296]\tTest-mae:10035.9\n",
            "[297]\tTest-mae:10028.2\n",
            "[298]\tTest-mae:10020.1\n",
            "[299]\tTest-mae:10012.4\n",
            "[300]\tTest-mae:10004.3\n",
            "[301]\tTest-mae:9996.63\n",
            "[302]\tTest-mae:9989.47\n",
            "[303]\tTest-mae:9982.03\n",
            "[304]\tTest-mae:9976.79\n",
            "[305]\tTest-mae:9971.21\n",
            "[306]\tTest-mae:9964.62\n",
            "[307]\tTest-mae:9957.73\n",
            "[308]\tTest-mae:9950.34\n",
            "[309]\tTest-mae:9944.67\n",
            "[310]\tTest-mae:9938.46\n",
            "[311]\tTest-mae:9932.94\n",
            "[312]\tTest-mae:9927.89\n",
            "[313]\tTest-mae:9922.18\n",
            "[314]\tTest-mae:9916.99\n",
            "[315]\tTest-mae:9912.52\n",
            "[316]\tTest-mae:9906.87\n",
            "[317]\tTest-mae:9901.12\n",
            "[318]\tTest-mae:9896.38\n",
            "[319]\tTest-mae:9891.6\n",
            "[320]\tTest-mae:9886.63\n",
            "[321]\tTest-mae:9881.09\n",
            "[322]\tTest-mae:9876.48\n",
            "[323]\tTest-mae:9870.02\n",
            "[324]\tTest-mae:9866.7\n",
            "[325]\tTest-mae:9863.18\n",
            "[326]\tTest-mae:9859.06\n",
            "[327]\tTest-mae:9854.91\n",
            "[328]\tTest-mae:9851.21\n",
            "[329]\tTest-mae:9847.07\n",
            "[330]\tTest-mae:9843.64\n",
            "[331]\tTest-mae:9840.55\n",
            "[332]\tTest-mae:9836.24\n",
            "[333]\tTest-mae:9833.22\n",
            "[334]\tTest-mae:9828.72\n",
            "[335]\tTest-mae:9825.12\n",
            "[336]\tTest-mae:9822.84\n",
            "[337]\tTest-mae:9819.61\n",
            "[338]\tTest-mae:9816.47\n",
            "[339]\tTest-mae:9813.09\n",
            "[340]\tTest-mae:9808.46\n",
            "[341]\tTest-mae:9805.24\n",
            "[342]\tTest-mae:9801.68\n",
            "[343]\tTest-mae:9799.35\n",
            "[344]\tTest-mae:9796.68\n",
            "[345]\tTest-mae:9794.21\n",
            "[346]\tTest-mae:9791.85\n",
            "[347]\tTest-mae:9790.51\n",
            "[348]\tTest-mae:9788.95\n",
            "[349]\tTest-mae:9785.41\n",
            "[350]\tTest-mae:9783.09\n",
            "[351]\tTest-mae:9779.05\n",
            "[352]\tTest-mae:9775.87\n",
            "[353]\tTest-mae:9773.43\n",
            "[354]\tTest-mae:9772.25\n",
            "[355]\tTest-mae:9770.79\n",
            "[356]\tTest-mae:9767.88\n",
            "[357]\tTest-mae:9765.55\n",
            "[358]\tTest-mae:9763.36\n",
            "[359]\tTest-mae:9761.61\n",
            "[360]\tTest-mae:9759.72\n",
            "[361]\tTest-mae:9758.93\n",
            "[362]\tTest-mae:9756.85\n",
            "[363]\tTest-mae:9755.35\n",
            "[364]\tTest-mae:9753.67\n",
            "[365]\tTest-mae:9751.82\n",
            "[366]\tTest-mae:9749.59\n",
            "[367]\tTest-mae:9747.68\n",
            "[368]\tTest-mae:9745.8\n",
            "[369]\tTest-mae:9745.58\n",
            "[370]\tTest-mae:9744.19\n",
            "[371]\tTest-mae:9743.37\n",
            "[372]\tTest-mae:9742.03\n",
            "[373]\tTest-mae:9738.86\n",
            "[374]\tTest-mae:9737.44\n",
            "[375]\tTest-mae:9736.25\n",
            "[376]\tTest-mae:9734.66\n",
            "[377]\tTest-mae:9733.65\n",
            "[378]\tTest-mae:9732.73\n",
            "[379]\tTest-mae:9731.05\n",
            "[380]\tTest-mae:9729.82\n",
            "[381]\tTest-mae:9729.43\n",
            "[382]\tTest-mae:9728.21\n",
            "[383]\tTest-mae:9726.65\n",
            "[384]\tTest-mae:9725.6\n",
            "[385]\tTest-mae:9724.84\n",
            "[386]\tTest-mae:9723.34\n",
            "[387]\tTest-mae:9722.21\n",
            "[388]\tTest-mae:9722.46\n",
            "[389]\tTest-mae:9721.87\n",
            "[390]\tTest-mae:9721.23\n",
            "[391]\tTest-mae:9721.09\n",
            "[392]\tTest-mae:9720.9\n",
            "[393]\tTest-mae:9720.39\n",
            "[394]\tTest-mae:9719.54\n",
            "[395]\tTest-mae:9719.17\n",
            "[396]\tTest-mae:9718.86\n",
            "[397]\tTest-mae:9718.45\n",
            "[398]\tTest-mae:9718.66\n",
            "[399]\tTest-mae:9718.25\n",
            "[400]\tTest-mae:9716.95\n",
            "[401]\tTest-mae:9715.63\n",
            "[402]\tTest-mae:9714.65\n",
            "[403]\tTest-mae:9714.67\n",
            "[404]\tTest-mae:9714.36\n",
            "[405]\tTest-mae:9713.83\n",
            "[406]\tTest-mae:9713.75\n",
            "[407]\tTest-mae:9713.17\n",
            "[408]\tTest-mae:9712.98\n",
            "[409]\tTest-mae:9712.07\n",
            "[410]\tTest-mae:9711.46\n",
            "[411]\tTest-mae:9712.34\n",
            "[412]\tTest-mae:9711.13\n",
            "[413]\tTest-mae:9711.37\n",
            "[414]\tTest-mae:9711.05\n",
            "[415]\tTest-mae:9710.92\n",
            "[416]\tTest-mae:9710.31\n",
            "[417]\tTest-mae:9710.12\n",
            "[418]\tTest-mae:9709.14\n",
            "[419]\tTest-mae:9707.38\n",
            "[420]\tTest-mae:9706.87\n",
            "[421]\tTest-mae:9706.47\n",
            "[422]\tTest-mae:9705.85\n",
            "[423]\tTest-mae:9705.99\n",
            "[424]\tTest-mae:9706.56\n",
            "[425]\tTest-mae:9706.18\n",
            "[426]\tTest-mae:9705.99\n",
            "[427]\tTest-mae:9706.12\n",
            "[428]\tTest-mae:9706.22\n",
            "[429]\tTest-mae:9706.33\n",
            "[430]\tTest-mae:9706.45\n",
            "[431]\tTest-mae:9706.7\n",
            "[432]\tTest-mae:9706.75\n",
            "Stopping. Best iteration:\n",
            "[422]\tTest-mae:9705.85\n",
            "\n"
          ]
        }
      ]
    },
    {
      "cell_type": "code",
      "source": [
        "num_boost_round = model.best_iteration + 1\n",
        "best_model = xgb.train(\n",
        "    params,\n",
        "    dtrain,\n",
        "    num_boost_round=num_boost_round,\n",
        "    evals=[(dtest, \"Test\")]\n",
        ")"
      ],
      "metadata": {
        "id": "uZG7Z8kMXqkW",
        "outputId": "fcd45fca-bad3-43bb-8b49-652967c98207",
        "colab": {
          "base_uri": "https://localhost:8080/"
        }
      },
      "execution_count": 181,
      "outputs": [
        {
          "output_type": "stream",
          "name": "stdout",
          "text": [
            "[02:12:47] WARNING: /workspace/src/objective/regression_obj.cu:152: reg:linear is now deprecated in favor of reg:squarederror.\n",
            "[0]\tTest-mae:66824\n",
            "[1]\tTest-mae:66159.2\n",
            "[2]\tTest-mae:65502.5\n",
            "[3]\tTest-mae:64849.6\n",
            "[4]\tTest-mae:64205.4\n",
            "[5]\tTest-mae:63564.2\n",
            "[6]\tTest-mae:62931.6\n",
            "[7]\tTest-mae:62304.7\n",
            "[8]\tTest-mae:61684.8\n",
            "[9]\tTest-mae:61070.7\n",
            "[10]\tTest-mae:60463.6\n",
            "[11]\tTest-mae:59862.2\n",
            "[12]\tTest-mae:59263.6\n",
            "[13]\tTest-mae:58673.3\n",
            "[14]\tTest-mae:58089.2\n",
            "[15]\tTest-mae:57511.3\n",
            "[16]\tTest-mae:56939\n",
            "[17]\tTest-mae:56372.2\n",
            "[18]\tTest-mae:55810.1\n",
            "[19]\tTest-mae:55252.8\n",
            "[20]\tTest-mae:54702\n",
            "[21]\tTest-mae:54158.3\n",
            "[22]\tTest-mae:53619.9\n",
            "[23]\tTest-mae:53087.6\n",
            "[24]\tTest-mae:52559.2\n",
            "[25]\tTest-mae:52035.6\n",
            "[26]\tTest-mae:51517.3\n",
            "[27]\tTest-mae:51003.3\n",
            "[28]\tTest-mae:50495.9\n",
            "[29]\tTest-mae:49995\n",
            "[30]\tTest-mae:49497.6\n",
            "[31]\tTest-mae:49003.4\n",
            "[32]\tTest-mae:48517.4\n",
            "[33]\tTest-mae:48035\n",
            "[34]\tTest-mae:47558.6\n",
            "[35]\tTest-mae:47086.1\n",
            "[36]\tTest-mae:46615.9\n",
            "[37]\tTest-mae:46154.5\n",
            "[38]\tTest-mae:45696.6\n",
            "[39]\tTest-mae:45241.3\n",
            "[40]\tTest-mae:44791.6\n",
            "[41]\tTest-mae:44346.2\n",
            "[42]\tTest-mae:43904.3\n",
            "[43]\tTest-mae:43468\n",
            "[44]\tTest-mae:43035.1\n",
            "[45]\tTest-mae:42605.8\n",
            "[46]\tTest-mae:42183\n",
            "[47]\tTest-mae:41765\n",
            "[48]\tTest-mae:41351.4\n",
            "[49]\tTest-mae:40941.7\n",
            "[50]\tTest-mae:40535.8\n",
            "[51]\tTest-mae:40131\n",
            "[52]\tTest-mae:39735.1\n",
            "[53]\tTest-mae:39340.4\n",
            "[54]\tTest-mae:38948.4\n",
            "[55]\tTest-mae:38563.4\n",
            "[56]\tTest-mae:38179.5\n",
            "[57]\tTest-mae:37801.1\n",
            "[58]\tTest-mae:37424.8\n",
            "[59]\tTest-mae:37054.4\n",
            "[60]\tTest-mae:36688.2\n",
            "[61]\tTest-mae:36324.8\n",
            "[62]\tTest-mae:35964.1\n",
            "[63]\tTest-mae:35606.9\n",
            "[64]\tTest-mae:35255.3\n",
            "[65]\tTest-mae:34906\n",
            "[66]\tTest-mae:34560\n",
            "[67]\tTest-mae:34217.9\n",
            "[68]\tTest-mae:33882.4\n",
            "[69]\tTest-mae:33547.2\n",
            "[70]\tTest-mae:33218\n",
            "[71]\tTest-mae:32891.8\n",
            "[72]\tTest-mae:32569.2\n",
            "[73]\tTest-mae:32249.3\n",
            "[74]\tTest-mae:31930.2\n",
            "[75]\tTest-mae:31616.9\n",
            "[76]\tTest-mae:31308.6\n",
            "[77]\tTest-mae:31001.1\n",
            "[78]\tTest-mae:30697.2\n",
            "[79]\tTest-mae:30396.9\n",
            "[80]\tTest-mae:30102.1\n",
            "[81]\tTest-mae:29812.2\n",
            "[82]\tTest-mae:29520.7\n",
            "[83]\tTest-mae:29232.1\n",
            "[84]\tTest-mae:28945.8\n",
            "[85]\tTest-mae:28664.3\n",
            "[86]\tTest-mae:28385.8\n",
            "[87]\tTest-mae:28109.6\n",
            "[88]\tTest-mae:27837\n",
            "[89]\tTest-mae:27567\n",
            "[90]\tTest-mae:27301.1\n",
            "[91]\tTest-mae:27037.7\n",
            "[92]\tTest-mae:26777.7\n",
            "[93]\tTest-mae:26521\n",
            "[94]\tTest-mae:26267.4\n",
            "[95]\tTest-mae:26016.3\n",
            "[96]\tTest-mae:25767\n",
            "[97]\tTest-mae:25520.9\n",
            "[98]\tTest-mae:25278.9\n",
            "[99]\tTest-mae:25039.8\n",
            "[100]\tTest-mae:24806\n",
            "[101]\tTest-mae:24571\n",
            "[102]\tTest-mae:24340.5\n",
            "[103]\tTest-mae:24112\n",
            "[104]\tTest-mae:23885.7\n",
            "[105]\tTest-mae:23664.3\n",
            "[106]\tTest-mae:23445.1\n",
            "[107]\tTest-mae:23226.5\n",
            "[108]\tTest-mae:23012.6\n",
            "[109]\tTest-mae:22799.2\n",
            "[110]\tTest-mae:22589\n",
            "[111]\tTest-mae:22381.5\n",
            "[112]\tTest-mae:22179.1\n",
            "[113]\tTest-mae:21979.1\n",
            "[114]\tTest-mae:21780.8\n",
            "[115]\tTest-mae:21584.5\n",
            "[116]\tTest-mae:21391.6\n",
            "[117]\tTest-mae:21201.7\n",
            "[118]\tTest-mae:21011.7\n",
            "[119]\tTest-mae:20826.4\n",
            "[120]\tTest-mae:20641.5\n",
            "[121]\tTest-mae:20458.7\n",
            "[122]\tTest-mae:20281\n",
            "[123]\tTest-mae:20104.2\n",
            "[124]\tTest-mae:19930.4\n",
            "[125]\tTest-mae:19760.4\n",
            "[126]\tTest-mae:19591.1\n",
            "[127]\tTest-mae:19424.6\n",
            "[128]\tTest-mae:19259.4\n",
            "[129]\tTest-mae:19096.4\n",
            "[130]\tTest-mae:18936.6\n",
            "[131]\tTest-mae:18778.5\n",
            "[132]\tTest-mae:18624.3\n",
            "[133]\tTest-mae:18470.1\n",
            "[134]\tTest-mae:18318.6\n",
            "[135]\tTest-mae:18168.6\n",
            "[136]\tTest-mae:18021.4\n",
            "[137]\tTest-mae:17876.1\n",
            "[138]\tTest-mae:17734.5\n",
            "[139]\tTest-mae:17592.7\n",
            "[140]\tTest-mae:17453.9\n",
            "[141]\tTest-mae:17319\n",
            "[142]\tTest-mae:17185.3\n",
            "[143]\tTest-mae:17052\n",
            "[144]\tTest-mae:16921.7\n",
            "[145]\tTest-mae:16793\n",
            "[146]\tTest-mae:16666.7\n",
            "[147]\tTest-mae:16542.3\n",
            "[148]\tTest-mae:16420.6\n",
            "[149]\tTest-mae:16299.1\n",
            "[150]\tTest-mae:16181.5\n",
            "[151]\tTest-mae:16065\n",
            "[152]\tTest-mae:15949.8\n",
            "[153]\tTest-mae:15837.7\n",
            "[154]\tTest-mae:15727.1\n",
            "[155]\tTest-mae:15618.4\n",
            "[156]\tTest-mae:15510.9\n",
            "[157]\tTest-mae:15403.7\n",
            "[158]\tTest-mae:15299.1\n",
            "[159]\tTest-mae:15196.7\n",
            "[160]\tTest-mae:15095.7\n",
            "[161]\tTest-mae:14995.6\n",
            "[162]\tTest-mae:14898.3\n",
            "[163]\tTest-mae:14801.6\n",
            "[164]\tTest-mae:14707.3\n",
            "[165]\tTest-mae:14614.2\n",
            "[166]\tTest-mae:14521.9\n",
            "[167]\tTest-mae:14432.9\n",
            "[168]\tTest-mae:14345\n",
            "[169]\tTest-mae:14257.8\n",
            "[170]\tTest-mae:14172.9\n",
            "[171]\tTest-mae:14090.9\n",
            "[172]\tTest-mae:14009.7\n",
            "[173]\tTest-mae:13929.2\n",
            "[174]\tTest-mae:13850.3\n",
            "[175]\tTest-mae:13772.1\n",
            "[176]\tTest-mae:13694.4\n",
            "[177]\tTest-mae:13618.2\n",
            "[178]\tTest-mae:13542.9\n",
            "[179]\tTest-mae:13468.3\n",
            "[180]\tTest-mae:13395.8\n",
            "[181]\tTest-mae:13324.8\n",
            "[182]\tTest-mae:13254.2\n",
            "[183]\tTest-mae:13184.5\n",
            "[184]\tTest-mae:13117.1\n",
            "[185]\tTest-mae:13050.6\n",
            "[186]\tTest-mae:12986.5\n",
            "[187]\tTest-mae:12920.9\n",
            "[188]\tTest-mae:12858\n",
            "[189]\tTest-mae:12796.8\n",
            "[190]\tTest-mae:12737.9\n",
            "[191]\tTest-mae:12679.3\n",
            "[192]\tTest-mae:12621.6\n",
            "[193]\tTest-mae:12563.7\n",
            "[194]\tTest-mae:12509.2\n",
            "[195]\tTest-mae:12453.7\n",
            "[196]\tTest-mae:12400.3\n",
            "[197]\tTest-mae:12347.5\n",
            "[198]\tTest-mae:12295.8\n",
            "[199]\tTest-mae:12245.4\n",
            "[200]\tTest-mae:12196.2\n",
            "[201]\tTest-mae:12148.4\n",
            "[202]\tTest-mae:12099.7\n",
            "[203]\tTest-mae:12052.4\n",
            "[204]\tTest-mae:12006.3\n",
            "[205]\tTest-mae:11961.2\n",
            "[206]\tTest-mae:11916.8\n",
            "[207]\tTest-mae:11874\n",
            "[208]\tTest-mae:11831.4\n",
            "[209]\tTest-mae:11788.8\n",
            "[210]\tTest-mae:11748.1\n",
            "[211]\tTest-mae:11708.8\n",
            "[212]\tTest-mae:11668.9\n",
            "[213]\tTest-mae:11630.5\n",
            "[214]\tTest-mae:11593.1\n",
            "[215]\tTest-mae:11556.3\n",
            "[216]\tTest-mae:11519.8\n",
            "[217]\tTest-mae:11484.2\n",
            "[218]\tTest-mae:11448\n",
            "[219]\tTest-mae:11413.3\n",
            "[220]\tTest-mae:11380.3\n",
            "[221]\tTest-mae:11347.6\n",
            "[222]\tTest-mae:11313.9\n",
            "[223]\tTest-mae:11281.5\n",
            "[224]\tTest-mae:11249.1\n",
            "[225]\tTest-mae:11217.7\n",
            "[226]\tTest-mae:11186.5\n",
            "[227]\tTest-mae:11155.6\n",
            "[228]\tTest-mae:11127\n",
            "[229]\tTest-mae:11098.2\n",
            "[230]\tTest-mae:11070.2\n",
            "[231]\tTest-mae:11043.8\n",
            "[232]\tTest-mae:11015.8\n",
            "[233]\tTest-mae:10988.9\n",
            "[234]\tTest-mae:10963.1\n",
            "[235]\tTest-mae:10937.2\n",
            "[236]\tTest-mae:10913\n",
            "[237]\tTest-mae:10888.5\n",
            "[238]\tTest-mae:10864\n",
            "[239]\tTest-mae:10839.2\n",
            "[240]\tTest-mae:10816.8\n",
            "[241]\tTest-mae:10794.2\n",
            "[242]\tTest-mae:10772.1\n",
            "[243]\tTest-mae:10749.3\n",
            "[244]\tTest-mae:10727.2\n",
            "[245]\tTest-mae:10706\n",
            "[246]\tTest-mae:10685.7\n",
            "[247]\tTest-mae:10665.4\n",
            "[248]\tTest-mae:10644.9\n",
            "[249]\tTest-mae:10626.5\n",
            "[250]\tTest-mae:10606.8\n",
            "[251]\tTest-mae:10587.7\n",
            "[252]\tTest-mae:10568.3\n",
            "[253]\tTest-mae:10550.2\n",
            "[254]\tTest-mae:10532.9\n",
            "[255]\tTest-mae:10515.6\n",
            "[256]\tTest-mae:10497.5\n",
            "[257]\tTest-mae:10479.4\n",
            "[258]\tTest-mae:10462.6\n",
            "[259]\tTest-mae:10446.3\n",
            "[260]\tTest-mae:10430.6\n",
            "[261]\tTest-mae:10415.1\n",
            "[262]\tTest-mae:10400\n",
            "[263]\tTest-mae:10384.5\n",
            "[264]\tTest-mae:10370.7\n",
            "[265]\tTest-mae:10356.8\n",
            "[266]\tTest-mae:10342.3\n",
            "[267]\tTest-mae:10329.4\n",
            "[268]\tTest-mae:10315.5\n",
            "[269]\tTest-mae:10303.1\n",
            "[270]\tTest-mae:10289.5\n",
            "[271]\tTest-mae:10276.6\n",
            "[272]\tTest-mae:10264.2\n",
            "[273]\tTest-mae:10251.2\n",
            "[274]\tTest-mae:10239.3\n",
            "[275]\tTest-mae:10227.3\n",
            "[276]\tTest-mae:10215.7\n",
            "[277]\tTest-mae:10204.9\n",
            "[278]\tTest-mae:10194\n",
            "[279]\tTest-mae:10183.7\n",
            "[280]\tTest-mae:10172.7\n",
            "[281]\tTest-mae:10163.3\n",
            "[282]\tTest-mae:10152.7\n",
            "[283]\tTest-mae:10142.1\n",
            "[284]\tTest-mae:10133.1\n",
            "[285]\tTest-mae:10124.3\n",
            "[286]\tTest-mae:10115.3\n",
            "[287]\tTest-mae:10106.7\n",
            "[288]\tTest-mae:10098.7\n",
            "[289]\tTest-mae:10088.9\n",
            "[290]\tTest-mae:10080.8\n",
            "[291]\tTest-mae:10071.9\n",
            "[292]\tTest-mae:10065.1\n",
            "[293]\tTest-mae:10057.5\n",
            "[294]\tTest-mae:10051.3\n",
            "[295]\tTest-mae:10043.4\n",
            "[296]\tTest-mae:10035.9\n",
            "[297]\tTest-mae:10028.2\n",
            "[298]\tTest-mae:10020.1\n",
            "[299]\tTest-mae:10012.4\n",
            "[300]\tTest-mae:10004.3\n",
            "[301]\tTest-mae:9996.63\n",
            "[302]\tTest-mae:9989.47\n",
            "[303]\tTest-mae:9982.03\n",
            "[304]\tTest-mae:9976.79\n",
            "[305]\tTest-mae:9971.21\n",
            "[306]\tTest-mae:9964.62\n",
            "[307]\tTest-mae:9957.73\n",
            "[308]\tTest-mae:9950.34\n",
            "[309]\tTest-mae:9944.67\n",
            "[310]\tTest-mae:9938.46\n",
            "[311]\tTest-mae:9932.94\n",
            "[312]\tTest-mae:9927.89\n",
            "[313]\tTest-mae:9922.18\n",
            "[314]\tTest-mae:9916.99\n",
            "[315]\tTest-mae:9912.52\n",
            "[316]\tTest-mae:9906.87\n",
            "[317]\tTest-mae:9901.12\n",
            "[318]\tTest-mae:9896.38\n",
            "[319]\tTest-mae:9891.6\n",
            "[320]\tTest-mae:9886.63\n",
            "[321]\tTest-mae:9881.09\n",
            "[322]\tTest-mae:9876.48\n",
            "[323]\tTest-mae:9870.02\n",
            "[324]\tTest-mae:9866.7\n",
            "[325]\tTest-mae:9863.18\n",
            "[326]\tTest-mae:9859.06\n",
            "[327]\tTest-mae:9854.91\n",
            "[328]\tTest-mae:9851.21\n",
            "[329]\tTest-mae:9847.07\n",
            "[330]\tTest-mae:9843.64\n",
            "[331]\tTest-mae:9840.55\n",
            "[332]\tTest-mae:9836.24\n",
            "[333]\tTest-mae:9833.22\n",
            "[334]\tTest-mae:9828.72\n",
            "[335]\tTest-mae:9825.12\n",
            "[336]\tTest-mae:9822.84\n",
            "[337]\tTest-mae:9819.61\n",
            "[338]\tTest-mae:9816.47\n",
            "[339]\tTest-mae:9813.09\n",
            "[340]\tTest-mae:9808.46\n",
            "[341]\tTest-mae:9805.24\n",
            "[342]\tTest-mae:9801.68\n",
            "[343]\tTest-mae:9799.35\n",
            "[344]\tTest-mae:9796.68\n",
            "[345]\tTest-mae:9794.21\n",
            "[346]\tTest-mae:9791.85\n",
            "[347]\tTest-mae:9790.51\n",
            "[348]\tTest-mae:9788.95\n",
            "[349]\tTest-mae:9785.41\n",
            "[350]\tTest-mae:9783.09\n",
            "[351]\tTest-mae:9779.05\n",
            "[352]\tTest-mae:9775.87\n",
            "[353]\tTest-mae:9773.43\n",
            "[354]\tTest-mae:9772.25\n",
            "[355]\tTest-mae:9770.79\n",
            "[356]\tTest-mae:9767.88\n",
            "[357]\tTest-mae:9765.55\n",
            "[358]\tTest-mae:9763.36\n",
            "[359]\tTest-mae:9761.61\n",
            "[360]\tTest-mae:9759.72\n",
            "[361]\tTest-mae:9758.93\n",
            "[362]\tTest-mae:9756.85\n",
            "[363]\tTest-mae:9755.35\n",
            "[364]\tTest-mae:9753.67\n",
            "[365]\tTest-mae:9751.82\n",
            "[366]\tTest-mae:9749.59\n",
            "[367]\tTest-mae:9747.68\n",
            "[368]\tTest-mae:9745.8\n",
            "[369]\tTest-mae:9745.58\n",
            "[370]\tTest-mae:9744.19\n",
            "[371]\tTest-mae:9743.37\n",
            "[372]\tTest-mae:9742.03\n",
            "[373]\tTest-mae:9738.86\n",
            "[374]\tTest-mae:9737.44\n",
            "[375]\tTest-mae:9736.25\n",
            "[376]\tTest-mae:9734.66\n",
            "[377]\tTest-mae:9733.65\n",
            "[378]\tTest-mae:9732.73\n",
            "[379]\tTest-mae:9731.05\n",
            "[380]\tTest-mae:9729.82\n",
            "[381]\tTest-mae:9729.43\n",
            "[382]\tTest-mae:9728.21\n",
            "[383]\tTest-mae:9726.65\n",
            "[384]\tTest-mae:9725.6\n",
            "[385]\tTest-mae:9724.84\n",
            "[386]\tTest-mae:9723.34\n",
            "[387]\tTest-mae:9722.21\n",
            "[388]\tTest-mae:9722.46\n",
            "[389]\tTest-mae:9721.87\n",
            "[390]\tTest-mae:9721.23\n",
            "[391]\tTest-mae:9721.09\n",
            "[392]\tTest-mae:9720.9\n",
            "[393]\tTest-mae:9720.39\n",
            "[394]\tTest-mae:9719.54\n",
            "[395]\tTest-mae:9719.17\n",
            "[396]\tTest-mae:9718.86\n",
            "[397]\tTest-mae:9718.45\n",
            "[398]\tTest-mae:9718.66\n",
            "[399]\tTest-mae:9718.25\n",
            "[400]\tTest-mae:9716.95\n",
            "[401]\tTest-mae:9715.63\n",
            "[402]\tTest-mae:9714.65\n",
            "[403]\tTest-mae:9714.67\n",
            "[404]\tTest-mae:9714.36\n",
            "[405]\tTest-mae:9713.83\n",
            "[406]\tTest-mae:9713.75\n",
            "[407]\tTest-mae:9713.17\n",
            "[408]\tTest-mae:9712.98\n",
            "[409]\tTest-mae:9712.07\n",
            "[410]\tTest-mae:9711.46\n",
            "[411]\tTest-mae:9712.34\n",
            "[412]\tTest-mae:9711.13\n",
            "[413]\tTest-mae:9711.37\n",
            "[414]\tTest-mae:9711.05\n",
            "[415]\tTest-mae:9710.92\n",
            "[416]\tTest-mae:9710.31\n",
            "[417]\tTest-mae:9710.12\n",
            "[418]\tTest-mae:9709.14\n",
            "[419]\tTest-mae:9707.38\n",
            "[420]\tTest-mae:9706.87\n",
            "[421]\tTest-mae:9706.47\n",
            "[422]\tTest-mae:9705.85\n"
          ]
        }
      ]
    },
    {
      "cell_type": "code",
      "source": [
        "preds_tuned = best_model.predict(dtest)\n",
        "# Calculate the absolute percentage errors\n",
        "MAPE_tuned = MAPE(y_test, preds_tuned)\n",
        "print('MAPE_tuned:', round(100*MAPE_tuned, 2))"
      ],
      "metadata": {
        "id": "rpNvVM-gX5Re",
        "outputId": "898fa530-dba8-4469-ba65-d23c9f31e2d3",
        "colab": {
          "base_uri": "https://localhost:8080/"
        }
      },
      "execution_count": 182,
      "outputs": [
        {
          "output_type": "stream",
          "name": "stdout",
          "text": [
            "MAPE_tuned: 12.65\n"
          ]
        }
      ]
    },
    {
      "cell_type": "code",
      "source": [
        "#data de test\n",
        "url='https://drive.google.com/file/d/1sMkorQLOmf2cNGRwXkQLKeciGSUpL_ez/view?usp=sharing'\n",
        "url='https://drive.google.com/uc?id=' + url.split('/')[-2]\n",
        "df_test_original = pd.read_csv(url)\n",
        "\n",
        "df_test_original.head()"
      ],
      "metadata": {
        "id": "h6m7XceWQITM",
        "outputId": "c69abbfc-5177-480e-9db9-fc6507139475",
        "colab": {
          "base_uri": "https://localhost:8080/",
          "height": 317
        }
      },
      "execution_count": null,
      "outputs": [
        {
          "output_type": "execute_result",
          "data": {
            "text/plain": [
              "   Unnamed: 0        vigente   vigenteAvg3M  vencido  vencidoAvg3M  \\\n",
              "0       40001   10725.957382   11480.961340      0.0           0.0   \n",
              "1       40002   82242.277287   77710.508800      0.0           0.0   \n",
              "2       40003    1646.607555    1836.928522      0.0           0.0   \n",
              "3       40004    8740.977410    8640.764002      0.0           0.0   \n",
              "4       40005  365107.557629  366550.793336      0.0           0.0   \n",
              "\n",
              "   avgcontingenciaU1M  avgcontingenciaU3M  sumcontingenciaU1M  \\\n",
              "0        19510.697566        23402.938295        19510.697566   \n",
              "1        13968.618508        14816.095112        27937.237016   \n",
              "2        71846.928147        68585.407866        71846.928147   \n",
              "3        24560.879097        26136.018124        49121.758195   \n",
              "4        13879.429839        11677.655495        27758.859677   \n",
              "\n",
              "   sumcontingenciaU3M  maxcontingenciaU1M  ...  numeroinstituciones  \\\n",
              "0        20719.358643        19510.697566  ...                    2   \n",
              "1        23324.599806        17527.530907  ...                    5   \n",
              "2        83632.771011        71846.928147  ...                    2   \n",
              "3        48865.156174        42492.834450  ...                    2   \n",
              "4        28020.443219        23587.864067  ...                    2   \n",
              "\n",
              "   numerobancosprivados  numerobancospublicos numerofinancieras  numerobancos  \\\n",
              "0                     0                     0                 2             0   \n",
              "1                     0                     1                 4             1   \n",
              "2                     2                     0                 0             2   \n",
              "3                     1                     1                 0             2   \n",
              "4                     1                     1                 0             2   \n",
              "\n",
              "   numerode5ult18meses  numerode2Bult18meses  numerode3ult18meses  edad  \\\n",
              "0                    0                     3                    0  29.0   \n",
              "1                    0                     1                    0  66.0   \n",
              "2                    0                     4                    0  35.0   \n",
              "3                    0                     0                    0  54.0   \n",
              "4                    0                     1                    0   NaN   \n",
              "\n",
              "   numeromesesreportados  \n",
              "0                     24  \n",
              "1                     24  \n",
              "2                     24  \n",
              "3                     24  \n",
              "4                     19  \n",
              "\n",
              "[5 rows x 24 columns]"
            ],
            "text/html": [
              "\n",
              "  <div id=\"df-ee7e88de-237a-46b5-a946-d15e84ddf6f5\">\n",
              "    <div class=\"colab-df-container\">\n",
              "      <div>\n",
              "<style scoped>\n",
              "    .dataframe tbody tr th:only-of-type {\n",
              "        vertical-align: middle;\n",
              "    }\n",
              "\n",
              "    .dataframe tbody tr th {\n",
              "        vertical-align: top;\n",
              "    }\n",
              "\n",
              "    .dataframe thead th {\n",
              "        text-align: right;\n",
              "    }\n",
              "</style>\n",
              "<table border=\"1\" class=\"dataframe\">\n",
              "  <thead>\n",
              "    <tr style=\"text-align: right;\">\n",
              "      <th></th>\n",
              "      <th>Unnamed: 0</th>\n",
              "      <th>vigente</th>\n",
              "      <th>vigenteAvg3M</th>\n",
              "      <th>vencido</th>\n",
              "      <th>vencidoAvg3M</th>\n",
              "      <th>avgcontingenciaU1M</th>\n",
              "      <th>avgcontingenciaU3M</th>\n",
              "      <th>sumcontingenciaU1M</th>\n",
              "      <th>sumcontingenciaU3M</th>\n",
              "      <th>maxcontingenciaU1M</th>\n",
              "      <th>...</th>\n",
              "      <th>numeroinstituciones</th>\n",
              "      <th>numerobancosprivados</th>\n",
              "      <th>numerobancospublicos</th>\n",
              "      <th>numerofinancieras</th>\n",
              "      <th>numerobancos</th>\n",
              "      <th>numerode5ult18meses</th>\n",
              "      <th>numerode2Bult18meses</th>\n",
              "      <th>numerode3ult18meses</th>\n",
              "      <th>edad</th>\n",
              "      <th>numeromesesreportados</th>\n",
              "    </tr>\n",
              "  </thead>\n",
              "  <tbody>\n",
              "    <tr>\n",
              "      <th>0</th>\n",
              "      <td>40001</td>\n",
              "      <td>10725.957382</td>\n",
              "      <td>11480.961340</td>\n",
              "      <td>0.0</td>\n",
              "      <td>0.0</td>\n",
              "      <td>19510.697566</td>\n",
              "      <td>23402.938295</td>\n",
              "      <td>19510.697566</td>\n",
              "      <td>20719.358643</td>\n",
              "      <td>19510.697566</td>\n",
              "      <td>...</td>\n",
              "      <td>2</td>\n",
              "      <td>0</td>\n",
              "      <td>0</td>\n",
              "      <td>2</td>\n",
              "      <td>0</td>\n",
              "      <td>0</td>\n",
              "      <td>3</td>\n",
              "      <td>0</td>\n",
              "      <td>29.0</td>\n",
              "      <td>24</td>\n",
              "    </tr>\n",
              "    <tr>\n",
              "      <th>1</th>\n",
              "      <td>40002</td>\n",
              "      <td>82242.277287</td>\n",
              "      <td>77710.508800</td>\n",
              "      <td>0.0</td>\n",
              "      <td>0.0</td>\n",
              "      <td>13968.618508</td>\n",
              "      <td>14816.095112</td>\n",
              "      <td>27937.237016</td>\n",
              "      <td>23324.599806</td>\n",
              "      <td>17527.530907</td>\n",
              "      <td>...</td>\n",
              "      <td>5</td>\n",
              "      <td>0</td>\n",
              "      <td>1</td>\n",
              "      <td>4</td>\n",
              "      <td>1</td>\n",
              "      <td>0</td>\n",
              "      <td>1</td>\n",
              "      <td>0</td>\n",
              "      <td>66.0</td>\n",
              "      <td>24</td>\n",
              "    </tr>\n",
              "    <tr>\n",
              "      <th>2</th>\n",
              "      <td>40003</td>\n",
              "      <td>1646.607555</td>\n",
              "      <td>1836.928522</td>\n",
              "      <td>0.0</td>\n",
              "      <td>0.0</td>\n",
              "      <td>71846.928147</td>\n",
              "      <td>68585.407866</td>\n",
              "      <td>71846.928147</td>\n",
              "      <td>83632.771011</td>\n",
              "      <td>71846.928147</td>\n",
              "      <td>...</td>\n",
              "      <td>2</td>\n",
              "      <td>2</td>\n",
              "      <td>0</td>\n",
              "      <td>0</td>\n",
              "      <td>2</td>\n",
              "      <td>0</td>\n",
              "      <td>4</td>\n",
              "      <td>0</td>\n",
              "      <td>35.0</td>\n",
              "      <td>24</td>\n",
              "    </tr>\n",
              "    <tr>\n",
              "      <th>3</th>\n",
              "      <td>40004</td>\n",
              "      <td>8740.977410</td>\n",
              "      <td>8640.764002</td>\n",
              "      <td>0.0</td>\n",
              "      <td>0.0</td>\n",
              "      <td>24560.879097</td>\n",
              "      <td>26136.018124</td>\n",
              "      <td>49121.758195</td>\n",
              "      <td>48865.156174</td>\n",
              "      <td>42492.834450</td>\n",
              "      <td>...</td>\n",
              "      <td>2</td>\n",
              "      <td>1</td>\n",
              "      <td>1</td>\n",
              "      <td>0</td>\n",
              "      <td>2</td>\n",
              "      <td>0</td>\n",
              "      <td>0</td>\n",
              "      <td>0</td>\n",
              "      <td>54.0</td>\n",
              "      <td>24</td>\n",
              "    </tr>\n",
              "    <tr>\n",
              "      <th>4</th>\n",
              "      <td>40005</td>\n",
              "      <td>365107.557629</td>\n",
              "      <td>366550.793336</td>\n",
              "      <td>0.0</td>\n",
              "      <td>0.0</td>\n",
              "      <td>13879.429839</td>\n",
              "      <td>11677.655495</td>\n",
              "      <td>27758.859677</td>\n",
              "      <td>28020.443219</td>\n",
              "      <td>23587.864067</td>\n",
              "      <td>...</td>\n",
              "      <td>2</td>\n",
              "      <td>1</td>\n",
              "      <td>1</td>\n",
              "      <td>0</td>\n",
              "      <td>2</td>\n",
              "      <td>0</td>\n",
              "      <td>1</td>\n",
              "      <td>0</td>\n",
              "      <td>NaN</td>\n",
              "      <td>19</td>\n",
              "    </tr>\n",
              "  </tbody>\n",
              "</table>\n",
              "<p>5 rows × 24 columns</p>\n",
              "</div>\n",
              "      <button class=\"colab-df-convert\" onclick=\"convertToInteractive('df-ee7e88de-237a-46b5-a946-d15e84ddf6f5')\"\n",
              "              title=\"Convert this dataframe to an interactive table.\"\n",
              "              style=\"display:none;\">\n",
              "        \n",
              "  <svg xmlns=\"http://www.w3.org/2000/svg\" height=\"24px\"viewBox=\"0 0 24 24\"\n",
              "       width=\"24px\">\n",
              "    <path d=\"M0 0h24v24H0V0z\" fill=\"none\"/>\n",
              "    <path d=\"M18.56 5.44l.94 2.06.94-2.06 2.06-.94-2.06-.94-.94-2.06-.94 2.06-2.06.94zm-11 1L8.5 8.5l.94-2.06 2.06-.94-2.06-.94L8.5 2.5l-.94 2.06-2.06.94zm10 10l.94 2.06.94-2.06 2.06-.94-2.06-.94-.94-2.06-.94 2.06-2.06.94z\"/><path d=\"M17.41 7.96l-1.37-1.37c-.4-.4-.92-.59-1.43-.59-.52 0-1.04.2-1.43.59L10.3 9.45l-7.72 7.72c-.78.78-.78 2.05 0 2.83L4 21.41c.39.39.9.59 1.41.59.51 0 1.02-.2 1.41-.59l7.78-7.78 2.81-2.81c.8-.78.8-2.07 0-2.86zM5.41 20L4 18.59l7.72-7.72 1.47 1.35L5.41 20z\"/>\n",
              "  </svg>\n",
              "      </button>\n",
              "      \n",
              "  <style>\n",
              "    .colab-df-container {\n",
              "      display:flex;\n",
              "      flex-wrap:wrap;\n",
              "      gap: 12px;\n",
              "    }\n",
              "\n",
              "    .colab-df-convert {\n",
              "      background-color: #E8F0FE;\n",
              "      border: none;\n",
              "      border-radius: 50%;\n",
              "      cursor: pointer;\n",
              "      display: none;\n",
              "      fill: #1967D2;\n",
              "      height: 32px;\n",
              "      padding: 0 0 0 0;\n",
              "      width: 32px;\n",
              "    }\n",
              "\n",
              "    .colab-df-convert:hover {\n",
              "      background-color: #E2EBFA;\n",
              "      box-shadow: 0px 1px 2px rgba(60, 64, 67, 0.3), 0px 1px 3px 1px rgba(60, 64, 67, 0.15);\n",
              "      fill: #174EA6;\n",
              "    }\n",
              "\n",
              "    [theme=dark] .colab-df-convert {\n",
              "      background-color: #3B4455;\n",
              "      fill: #D2E3FC;\n",
              "    }\n",
              "\n",
              "    [theme=dark] .colab-df-convert:hover {\n",
              "      background-color: #434B5C;\n",
              "      box-shadow: 0px 1px 3px 1px rgba(0, 0, 0, 0.15);\n",
              "      filter: drop-shadow(0px 1px 2px rgba(0, 0, 0, 0.3));\n",
              "      fill: #FFFFFF;\n",
              "    }\n",
              "  </style>\n",
              "\n",
              "      <script>\n",
              "        const buttonEl =\n",
              "          document.querySelector('#df-ee7e88de-237a-46b5-a946-d15e84ddf6f5 button.colab-df-convert');\n",
              "        buttonEl.style.display =\n",
              "          google.colab.kernel.accessAllowed ? 'block' : 'none';\n",
              "\n",
              "        async function convertToInteractive(key) {\n",
              "          const element = document.querySelector('#df-ee7e88de-237a-46b5-a946-d15e84ddf6f5');\n",
              "          const dataTable =\n",
              "            await google.colab.kernel.invokeFunction('convertToInteractive',\n",
              "                                                     [key], {});\n",
              "          if (!dataTable) return;\n",
              "\n",
              "          const docLinkHtml = 'Like what you see? Visit the ' +\n",
              "            '<a target=\"_blank\" href=https://colab.research.google.com/notebooks/data_table.ipynb>data table notebook</a>'\n",
              "            + ' to learn more about interactive tables.';\n",
              "          element.innerHTML = '';\n",
              "          dataTable['output_type'] = 'display_data';\n",
              "          await google.colab.output.renderOutput(dataTable, element);\n",
              "          const docLink = document.createElement('div');\n",
              "          docLink.innerHTML = docLinkHtml;\n",
              "          element.appendChild(docLink);\n",
              "        }\n",
              "      </script>\n",
              "    </div>\n",
              "  </div>\n",
              "  "
            ]
          },
          "metadata": {},
          "execution_count": 40
        }
      ]
    },
    {
      "cell_type": "code",
      "source": [
        "df_test = transfromar_DataFrame(df_test_original)\n"
      ],
      "metadata": {
        "id": "m1DZoRB8VmAO"
      },
      "execution_count": null,
      "outputs": []
    },
    {
      "cell_type": "code",
      "source": [
        "d_test = xgb.DMatrix(df_test)"
      ],
      "metadata": {
        "id": "1MU17RoFWIHo"
      },
      "execution_count": null,
      "outputs": []
    },
    {
      "cell_type": "code",
      "source": [
        "preds_datathon = best_model.predict(d_test)"
      ],
      "metadata": {
        "id": "a4amkxAAWYOQ"
      },
      "execution_count": null,
      "outputs": []
    },
    {
      "cell_type": "code",
      "source": [
        "pd.DataFrame(preds_datathon).to_csv('predicciones.csv') "
      ],
      "metadata": {
        "id": "l_y5kAzbWeTO"
      },
      "execution_count": null,
      "outputs": []
    }
  ]
}